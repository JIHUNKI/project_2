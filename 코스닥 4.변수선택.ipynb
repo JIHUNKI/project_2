{
 "cells": [
  {
   "cell_type": "code",
   "execution_count": 83,
   "metadata": {},
   "outputs": [],
   "source": [
    "import pandas as pd \n",
    "import numpy as np\n",
    "\n",
    "\n",
    "from sklearn.discriminant_analysis import LinearDiscriminantAnalysis\n",
    "from sklearn.linear_model import LogisticRegression\n",
    "from sklearn.naive_bayes import GaussianNB\n",
    "\n",
    "from sklearn.ensemble import RandomForestClassifier\n",
    "from xgboost import XGBClassifier\n",
    "\n",
    "from sklearn.feature_selection import SelectFromModel,SequentialFeatureSelector\n",
    "\n",
    "from sklearn.metrics import f1_score,accuracy_score,recall_score,precision_score,confusion_matrix,roc_auc_score\n",
    "\n",
    "import warnings\n",
    "warnings.simplefilter('ignore')"
   ]
  },
  {
   "cell_type": "code",
   "execution_count": 84,
   "metadata": {},
   "outputs": [],
   "source": [
    "def model_basic(x_train, y_train, x_test, y_test):\n",
    "    models = [\n",
    "        LogisticRegression(),\n",
    "        LinearDiscriminantAnalysis(),\n",
    "        GaussianNB(),\n",
    "        RandomForestClassifier(),\n",
    "        XGBClassifier(),\n",
    "        \n",
    "    ]\n",
    "\n",
    "    rdict = {'model': [], 'accuracy': [], 'precision': [], 'recall': [], 'f1_score': [], 'auc_score': []}\n",
    "\n",
    "    for clf in models:\n",
    "        clf = clf.fit(x_train, y_train)\n",
    "        pred = clf.predict(x_test)\n",
    "        pred_prob_rf = clf.predict_proba(x_test)[:, 1].reshape(-1, 1)\n",
    "        auc_score = roc_auc_score(y_test, pred_prob_rf)\n",
    "        results = (\n",
    "            round(accuracy_score(y_test, pred), 4),\n",
    "            round(precision_score(y_test, pred), 4),\n",
    "            round(recall_score(y_test, pred), 4),\n",
    "            round(f1_score(y_test, pred), 4),\n",
    "            round(auc_score, 4)\n",
    "        )\n",
    "\n",
    "        rdict['model'].append(clf)\n",
    "        rdict['accuracy'].append(results[0])\n",
    "        rdict['precision'].append(results[1])\n",
    "        rdict['recall'].append(results[2])\n",
    "        rdict['f1_score'].append(results[3])\n",
    "        rdict['auc_score'].append(results[4])\n",
    "\n",
    "        confusion = confusion_matrix(y_test, pred)\n",
    "        print(confusion)\n",
    "\n",
    "    rdf = pd.DataFrame(data=rdict)\n",
    "    return rdf"
   ]
  },
  {
   "cell_type": "code",
   "execution_count": 85,
   "metadata": {},
   "outputs": [
    {
     "data": {
      "text/plain": [
       "RandomState(MT19937) at 0x17314CC0340"
      ]
     },
     "execution_count": 85,
     "metadata": {},
     "output_type": "execute_result"
    }
   ],
   "source": [
    "train = pd.read_csv('./datasets/통계검증완료/코스닥_standard_train.csv',index_col=0)\n",
    "test =  pd.read_csv('./datasets/통계검증완료/코스닥_standard_test.csv',index_col=0)\n",
    "\n"
   ]
  },
  {
   "attachments": {},
   "cell_type": "markdown",
   "metadata": {},
   "source": [
    "---\n",
    "# 산업별 더미변수 - 제조업,건설업,정보통신업,그외\n",
    "---"
   ]
  },
  {
   "cell_type": "code",
   "execution_count": 86,
   "metadata": {},
   "outputs": [],
   "source": [
    "train.loc[~(train['산업군'].str.contains('제조업') | train['산업군'].str.contains('건설업') | train['산업군'].str.contains('정보통신업')), '산업군'] = '그 외'\n",
    "dummy_df = pd.get_dummies(train['산업군'])\n",
    "train = pd.concat([train,dummy_df],axis=1)"
   ]
  },
  {
   "cell_type": "code",
   "execution_count": 87,
   "metadata": {},
   "outputs": [],
   "source": [
    "test.loc[~(test['산업군'].str.contains('제조업') | test['산업군'].str.contains('건설업') | test['산업군'].str.contains('정보통신업')), '산업군'] = '그 외'\n",
    "dummy_df = pd.get_dummies(test['산업군'])\n",
    "test = pd.concat([test,dummy_df],axis=1)"
   ]
  },
  {
   "attachments": {},
   "cell_type": "markdown",
   "metadata": {},
   "source": [
    "----"
   ]
  },
  {
   "cell_type": "code",
   "execution_count": 88,
   "metadata": {},
   "outputs": [
    {
     "data": {
      "text/plain": [
       "Index(['회사명', '거래소코드', '회계년도', '산업군', '총자본순이익률', 'EBIT/총자산', '총자본정상영업이익률',\n",
       "       '현금흐름 대 자산', '현금흐름/총부채비율', '차입금의존도', '현금흐름 대 매출액', '순운전자본비율',\n",
       "       'EBITDA마진율', '타인자본회전률', '누적수익성비율', 'abs(영업현금흐름-당기순이익)/매출액', '총자본회전률',\n",
       "       '금융비용부담률', '당기전기영업손익', '자본금회전률', '영업현금흐름-단기차입금', 'FINDEP', '총자본증가율',\n",
       "       '자기자본증가율', 'TMD', '매출액총이익률', '자기자본순이익률', '매출액증가율', '대주주지분율', '외국인지분율',\n",
       "       'ROA변화율', '정상영업이익증가율', '이자부담률', 'target_1', 'target_2', 'target_3',\n",
       "       '건설업', '그 외', '정보통신업', '제조업'],\n",
       "      dtype='object')"
      ]
     },
     "execution_count": 88,
     "metadata": {},
     "output_type": "execute_result"
    }
   ],
   "source": [
    "train.columns"
   ]
  },
  {
   "cell_type": "code",
   "execution_count": 89,
   "metadata": {},
   "outputs": [],
   "source": [
    "col_int = ['총자본순이익률', 'EBIT/총자산', '총자본정상영업이익률',\n",
    "       '현금흐름 대 자산', '현금흐름/총부채비율', '차입금의존도', '현금흐름 대 매출액', '순운전자본비율',\n",
    "       'EBITDA마진율', '타인자본회전률', '누적수익성비율', 'abs(영업현금흐름-당기순이익)/매출액', '총자본회전률',\n",
    "       '금융비용부담률', '당기전기영업손익', '자본금회전률', '영업현금흐름-단기차입금', 'FINDEP', '총자본증가율',\n",
    "       '자기자본증가율', 'TMD', '매출액총이익률', '자기자본순이익률', '매출액증가율', '대주주지분율', '외국인지분율',\n",
    "       'ROA변화율', '정상영업이익증가율', '이자부담률']"
   ]
  },
  {
   "attachments": {},
   "cell_type": "markdown",
   "metadata": {},
   "source": [
    "---\n",
    "#target1\n",
    "---"
   ]
  },
  {
   "cell_type": "code",
   "execution_count": 90,
   "metadata": {},
   "outputs": [],
   "source": [
    "x_train = train[col_int]\n",
    "y_train = train[['target_1']]\n",
    "\n",
    "x_test = test[col_int]\n",
    "y_test = test[['target_1']]"
   ]
  },
  {
   "cell_type": "code",
   "execution_count": 91,
   "metadata": {},
   "outputs": [
    {
     "data": {
      "text/plain": [
       "target_1\n",
       "0           3503\n",
       "1             89\n",
       "dtype: int64"
      ]
     },
     "execution_count": 91,
     "metadata": {},
     "output_type": "execute_result"
    }
   ],
   "source": [
    "y_test.value_counts()"
   ]
  },
  {
   "cell_type": "code",
   "execution_count": 92,
   "metadata": {},
   "outputs": [],
   "source": [
    "#  선정된 피쳐를 저장하기 위한 데이터프레임 생성 \n",
    "df_select = pd.DataFrame()\n",
    "# 생성된 데이터프레임의 인덱스 지정\n",
    "df_select.index = x_train.columns"
   ]
  },
  {
   "attachments": {},
   "cell_type": "markdown",
   "metadata": {},
   "source": [
    "---\n",
    "# lasso - 임베디드기법\n",
    "---"
   ]
  },
  {
   "cell_type": "code",
   "execution_count": 93,
   "metadata": {},
   "outputs": [],
   "source": [
    "#  lasso\n",
    "selector = SelectFromModel(estimator=LogisticRegression(penalty='l1',solver='liblinear',C=0.01)).fit(x_train, y_train)\n",
    "df_select[\"lasso_0.01\"] = selector.get_support()\n",
    "\n",
    "selector = SelectFromModel(estimator=LogisticRegression(penalty='l1',solver='liblinear',C=0.05)).fit(x_train, y_train)\n",
    "df_select[\"lasso_0.05\"] = selector.get_support()\n",
    "\n",
    "selector = SelectFromModel(estimator=LogisticRegression(penalty='l1',solver='liblinear',C=0.1)).fit(x_train, y_train)\n",
    "df_select[\"lasso_0.1\"] = selector.get_support()\n"
   ]
  },
  {
   "attachments": {},
   "cell_type": "markdown",
   "metadata": {},
   "source": [
    "---\n",
    "# stepwise - 래퍼기법\n",
    "---"
   ]
  },
  {
   "cell_type": "code",
   "execution_count": 94,
   "metadata": {},
   "outputs": [],
   "source": [
    "# logit foward\n",
    "estimator = LogisticRegression(penalty='l1',solver='liblinear',C=0.1)\n",
    "selector = SequentialFeatureSelector(estimator,direction='forward',cv=5,n_jobs=-1)\n",
    "selector.fit(x_train, y_train)\n",
    "df_select['logit_fwd'] = selector.get_support().tolist()\n",
    "# logit backward\n",
    "selector = SequentialFeatureSelector(estimator,direction='backward',cv=5,n_jobs=-1)\n",
    "selector.fit(x_train, y_train)\n",
    "df_select['logit_bwd'] = selector.get_support().tolist()"
   ]
  },
  {
   "cell_type": "code",
   "execution_count": 95,
   "metadata": {},
   "outputs": [],
   "source": [
    "# lda foward\n",
    "estimator = LinearDiscriminantAnalysis(solver='svd')\n",
    "selector = SequentialFeatureSelector(estimator,direction='forward',cv=5,n_jobs=-1)\n",
    "selector.fit(x_train, y_train)\n",
    "df_select['lda_fwd'] = selector.get_support().tolist()\n",
    "# lda backward\n",
    "selector = SequentialFeatureSelector(estimator,direction='backward',cv=5,n_jobs=-1,)\n",
    "selector.fit(x_train, y_train)\n",
    "df_select['lda_bwd'] = selector.get_support().tolist()"
   ]
  },
  {
   "attachments": {},
   "cell_type": "markdown",
   "metadata": {},
   "source": [
    "---\n",
    "## 비모수적 방법\n",
    "---"
   ]
  },
  {
   "cell_type": "code",
   "execution_count": 96,
   "metadata": {},
   "outputs": [],
   "source": [
    "# # RandomForest_foward\n",
    "# estimator = RandomForestClassifier()\n",
    "# selector = SequentialFeatureSelector(estimator,direction='forward',cv=2,n_jobs=-1)\n",
    "# selector.fit(x_train, y_train)\n",
    "# df_select['RFC_fwd'] = selector.get_support().tolist()\n",
    "# # RandomForest _ backward\n",
    "# selector = SequentialFeatureSelector(estimator,direction='backward',cv=2,n_jobs=-1)\n",
    "# selector.fit(x_train, y_train)\n",
    "# df_select['RFC_bwd'] = selector.get_support().tolist()"
   ]
  },
  {
   "attachments": {},
   "cell_type": "markdown",
   "metadata": {},
   "source": [
    "---\n",
    "## 최종 select\n",
    "---"
   ]
  },
  {
   "cell_type": "code",
   "execution_count": 97,
   "metadata": {},
   "outputs": [
    {
     "data": {
      "text/plain": [
       "Index(['EBIT/총자산', '현금흐름 대 자산', '누적수익성비율', 'abs(영업현금흐름-당기순이익)/매출액', '총자본회전률',\n",
       "       '금융비용부담률', 'TMD', '자기자본순이익률', 'ROA변화율'],\n",
       "      dtype='object')"
      ]
     },
     "execution_count": 97,
     "metadata": {},
     "output_type": "execute_result"
    }
   ],
   "source": [
    "for col in df_select.columns.to_list():\n",
    "    df_select[col] = df_select[col].apply(lambda x : 1 if x==True else 0)\n",
    "df_select['total'] = df_select.sum(axis=1)\n",
    "df_select[df_select['total']>=5].index"
   ]
  },
  {
   "cell_type": "code",
   "execution_count": 98,
   "metadata": {},
   "outputs": [],
   "source": [
    "최종_col =df_select[df_select['total']>=5].index.to_list()\n",
    "\n",
    "x_train_1 = x_train[최종_col]\n",
    "x_test_1 = x_test[최종_col]"
   ]
  },
  {
   "cell_type": "code",
   "execution_count": 99,
   "metadata": {},
   "outputs": [
    {
     "name": "stdout",
     "output_type": "stream",
     "text": [
      "[[5066   20]\n",
      " [ 104   70]]\n",
      "[[5059   27]\n",
      " [ 104   70]]\n",
      "[[4902  184]\n",
      " [  68  106]]\n",
      "[[5086    0]\n",
      " [   0  174]]\n",
      "[[5086    0]\n",
      " [   0  174]]\n"
     ]
    },
    {
     "data": {
      "text/html": [
       "<div>\n",
       "<style scoped>\n",
       "    .dataframe tbody tr th:only-of-type {\n",
       "        vertical-align: middle;\n",
       "    }\n",
       "\n",
       "    .dataframe tbody tr th {\n",
       "        vertical-align: top;\n",
       "    }\n",
       "\n",
       "    .dataframe thead th {\n",
       "        text-align: right;\n",
       "    }\n",
       "</style>\n",
       "<table border=\"1\" class=\"dataframe\">\n",
       "  <thead>\n",
       "    <tr style=\"text-align: right;\">\n",
       "      <th></th>\n",
       "      <th>model</th>\n",
       "      <th>accuracy</th>\n",
       "      <th>precision</th>\n",
       "      <th>recall</th>\n",
       "      <th>f1_score</th>\n",
       "      <th>auc_score</th>\n",
       "    </tr>\n",
       "  </thead>\n",
       "  <tbody>\n",
       "    <tr>\n",
       "      <th>0</th>\n",
       "      <td>LogisticRegression()</td>\n",
       "      <td>0.9764</td>\n",
       "      <td>0.7778</td>\n",
       "      <td>0.4023</td>\n",
       "      <td>0.5303</td>\n",
       "      <td>0.9366</td>\n",
       "    </tr>\n",
       "    <tr>\n",
       "      <th>1</th>\n",
       "      <td>LinearDiscriminantAnalysis()</td>\n",
       "      <td>0.9751</td>\n",
       "      <td>0.7216</td>\n",
       "      <td>0.4023</td>\n",
       "      <td>0.5166</td>\n",
       "      <td>0.9304</td>\n",
       "    </tr>\n",
       "    <tr>\n",
       "      <th>2</th>\n",
       "      <td>GaussianNB()</td>\n",
       "      <td>0.9521</td>\n",
       "      <td>0.3655</td>\n",
       "      <td>0.6092</td>\n",
       "      <td>0.4569</td>\n",
       "      <td>0.9205</td>\n",
       "    </tr>\n",
       "    <tr>\n",
       "      <th>3</th>\n",
       "      <td>(DecisionTreeClassifier(max_features='sqrt', r...</td>\n",
       "      <td>1.0000</td>\n",
       "      <td>1.0000</td>\n",
       "      <td>1.0000</td>\n",
       "      <td>1.0000</td>\n",
       "      <td>1.0000</td>\n",
       "    </tr>\n",
       "    <tr>\n",
       "      <th>4</th>\n",
       "      <td>XGBClassifier(base_score=None, booster=None, c...</td>\n",
       "      <td>1.0000</td>\n",
       "      <td>1.0000</td>\n",
       "      <td>1.0000</td>\n",
       "      <td>1.0000</td>\n",
       "      <td>1.0000</td>\n",
       "    </tr>\n",
       "  </tbody>\n",
       "</table>\n",
       "</div>"
      ],
      "text/plain": [
       "                                               model  accuracy  precision  \\\n",
       "0                               LogisticRegression()    0.9764     0.7778   \n",
       "1                       LinearDiscriminantAnalysis()    0.9751     0.7216   \n",
       "2                                       GaussianNB()    0.9521     0.3655   \n",
       "3  (DecisionTreeClassifier(max_features='sqrt', r...    1.0000     1.0000   \n",
       "4  XGBClassifier(base_score=None, booster=None, c...    1.0000     1.0000   \n",
       "\n",
       "   recall  f1_score  auc_score  \n",
       "0  0.4023    0.5303     0.9366  \n",
       "1  0.4023    0.5166     0.9304  \n",
       "2  0.6092    0.4569     0.9205  \n",
       "3  1.0000    1.0000     1.0000  \n",
       "4  1.0000    1.0000     1.0000  "
      ]
     },
     "execution_count": 99,
     "metadata": {},
     "output_type": "execute_result"
    }
   ],
   "source": [
    "model_basic(x_train_1,y_train,x_train_1,y_train)"
   ]
  },
  {
   "cell_type": "code",
   "execution_count": 100,
   "metadata": {},
   "outputs": [
    {
     "name": "stdout",
     "output_type": "stream",
     "text": [
      "[[3396  107]\n",
      " [  43   46]]\n",
      "[[3332  171]\n",
      " [  34   55]]\n",
      "[[3110  393]\n",
      " [  20   69]]\n",
      "[[3415   88]\n",
      " [  39   50]]\n",
      "[[3437   66]\n",
      " [  46   43]]\n"
     ]
    },
    {
     "data": {
      "text/html": [
       "<div>\n",
       "<style scoped>\n",
       "    .dataframe tbody tr th:only-of-type {\n",
       "        vertical-align: middle;\n",
       "    }\n",
       "\n",
       "    .dataframe tbody tr th {\n",
       "        vertical-align: top;\n",
       "    }\n",
       "\n",
       "    .dataframe thead th {\n",
       "        text-align: right;\n",
       "    }\n",
       "</style>\n",
       "<table border=\"1\" class=\"dataframe\">\n",
       "  <thead>\n",
       "    <tr style=\"text-align: right;\">\n",
       "      <th></th>\n",
       "      <th>model</th>\n",
       "      <th>accuracy</th>\n",
       "      <th>precision</th>\n",
       "      <th>recall</th>\n",
       "      <th>f1_score</th>\n",
       "      <th>auc_score</th>\n",
       "    </tr>\n",
       "  </thead>\n",
       "  <tbody>\n",
       "    <tr>\n",
       "      <th>0</th>\n",
       "      <td>LogisticRegression()</td>\n",
       "      <td>0.9582</td>\n",
       "      <td>0.3007</td>\n",
       "      <td>0.5169</td>\n",
       "      <td>0.3802</td>\n",
       "      <td>0.9259</td>\n",
       "    </tr>\n",
       "    <tr>\n",
       "      <th>1</th>\n",
       "      <td>LinearDiscriminantAnalysis()</td>\n",
       "      <td>0.9429</td>\n",
       "      <td>0.2434</td>\n",
       "      <td>0.6180</td>\n",
       "      <td>0.3492</td>\n",
       "      <td>0.9278</td>\n",
       "    </tr>\n",
       "    <tr>\n",
       "      <th>2</th>\n",
       "      <td>GaussianNB()</td>\n",
       "      <td>0.8850</td>\n",
       "      <td>0.1494</td>\n",
       "      <td>0.7753</td>\n",
       "      <td>0.2505</td>\n",
       "      <td>0.9185</td>\n",
       "    </tr>\n",
       "    <tr>\n",
       "      <th>3</th>\n",
       "      <td>(DecisionTreeClassifier(max_features='sqrt', r...</td>\n",
       "      <td>0.9646</td>\n",
       "      <td>0.3623</td>\n",
       "      <td>0.5618</td>\n",
       "      <td>0.4405</td>\n",
       "      <td>0.9355</td>\n",
       "    </tr>\n",
       "    <tr>\n",
       "      <th>4</th>\n",
       "      <td>XGBClassifier(base_score=None, booster=None, c...</td>\n",
       "      <td>0.9688</td>\n",
       "      <td>0.3945</td>\n",
       "      <td>0.4831</td>\n",
       "      <td>0.4343</td>\n",
       "      <td>0.9293</td>\n",
       "    </tr>\n",
       "  </tbody>\n",
       "</table>\n",
       "</div>"
      ],
      "text/plain": [
       "                                               model  accuracy  precision  \\\n",
       "0                               LogisticRegression()    0.9582     0.3007   \n",
       "1                       LinearDiscriminantAnalysis()    0.9429     0.2434   \n",
       "2                                       GaussianNB()    0.8850     0.1494   \n",
       "3  (DecisionTreeClassifier(max_features='sqrt', r...    0.9646     0.3623   \n",
       "4  XGBClassifier(base_score=None, booster=None, c...    0.9688     0.3945   \n",
       "\n",
       "   recall  f1_score  auc_score  \n",
       "0  0.5169    0.3802     0.9259  \n",
       "1  0.6180    0.3492     0.9278  \n",
       "2  0.7753    0.2505     0.9185  \n",
       "3  0.5618    0.4405     0.9355  \n",
       "4  0.4831    0.4343     0.9293  "
      ]
     },
     "execution_count": 100,
     "metadata": {},
     "output_type": "execute_result"
    }
   ],
   "source": [
    "model_basic(x_train_1,y_train,x_test_1,y_test)"
   ]
  },
  {
   "attachments": {},
   "cell_type": "markdown",
   "metadata": {},
   "source": [
    "-----\n",
    "# target2"
   ]
  },
  {
   "cell_type": "code",
   "execution_count": 101,
   "metadata": {},
   "outputs": [],
   "source": [
    "x_train = train[col_int]\n",
    "y_train = train[['target_2']]\n",
    "\n",
    "x_test = test[col_int]\n",
    "y_test = test[['target_2']]\n",
    "\n",
    "#  선정된 피쳐를 저장하기 위한 데이터프레임 생성 \n",
    "df_select_2 = pd.DataFrame()\n",
    "# 생성된 데이터프레임의 인덱스 지정\n",
    "df_select_2.index = x_train.columns"
   ]
  },
  {
   "cell_type": "code",
   "execution_count": 102,
   "metadata": {},
   "outputs": [],
   "source": [
    "#  lasso\n",
    "selector = SelectFromModel(estimator=LogisticRegression(penalty='l1',solver='liblinear',C=0.01)).fit(x_train, y_train)\n",
    "df_select_2[\"lasso_0.01\"] = selector.get_support()\n",
    "\n",
    "selector = SelectFromModel(estimator=LogisticRegression(penalty='l1',solver='liblinear',C=0.05)).fit(x_train, y_train)\n",
    "df_select_2[\"lasso_0.05\"] = selector.get_support()\n",
    "\n",
    "selector = SelectFromModel(estimator=LogisticRegression(penalty='l1',solver='liblinear',C=0.1)).fit(x_train, y_train)\n",
    "df_select_2[\"lasso_0.1\"] = selector.get_support()\n",
    "\n",
    "# logit foward\n",
    "estimator = LogisticRegression(penalty='l1',solver='liblinear',C=0.05)\n",
    "selector = SequentialFeatureSelector(estimator,direction='forward',cv=5,n_jobs=-1)\n",
    "selector.fit(x_train, y_train)\n",
    "df_select_2['logit_fwd'] = selector.get_support().tolist()\n",
    "# logit backward\n",
    "selector = SequentialFeatureSelector(estimator,direction='backward',cv=5,n_jobs=-1)\n",
    "selector.fit(x_train, y_train)\n",
    "df_select_2['logit_bwd'] = selector.get_support().tolist()\n",
    "\n",
    "\n",
    "# lda foward\n",
    "estimator = LinearDiscriminantAnalysis(solver='svd')\n",
    "selector = SequentialFeatureSelector(estimator,direction='forward',cv=5,n_jobs=-1)\n",
    "selector.fit(x_train, y_train)\n",
    "df_select_2['lda_fwd'] = selector.get_support().tolist()\n",
    "# lda backward\n",
    "selector = SequentialFeatureSelector(estimator,direction='backward',cv=5,n_jobs=-1,)\n",
    "selector.fit(x_train, y_train)\n",
    "df_select_2['lda_bwd'] = selector.get_support().tolist()\n",
    "\n",
    "# # RandomForest_foward\n",
    "# estimator = RandomForestClassifier()\n",
    "# selector = SequentialFeatureSelector(estimator,direction='forward',cv=2,n_jobs=-1)\n",
    "# selector.fit(x_train, y_train)\n",
    "# df_select_2['RFC_fwd'] = selector.get_support().tolist()\n",
    "# # RandomForest _ backward\n",
    "# selector = SequentialFeatureSelector(estimator,direction='backward',cv=2,n_jobs=-1)\n",
    "# selector.fit(x_train, y_train)\n",
    "# df_select_2['RFC_bwd'] = selector.get_support().tolist()"
   ]
  },
  {
   "cell_type": "code",
   "execution_count": 103,
   "metadata": {},
   "outputs": [
    {
     "data": {
      "text/plain": [
       "Index(['총자본정상영업이익률', '순운전자본비율', '누적수익성비율', 'abs(영업현금흐름-당기순이익)/매출액', '금융비용부담률',\n",
       "       'TMD', '매출액총이익률'],\n",
       "      dtype='object')"
      ]
     },
     "execution_count": 103,
     "metadata": {},
     "output_type": "execute_result"
    }
   ],
   "source": [
    "for col in df_select_2.columns.to_list():\n",
    "    df_select_2[col] = df_select_2[col].apply(lambda x : 1 if x==True else 0)\n",
    "df_select_2['total'] = df_select_2.sum(axis=1)\n",
    "df_select_2[df_select_2['total']>=5].index\n",
    "\n"
   ]
  },
  {
   "cell_type": "code",
   "execution_count": 104,
   "metadata": {},
   "outputs": [],
   "source": [
    "최종_col =df_select_2[df_select_2['total']>=5].index.to_list()\n",
    "\n",
    "x_train_2 = x_train[최종_col]\n",
    "x_test_2 = x_test[최종_col]"
   ]
  },
  {
   "cell_type": "code",
   "execution_count": 105,
   "metadata": {},
   "outputs": [
    {
     "name": "stdout",
     "output_type": "stream",
     "text": [
      "[[5022   21]\n",
      " [ 149   68]]\n",
      "[[4995   48]\n",
      " [ 139   78]]\n",
      "[[4854  189]\n",
      " [ 110  107]]\n",
      "[[5043    0]\n",
      " [   0  217]]\n",
      "[[5043    0]\n",
      " [   0  217]]\n"
     ]
    },
    {
     "data": {
      "text/html": [
       "<div>\n",
       "<style scoped>\n",
       "    .dataframe tbody tr th:only-of-type {\n",
       "        vertical-align: middle;\n",
       "    }\n",
       "\n",
       "    .dataframe tbody tr th {\n",
       "        vertical-align: top;\n",
       "    }\n",
       "\n",
       "    .dataframe thead th {\n",
       "        text-align: right;\n",
       "    }\n",
       "</style>\n",
       "<table border=\"1\" class=\"dataframe\">\n",
       "  <thead>\n",
       "    <tr style=\"text-align: right;\">\n",
       "      <th></th>\n",
       "      <th>model</th>\n",
       "      <th>accuracy</th>\n",
       "      <th>precision</th>\n",
       "      <th>recall</th>\n",
       "      <th>f1_score</th>\n",
       "      <th>auc_score</th>\n",
       "    </tr>\n",
       "  </thead>\n",
       "  <tbody>\n",
       "    <tr>\n",
       "      <th>0</th>\n",
       "      <td>LogisticRegression()</td>\n",
       "      <td>0.9677</td>\n",
       "      <td>0.7640</td>\n",
       "      <td>0.3134</td>\n",
       "      <td>0.4444</td>\n",
       "      <td>0.9025</td>\n",
       "    </tr>\n",
       "    <tr>\n",
       "      <th>1</th>\n",
       "      <td>LinearDiscriminantAnalysis()</td>\n",
       "      <td>0.9644</td>\n",
       "      <td>0.6190</td>\n",
       "      <td>0.3594</td>\n",
       "      <td>0.4548</td>\n",
       "      <td>0.9058</td>\n",
       "    </tr>\n",
       "    <tr>\n",
       "      <th>2</th>\n",
       "      <td>GaussianNB()</td>\n",
       "      <td>0.9432</td>\n",
       "      <td>0.3615</td>\n",
       "      <td>0.4931</td>\n",
       "      <td>0.4172</td>\n",
       "      <td>0.8818</td>\n",
       "    </tr>\n",
       "    <tr>\n",
       "      <th>3</th>\n",
       "      <td>(DecisionTreeClassifier(max_features='sqrt', r...</td>\n",
       "      <td>1.0000</td>\n",
       "      <td>1.0000</td>\n",
       "      <td>1.0000</td>\n",
       "      <td>1.0000</td>\n",
       "      <td>1.0000</td>\n",
       "    </tr>\n",
       "    <tr>\n",
       "      <th>4</th>\n",
       "      <td>XGBClassifier(base_score=None, booster=None, c...</td>\n",
       "      <td>1.0000</td>\n",
       "      <td>1.0000</td>\n",
       "      <td>1.0000</td>\n",
       "      <td>1.0000</td>\n",
       "      <td>1.0000</td>\n",
       "    </tr>\n",
       "  </tbody>\n",
       "</table>\n",
       "</div>"
      ],
      "text/plain": [
       "                                               model  accuracy  precision  \\\n",
       "0                               LogisticRegression()    0.9677     0.7640   \n",
       "1                       LinearDiscriminantAnalysis()    0.9644     0.6190   \n",
       "2                                       GaussianNB()    0.9432     0.3615   \n",
       "3  (DecisionTreeClassifier(max_features='sqrt', r...    1.0000     1.0000   \n",
       "4  XGBClassifier(base_score=None, booster=None, c...    1.0000     1.0000   \n",
       "\n",
       "   recall  f1_score  auc_score  \n",
       "0  0.3134    0.4444     0.9025  \n",
       "1  0.3594    0.4548     0.9058  \n",
       "2  0.4931    0.4172     0.8818  \n",
       "3  1.0000    1.0000     1.0000  \n",
       "4  1.0000    1.0000     1.0000  "
      ]
     },
     "execution_count": 105,
     "metadata": {},
     "output_type": "execute_result"
    }
   ],
   "source": [
    "model_basic(x_train_2,y_train,x_train_2,y_train)"
   ]
  },
  {
   "cell_type": "code",
   "execution_count": 106,
   "metadata": {},
   "outputs": [
    {
     "name": "stdout",
     "output_type": "stream",
     "text": [
      "[[3371  134]\n",
      " [  40   47]]\n",
      "[[3296  209]\n",
      " [  36   51]]\n",
      "[[3105  400]\n",
      " [  27   60]]\n",
      "[[3415   90]\n",
      " [  43   44]]\n",
      "[[3412   93]\n",
      " [  45   42]]\n"
     ]
    },
    {
     "data": {
      "text/html": [
       "<div>\n",
       "<style scoped>\n",
       "    .dataframe tbody tr th:only-of-type {\n",
       "        vertical-align: middle;\n",
       "    }\n",
       "\n",
       "    .dataframe tbody tr th {\n",
       "        vertical-align: top;\n",
       "    }\n",
       "\n",
       "    .dataframe thead th {\n",
       "        text-align: right;\n",
       "    }\n",
       "</style>\n",
       "<table border=\"1\" class=\"dataframe\">\n",
       "  <thead>\n",
       "    <tr style=\"text-align: right;\">\n",
       "      <th></th>\n",
       "      <th>model</th>\n",
       "      <th>accuracy</th>\n",
       "      <th>precision</th>\n",
       "      <th>recall</th>\n",
       "      <th>f1_score</th>\n",
       "      <th>auc_score</th>\n",
       "    </tr>\n",
       "  </thead>\n",
       "  <tbody>\n",
       "    <tr>\n",
       "      <th>0</th>\n",
       "      <td>LogisticRegression()</td>\n",
       "      <td>0.9516</td>\n",
       "      <td>0.2597</td>\n",
       "      <td>0.5402</td>\n",
       "      <td>0.3507</td>\n",
       "      <td>0.8398</td>\n",
       "    </tr>\n",
       "    <tr>\n",
       "      <th>1</th>\n",
       "      <td>LinearDiscriminantAnalysis()</td>\n",
       "      <td>0.9318</td>\n",
       "      <td>0.1962</td>\n",
       "      <td>0.5862</td>\n",
       "      <td>0.2939</td>\n",
       "      <td>0.8435</td>\n",
       "    </tr>\n",
       "    <tr>\n",
       "      <th>2</th>\n",
       "      <td>GaussianNB()</td>\n",
       "      <td>0.8811</td>\n",
       "      <td>0.1304</td>\n",
       "      <td>0.6897</td>\n",
       "      <td>0.2194</td>\n",
       "      <td>0.8526</td>\n",
       "    </tr>\n",
       "    <tr>\n",
       "      <th>3</th>\n",
       "      <td>(DecisionTreeClassifier(max_features='sqrt', r...</td>\n",
       "      <td>0.9630</td>\n",
       "      <td>0.3284</td>\n",
       "      <td>0.5057</td>\n",
       "      <td>0.3982</td>\n",
       "      <td>0.8669</td>\n",
       "    </tr>\n",
       "    <tr>\n",
       "      <th>4</th>\n",
       "      <td>XGBClassifier(base_score=None, booster=None, c...</td>\n",
       "      <td>0.9616</td>\n",
       "      <td>0.3111</td>\n",
       "      <td>0.4828</td>\n",
       "      <td>0.3784</td>\n",
       "      <td>0.8575</td>\n",
       "    </tr>\n",
       "  </tbody>\n",
       "</table>\n",
       "</div>"
      ],
      "text/plain": [
       "                                               model  accuracy  precision  \\\n",
       "0                               LogisticRegression()    0.9516     0.2597   \n",
       "1                       LinearDiscriminantAnalysis()    0.9318     0.1962   \n",
       "2                                       GaussianNB()    0.8811     0.1304   \n",
       "3  (DecisionTreeClassifier(max_features='sqrt', r...    0.9630     0.3284   \n",
       "4  XGBClassifier(base_score=None, booster=None, c...    0.9616     0.3111   \n",
       "\n",
       "   recall  f1_score  auc_score  \n",
       "0  0.5402    0.3507     0.8398  \n",
       "1  0.5862    0.2939     0.8435  \n",
       "2  0.6897    0.2194     0.8526  \n",
       "3  0.5057    0.3982     0.8669  \n",
       "4  0.4828    0.3784     0.8575  "
      ]
     },
     "execution_count": 106,
     "metadata": {},
     "output_type": "execute_result"
    }
   ],
   "source": [
    "model_basic(x_train_2,y_train,x_test_2,y_test)"
   ]
  },
  {
   "attachments": {},
   "cell_type": "markdown",
   "metadata": {},
   "source": [
    "----\n",
    "# target3"
   ]
  },
  {
   "cell_type": "code",
   "execution_count": 107,
   "metadata": {},
   "outputs": [],
   "source": [
    "x_train = train[col_int]\n",
    "y_train = train[['target_3']]\n",
    "\n",
    "x_test = test[col_int]\n",
    "y_test = test[['target_3']]\n",
    "\n",
    "#  선정된 피쳐를 저장하기 위한 데이터프레임 생성 \n",
    "df_select_3 = pd.DataFrame()\n",
    "# 생성된 데이터프레임의 인덱스 지정\n",
    "df_select_3.index = x_train.columns"
   ]
  },
  {
   "cell_type": "code",
   "execution_count": 108,
   "metadata": {},
   "outputs": [],
   "source": [
    "#  lasso\n",
    "selector = SelectFromModel(estimator=LogisticRegression(penalty='l1',solver='liblinear',C=0.01)).fit(x_train, y_train)\n",
    "df_select_3[\"lasso_0.01\"] = selector.get_support()\n",
    "\n",
    "selector = SelectFromModel(estimator=LogisticRegression(penalty='l1',solver='liblinear',C=0.05)).fit(x_train, y_train)\n",
    "df_select_3[\"lasso_0.05\"] = selector.get_support()\n",
    "\n",
    "selector = SelectFromModel(estimator=LogisticRegression(penalty='l1',solver='liblinear',C=0.1)).fit(x_train, y_train)\n",
    "df_select_3[\"lasso_0.1\"] = selector.get_support()\n",
    "\n",
    "# logit foward\n",
    "estimator = LogisticRegression(penalty='l1',solver='liblinear',C=0.05)\n",
    "selector = SequentialFeatureSelector(estimator,direction='forward',cv=5,n_jobs=-1)\n",
    "selector.fit(x_train, y_train)\n",
    "df_select_3['logit_fwd'] = selector.get_support().tolist()\n",
    "# logit backward\n",
    "selector = SequentialFeatureSelector(estimator,direction='backward',cv=5,n_jobs=-1)\n",
    "selector.fit(x_train, y_train)\n",
    "df_select_3['logit_bwd'] = selector.get_support().tolist()\n",
    "\n",
    "\n",
    "# lda foward\n",
    "estimator = LinearDiscriminantAnalysis(solver='svd')\n",
    "selector = SequentialFeatureSelector(estimator,direction='forward',cv=5,n_jobs=-1)\n",
    "selector.fit(x_train, y_train)\n",
    "df_select_3['lda_fwd'] = selector.get_support().tolist()\n",
    "# lda backward\n",
    "selector = SequentialFeatureSelector(estimator,direction='backward',cv=5,n_jobs=-1,)\n",
    "selector.fit(x_train, y_train)\n",
    "df_select_3['lda_bwd'] = selector.get_support().tolist()\n",
    "\n",
    "# # RandomForest_foward\n",
    "# estimator = RandomForestClassifier()\n",
    "# selector = SequentialFeatureSelector(estimator,direction='forward',cv=2,n_jobs=-1)\n",
    "# selector.fit(x_train, y_train)\n",
    "# df_select_3['RFC_fwd'] = selector.get_support().tolist()\n",
    "# # RandomForest _ backward\n",
    "# selector = SequentialFeatureSelector(estimator,direction='backward',cv=2,n_jobs=-1)\n",
    "# selector.fit(x_train, y_train)\n",
    "# df_select_3['RFC_bwd'] = selector.get_support().tolist()"
   ]
  },
  {
   "cell_type": "code",
   "execution_count": 114,
   "metadata": {},
   "outputs": [
    {
     "data": {
      "text/plain": [
       "Index(['EBIT/총자산', '현금흐름 대 자산', '순운전자본비율', '누적수익성비율', 'abs(영업현금흐름-당기순이익)/매출액',\n",
       "       '총자본회전률', '금융비용부담률', '당기전기영업손익', '총자본증가율', 'TMD'],\n",
       "      dtype='object')"
      ]
     },
     "execution_count": 114,
     "metadata": {},
     "output_type": "execute_result"
    }
   ],
   "source": [
    "for col in df_select_3.columns.to_list():\n",
    "    df_select_3[col] = df_select_3[col].apply(lambda x : 1 if x==True else 0)\n",
    "df_select_3['total'] = df_select_3.sum(axis=1)\n",
    "df_select_3[df_select_3['total']>=5].index"
   ]
  },
  {
   "cell_type": "code",
   "execution_count": 110,
   "metadata": {},
   "outputs": [],
   "source": [
    "최종_col =df_select_3[df_select_3['total']>=5].index.to_list()\n",
    "\n",
    "x_train_3 = x_train[최종_col]\n",
    "x_test_3 = x_test[최종_col]"
   ]
  },
  {
   "cell_type": "code",
   "execution_count": 111,
   "metadata": {},
   "outputs": [
    {
     "name": "stdout",
     "output_type": "stream",
     "text": [
      "[[5077   18]\n",
      " [  95   70]]\n",
      "[[5062   33]\n",
      " [  93   72]]\n",
      "[[4909  186]\n",
      " [  67   98]]\n",
      "[[5095    0]\n",
      " [   0  165]]\n",
      "[[5095    0]\n",
      " [   0  165]]\n"
     ]
    },
    {
     "data": {
      "text/html": [
       "<div>\n",
       "<style scoped>\n",
       "    .dataframe tbody tr th:only-of-type {\n",
       "        vertical-align: middle;\n",
       "    }\n",
       "\n",
       "    .dataframe tbody tr th {\n",
       "        vertical-align: top;\n",
       "    }\n",
       "\n",
       "    .dataframe thead th {\n",
       "        text-align: right;\n",
       "    }\n",
       "</style>\n",
       "<table border=\"1\" class=\"dataframe\">\n",
       "  <thead>\n",
       "    <tr style=\"text-align: right;\">\n",
       "      <th></th>\n",
       "      <th>model</th>\n",
       "      <th>accuracy</th>\n",
       "      <th>precision</th>\n",
       "      <th>recall</th>\n",
       "      <th>f1_score</th>\n",
       "      <th>auc_score</th>\n",
       "    </tr>\n",
       "  </thead>\n",
       "  <tbody>\n",
       "    <tr>\n",
       "      <th>0</th>\n",
       "      <td>LogisticRegression()</td>\n",
       "      <td>0.9785</td>\n",
       "      <td>0.7955</td>\n",
       "      <td>0.4242</td>\n",
       "      <td>0.5534</td>\n",
       "      <td>0.9389</td>\n",
       "    </tr>\n",
       "    <tr>\n",
       "      <th>1</th>\n",
       "      <td>LinearDiscriminantAnalysis()</td>\n",
       "      <td>0.9760</td>\n",
       "      <td>0.6857</td>\n",
       "      <td>0.4364</td>\n",
       "      <td>0.5333</td>\n",
       "      <td>0.9295</td>\n",
       "    </tr>\n",
       "    <tr>\n",
       "      <th>2</th>\n",
       "      <td>GaussianNB()</td>\n",
       "      <td>0.9519</td>\n",
       "      <td>0.3451</td>\n",
       "      <td>0.5939</td>\n",
       "      <td>0.4365</td>\n",
       "      <td>0.9239</td>\n",
       "    </tr>\n",
       "    <tr>\n",
       "      <th>3</th>\n",
       "      <td>(DecisionTreeClassifier(max_features='sqrt', r...</td>\n",
       "      <td>1.0000</td>\n",
       "      <td>1.0000</td>\n",
       "      <td>1.0000</td>\n",
       "      <td>1.0000</td>\n",
       "      <td>1.0000</td>\n",
       "    </tr>\n",
       "    <tr>\n",
       "      <th>4</th>\n",
       "      <td>XGBClassifier(base_score=None, booster=None, c...</td>\n",
       "      <td>1.0000</td>\n",
       "      <td>1.0000</td>\n",
       "      <td>1.0000</td>\n",
       "      <td>1.0000</td>\n",
       "      <td>1.0000</td>\n",
       "    </tr>\n",
       "  </tbody>\n",
       "</table>\n",
       "</div>"
      ],
      "text/plain": [
       "                                               model  accuracy  precision  \\\n",
       "0                               LogisticRegression()    0.9785     0.7955   \n",
       "1                       LinearDiscriminantAnalysis()    0.9760     0.6857   \n",
       "2                                       GaussianNB()    0.9519     0.3451   \n",
       "3  (DecisionTreeClassifier(max_features='sqrt', r...    1.0000     1.0000   \n",
       "4  XGBClassifier(base_score=None, booster=None, c...    1.0000     1.0000   \n",
       "\n",
       "   recall  f1_score  auc_score  \n",
       "0  0.4242    0.5534     0.9389  \n",
       "1  0.4364    0.5333     0.9295  \n",
       "2  0.5939    0.4365     0.9239  \n",
       "3  1.0000    1.0000     1.0000  \n",
       "4  1.0000    1.0000     1.0000  "
      ]
     },
     "execution_count": 111,
     "metadata": {},
     "output_type": "execute_result"
    }
   ],
   "source": [
    "model_basic(x_train_3,y_train,x_train_3,y_train)"
   ]
  },
  {
   "cell_type": "code",
   "execution_count": 112,
   "metadata": {},
   "outputs": [
    {
     "name": "stdout",
     "output_type": "stream",
     "text": [
      "[[3408  112]\n",
      " [  30   42]]\n",
      "[[3339  181]\n",
      " [  26   46]]\n",
      "[[3095  425]\n",
      " [  14   58]]\n",
      "[[3433   87]\n",
      " [  30   42]]\n",
      "[[3458   62]\n",
      " [  34   38]]\n"
     ]
    },
    {
     "data": {
      "text/html": [
       "<div>\n",
       "<style scoped>\n",
       "    .dataframe tbody tr th:only-of-type {\n",
       "        vertical-align: middle;\n",
       "    }\n",
       "\n",
       "    .dataframe tbody tr th {\n",
       "        vertical-align: top;\n",
       "    }\n",
       "\n",
       "    .dataframe thead th {\n",
       "        text-align: right;\n",
       "    }\n",
       "</style>\n",
       "<table border=\"1\" class=\"dataframe\">\n",
       "  <thead>\n",
       "    <tr style=\"text-align: right;\">\n",
       "      <th></th>\n",
       "      <th>model</th>\n",
       "      <th>accuracy</th>\n",
       "      <th>precision</th>\n",
       "      <th>recall</th>\n",
       "      <th>f1_score</th>\n",
       "      <th>auc_score</th>\n",
       "    </tr>\n",
       "  </thead>\n",
       "  <tbody>\n",
       "    <tr>\n",
       "      <th>0</th>\n",
       "      <td>LogisticRegression()</td>\n",
       "      <td>0.9605</td>\n",
       "      <td>0.2727</td>\n",
       "      <td>0.5833</td>\n",
       "      <td>0.3717</td>\n",
       "      <td>0.9395</td>\n",
       "    </tr>\n",
       "    <tr>\n",
       "      <th>1</th>\n",
       "      <td>LinearDiscriminantAnalysis()</td>\n",
       "      <td>0.9424</td>\n",
       "      <td>0.2026</td>\n",
       "      <td>0.6389</td>\n",
       "      <td>0.3077</td>\n",
       "      <td>0.9357</td>\n",
       "    </tr>\n",
       "    <tr>\n",
       "      <th>2</th>\n",
       "      <td>GaussianNB()</td>\n",
       "      <td>0.8778</td>\n",
       "      <td>0.1201</td>\n",
       "      <td>0.8056</td>\n",
       "      <td>0.2090</td>\n",
       "      <td>0.9293</td>\n",
       "    </tr>\n",
       "    <tr>\n",
       "      <th>3</th>\n",
       "      <td>(DecisionTreeClassifier(max_features='sqrt', r...</td>\n",
       "      <td>0.9674</td>\n",
       "      <td>0.3256</td>\n",
       "      <td>0.5833</td>\n",
       "      <td>0.4179</td>\n",
       "      <td>0.9452</td>\n",
       "    </tr>\n",
       "    <tr>\n",
       "      <th>4</th>\n",
       "      <td>XGBClassifier(base_score=None, booster=None, c...</td>\n",
       "      <td>0.9733</td>\n",
       "      <td>0.3800</td>\n",
       "      <td>0.5278</td>\n",
       "      <td>0.4419</td>\n",
       "      <td>0.9299</td>\n",
       "    </tr>\n",
       "  </tbody>\n",
       "</table>\n",
       "</div>"
      ],
      "text/plain": [
       "                                               model  accuracy  precision  \\\n",
       "0                               LogisticRegression()    0.9605     0.2727   \n",
       "1                       LinearDiscriminantAnalysis()    0.9424     0.2026   \n",
       "2                                       GaussianNB()    0.8778     0.1201   \n",
       "3  (DecisionTreeClassifier(max_features='sqrt', r...    0.9674     0.3256   \n",
       "4  XGBClassifier(base_score=None, booster=None, c...    0.9733     0.3800   \n",
       "\n",
       "   recall  f1_score  auc_score  \n",
       "0  0.5833    0.3717     0.9395  \n",
       "1  0.6389    0.3077     0.9357  \n",
       "2  0.8056    0.2090     0.9293  \n",
       "3  0.5833    0.4179     0.9452  \n",
       "4  0.5278    0.4419     0.9299  "
      ]
     },
     "execution_count": 112,
     "metadata": {},
     "output_type": "execute_result"
    }
   ],
   "source": [
    "model_basic(x_train_3,y_train,x_test_3,y_test)"
   ]
  },
  {
   "cell_type": "code",
   "execution_count": null,
   "metadata": {},
   "outputs": [],
   "source": []
  }
 ],
 "metadata": {
  "kernelspec": {
   "display_name": "base",
   "language": "python",
   "name": "python3"
  },
  "language_info": {
   "codemirror_mode": {
    "name": "ipython",
    "version": 3
   },
   "file_extension": ".py",
   "mimetype": "text/x-python",
   "name": "python",
   "nbconvert_exporter": "python",
   "pygments_lexer": "ipython3",
   "version": "3.9.13"
  },
  "orig_nbformat": 4
 },
 "nbformat": 4,
 "nbformat_minor": 2
}
