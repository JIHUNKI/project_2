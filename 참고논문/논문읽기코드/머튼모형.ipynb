{
 "cells": [
  {
   "cell_type": "code",
   "execution_count": null,
   "metadata": {},
   "outputs": [],
   "source": []
  },
  {
   "cell_type": "code",
   "execution_count": 5,
   "metadata": {},
   "outputs": [],
   "source": [
    "# 블랙숄즈머튼 모형\n",
    "# 유러피안 콜 옵션의 가치 평가 \n",
    "# bsm_functions.py\n",
    "def bsm_call_value(S0, K, T, r, sigma):\n",
    "    '''BMS 모형에 의한 유러피안 콜 옵션 가치평가 공식\n",
    "    인수\n",
    "    =======\n",
    "    S0: float\n",
    "    초기 주가/ 지수 수준\n",
    "    k: float\n",
    "    행사가\n",
    "    T: float\n",
    "    만기(연수로 계산)\n",
    "    r: float\n",
    "    고정 단기 무위험 이자율\n",
    "    sigma: float\n",
    "    변동성\n",
    "    \n",
    "    반환값\n",
    "    ======\n",
    "    value: float\n",
    "    유러피안 콜 옵션의 현재 가치\n",
    "    '''\n",
    "    from math import log, sqrt, exp\n",
    "    from scipy import stats\n",
    "    S0 = float(S0)\n",
    "    d1 = (log(S0/K) + (r + 0.5 * sigma ** 2)* T) / (sigma * sqrt(T))\n",
    "    d2 = (log(S0/K) + (r - 0.5 * sigma ** 2)* T) / (sigma * sqrt(T))\n",
    "    # stats.norm.cdf --> 정규분포의 누적분포함수\n",
    "    value = (S0 * stats.norm.cdf(d1, 0.0, 1.0) -\n",
    "             K * exp(-r * T) * stats.norm.cdf(d2, 0.0, 1.0))\n",
    "    return value"
   ]
  },
  {
   "cell_type": "code",
   "execution_count": 6,
   "metadata": {},
   "outputs": [
    {
     "data": {
      "text/plain": [
       "4.759422392871532"
      ]
     },
     "execution_count": 6,
     "metadata": {},
     "output_type": "execute_result"
    }
   ],
   "source": [
    "bsm_call_value(42, 40, 0.5, 0.1, 0.2)"
   ]
  },
  {
   "cell_type": "code",
   "execution_count": 7,
   "metadata": {},
   "outputs": [],
   "source": [
    "def bsm_vega(S0, K, T, r, sigma):\n",
    "    '''BSM모형에 따른 유러피안 옵션의 베가\n",
    "    \n",
    "    인수\n",
    "    ========\n",
    "    S0: float\n",
    "    초기주가/지수수준\n",
    "    K: float\n",
    "    행사가 \n",
    "    T: float\n",
    "    만기(연수로 계산)\n",
    "    r: float\n",
    "    고정 단기 무위험 이자율\n",
    "    sigma: float\n",
    "    변동성\n",
    "    \n",
    "    반환값\n",
    "    =====\n",
    "    vega: float\n",
    "    BSM 공식의 변동성에 대한 편미분, 즉 베가\n",
    "    '''\n",
    "    from math import log, sqrt\n",
    "    from scipy import stats\n",
    "    \n",
    "    S0 = float(S0)\n",
    "    d1 = (log(S0/K) + (r + 0.5 * sigma ** 2) * T) / (sigma * sqrt(T))\n",
    "    vega = S0 * stats.norm.pdf(d1, 0.0, 1.0) * sqrt(T) #확률밀도함수\n",
    "    return vega"
   ]
  },
  {
   "cell_type": "code",
   "execution_count": 11,
   "metadata": {},
   "outputs": [
    {
     "data": {
      "text/plain": [
       "8.813415059602853"
      ]
     },
     "execution_count": 11,
     "metadata": {},
     "output_type": "execute_result"
    }
   ],
   "source": [
    "bsm_vega(42, 40, 0.5, 0.1, 0.2)"
   ]
  },
  {
   "cell_type": "code",
   "execution_count": 8,
   "metadata": {},
   "outputs": [],
   "source": [
    "# 내재변동성 함수\n",
    "\n",
    "def bsm_call_imp_vol(S0, K, T, r, C0, sigma_est, it=100):\n",
    "    '''BSM 모형에 따른 유러피안 콜 옵션의 내재변동성\n",
    "    인수\n",
    "    =====\n",
    "    S0: float\n",
    "    초기주가/지수수준\n",
    "    K: float\n",
    "    행사가 \n",
    "    T: float\n",
    "    만기(연수로 계산)\n",
    "    r: float\n",
    "    고정 단기 무위험 이자율\n",
    "    sigma_est: float\n",
    "    내재 변동성의 추정치\n",
    "    it: integer\n",
    "    반복횟수\n",
    "    \n",
    "    반환값\n",
    "    =======\n",
    "    sigma_est:float\n",
    "    수치적으로 추정한 내재 변동성\n",
    "    '''\n",
    "    for i in range(it):\n",
    "        sigma_est -= ((bsm_call_value(S0, K, T, r, sigma_est) - C0) /\n",
    "                      bsm_vega(S0, K, T, r, sigma_est))\n",
    "    return sigma_est"
   ]
  },
  {
   "cell_type": "code",
   "execution_count": 13,
   "metadata": {},
   "outputs": [
    {
     "name": "stderr",
     "output_type": "stream",
     "text": [
      "/var/folders/st/51ybqh7x0jv86c_cd5ytpk0c0000gn/T/ipykernel_23045/1340447314.py:26: RuntimeWarning: divide by zero encountered in double_scalars\n",
      "  sigma_est -= ((bsm_call_value(S0, K, T, r, sigma_est) - C0) /\n",
      "/var/folders/st/51ybqh7x0jv86c_cd5ytpk0c0000gn/T/ipykernel_23045/2028366511.py:27: RuntimeWarning: invalid value encountered in double_scalars\n",
      "  d1 = (log(S0/K) + (r + 0.5 * sigma ** 2)* T) / (sigma * sqrt(T))\n",
      "/var/folders/st/51ybqh7x0jv86c_cd5ytpk0c0000gn/T/ipykernel_23045/2028366511.py:28: RuntimeWarning: invalid value encountered in double_scalars\n",
      "  d2 = (log(S0/K) + (r - 0.5 * sigma ** 2)* T) / (sigma * sqrt(T))\n",
      "/var/folders/st/51ybqh7x0jv86c_cd5ytpk0c0000gn/T/ipykernel_23045/3949639173.py:26: RuntimeWarning: invalid value encountered in double_scalars\n",
      "  d1 = (log(S0/K) + (r + 0.5 * sigma ** 2) * T) / (sigma * sqrt(T))\n"
     ]
    },
    {
     "data": {
      "text/plain": [
       "nan"
      ]
     },
     "execution_count": 13,
     "metadata": {},
     "output_type": "execute_result"
    }
   ],
   "source": [
    "bsm_call_imp_vol(42, 40, 0.5, 0.1, 0.1, 8.813415059602853)"
   ]
  },
  {
   "cell_type": "code",
   "execution_count": null,
   "metadata": {},
   "outputs": [],
   "source": []
  }
 ],
 "metadata": {
  "kernelspec": {
   "display_name": "Python 3",
   "language": "python",
   "name": "python3"
  },
  "language_info": {
   "codemirror_mode": {
    "name": "ipython",
    "version": 3
   },
   "file_extension": ".py",
   "mimetype": "text/x-python",
   "name": "python",
   "nbconvert_exporter": "python",
   "pygments_lexer": "ipython3",
   "version": "3.9.13"
  },
  "orig_nbformat": 4
 },
 "nbformat": 4,
 "nbformat_minor": 2
}
