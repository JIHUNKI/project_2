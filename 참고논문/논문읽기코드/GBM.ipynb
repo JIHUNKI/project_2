{
 "cells": [
  {
   "cell_type": "code",
   "execution_count": null,
   "metadata": {},
   "outputs": [],
   "source": []
  },
  {
   "attachments": {},
   "cell_type": "markdown",
   "metadata": {},
   "source": [
    "https://taepseon.tistory.com/34"
   ]
  },
  {
   "attachments": {},
   "cell_type": "markdown",
   "metadata": {},
   "source": [
    "ST=S0\n",
    " exp((r−\n",
    " (1 2σ2)T+σTz‾‾‾√)\n",
    " 수식을 파이썬으로 구현"
   ]
  },
  {
   "cell_type": "code",
   "execution_count": 1,
   "metadata": {},
   "outputs": [
    {
     "name": "stdout",
     "output_type": "stream",
     "text": [
      "Value of the European Call Option 8.039\n"
     ]
    }
   ],
   "source": [
    "import numpy as np\n",
    "\n",
    "#파라미터 값\n",
    "S0 = 100.  # 초기의 주가지수\n",
    "K = 105.   # 행사가\n",
    "T = 1.0    # 만기까지 남은 시간\n",
    "r = 0.05   # 무위험 이자율\n",
    "sigma = 0.2 # 변동성\n",
    "I = 100000 # 시뮬레이션 횟수\n",
    "\n",
    "# 가격결정 알고리즘\n",
    "z = np.random.standard_normal(I) # 의사 난수\n",
    "ST = S0 * np.exp((r-0.5 * sigma ** 2) * T + sigma * np.sqrt(T) * z)\n",
    "\n",
    "\n",
    "#만기 시의 주가지수\n",
    "hT = np.maximum(ST - K, 0)             # 만기 시의 내재 가치\n",
    "C0 = np.exp(-r * T) * np.sum(hT) / I  # 몬테카를로 추정식\n",
    "\n",
    "print(\"Value of the European Call Option %5.3f\" % C0)"
   ]
  },
  {
   "cell_type": "markdown",
   "metadata": {},
   "source": []
  }
 ],
 "metadata": {
  "kernelspec": {
   "display_name": "Python 3",
   "language": "python",
   "name": "python3"
  },
  "language_info": {
   "codemirror_mode": {
    "name": "ipython",
    "version": 3
   },
   "file_extension": ".py",
   "mimetype": "text/x-python",
   "name": "python",
   "nbconvert_exporter": "python",
   "pygments_lexer": "ipython3",
   "version": "3.9.13"
  },
  "orig_nbformat": 4
 },
 "nbformat": 4,
 "nbformat_minor": 2
}
