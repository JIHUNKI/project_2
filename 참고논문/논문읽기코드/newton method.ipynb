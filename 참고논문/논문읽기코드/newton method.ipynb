{
 "cells": [
  {
   "cell_type": "code",
   "execution_count": null,
   "metadata": {},
   "outputs": [],
   "source": []
  },
  {
   "cell_type": "code",
   "execution_count": 6,
   "metadata": {},
   "outputs": [],
   "source": [
    "import scipy as sp\n",
    "from scipy.optimize import minimize, rosen, rosen_der\n",
    "import numpy as np"
   ]
  },
  {
   "attachments": {},
   "cell_type": "markdown",
   "metadata": {},
   "source": [
    "SciPy를 이용한 최적화\n",
    "https://datascienceschool.net/02%20mathematics/05.01%20%EC%B5%9C%EC%A0%81%ED%99%94%20%EA%B8%B0%EC%B4%88.html?highlight=newton"
   ]
  },
  {
   "attachments": {},
   "cell_type": "markdown",
   "metadata": {},
   "source": [
    "https://docs.scipy.org/doc/scipy/reference/generated/scipy.optimize.minimize.html"
   ]
  },
  {
   "attachments": {},
   "cell_type": "markdown",
   "metadata": {},
   "source": [
    "func: 목적함수\n",
    "\n",
    "x0: 초깃값 벡터\n",
    "\n",
    "jac: (옵션) 그레디언트 벡터를 출력하는 함수\n",
    "\n",
    "minimize() 명령의 결과는 OptimizeResult 클래스 객체로 다음 속성을 가진다.\n",
    "\n",
    "x: 최적화 해\n",
    "\n",
    "success: 최적화에 성공하면 True 반환\n",
    "\n",
    "status: 종료 상태. 최적화에 성공하면 0 반환\n",
    "\n",
    "message: 메시지 문자열\n",
    "\n",
    "fun: x 위치에서의 함수의 값\n",
    "\n",
    "jac: x 위치에서의 자코비안(그레디언트) 벡터의 값\n",
    "\n",
    "hess_inv: x 위치에서의 헤시안 행렬의 역행렬의 값\n",
    "\n",
    "nfev: 목적함수 호출 횟수\n",
    "\n",
    "njev: 자코비안 계산 횟수\n",
    "\n",
    "nhev: 헤시안 계산 횟수\n",
    "\n",
    "nit: x 이동 횟수"
   ]
  },
  {
   "cell_type": "code",
   "execution_count": 7,
   "metadata": {},
   "outputs": [
    {
     "name": "stdout",
     "output_type": "stream",
     "text": [
      "      fun: 2.0\n",
      " hess_inv: array([[0.5]])\n",
      "      jac: array([0.])\n",
      "  message: 'Optimization terminated successfully.'\n",
      "     nfev: 6\n",
      "      nit: 2\n",
      "     njev: 3\n",
      "   status: 0\n",
      "  success: True\n",
      "        x: array([1.99999999])\n"
     ]
    }
   ],
   "source": [
    "# 목적함수 재정의\n",
    "def f1(x):\n",
    "    return (x - 2) ** 2 + 2\n",
    "\n",
    "x0 = 0  # 초깃값\n",
    "result = sp.optimize.minimize(f1, x0)\n",
    "print(result)"
   ]
  },
  {
   "cell_type": "code",
   "execution_count": 8,
   "metadata": {},
   "outputs": [
    {
     "name": "stdout",
     "output_type": "stream",
     "text": [
      "      fun: 2.0\n",
      " hess_inv: array([[0.5]])\n",
      "      jac: array([0.])\n",
      "  message: 'Optimization terminated successfully.'\n",
      "     nfev: 3\n",
      "      nit: 2\n",
      "     njev: 3\n",
      "   status: 0\n",
      "  success: True\n",
      "        x: array([2.])\n"
     ]
    }
   ],
   "source": [
    "def f1p(x):\n",
    "    \"\"\"f1(x)의 도함수\"\"\"\n",
    "    return 2 * (x - 2)\n",
    "\n",
    "result = sp.optimize.minimize(f1, x0, jac=f1p)\n",
    "print(result)"
   ]
  },
  {
   "cell_type": "code",
   "execution_count": 9,
   "metadata": {},
   "outputs": [
    {
     "name": "stdout",
     "output_type": "stream",
     "text": [
      "      fun: 2.007088513250772e-11\n",
      " hess_inv: array([[0.49995642, 0.99981185],\n",
      "       [0.99981185, 2.00426779]])\n",
      "      jac: array([ 8.22051609e-07, -4.12306234e-07])\n",
      "  message: 'Optimization terminated successfully.'\n",
      "     nfev: 213\n",
      "      nit: 56\n",
      "     njev: 71\n",
      "   status: 0\n",
      "  success: True\n",
      "        x: array([0.99999552, 0.99999103])\n"
     ]
    }
   ],
   "source": [
    "# 2차원 목적함수 재정의(벡터 입력을 받도록)\n",
    "def f2(x):\n",
    "    return (1 - x[0])**2 + 100.0 * (x[1] - x[0]**2)**2\n",
    "\n",
    "x0 = (-2, -2)\n",
    "result = sp.optimize.minimize(f2, x0)\n",
    "print(result)"
   ]
  },
  {
   "cell_type": "code",
   "execution_count": null,
   "metadata": {},
   "outputs": [],
   "source": []
  }
 ],
 "metadata": {
  "kernelspec": {
   "display_name": "Python 3",
   "language": "python",
   "name": "python3"
  },
  "language_info": {
   "codemirror_mode": {
    "name": "ipython",
    "version": 3
   },
   "file_extension": ".py",
   "mimetype": "text/x-python",
   "name": "python",
   "nbconvert_exporter": "python",
   "pygments_lexer": "ipython3",
   "version": "3.9.13"
  },
  "orig_nbformat": 4
 },
 "nbformat": 4,
 "nbformat_minor": 2
}
