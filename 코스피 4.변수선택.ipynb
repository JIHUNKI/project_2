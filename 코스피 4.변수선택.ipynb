{
 "cells": [
  {
   "cell_type": "code",
   "execution_count": 55,
   "metadata": {},
   "outputs": [],
   "source": [
    "import pandas as pd \n",
    "import numpy as np\n",
    "\n",
    "\n",
    "from sklearn.discriminant_analysis import LinearDiscriminantAnalysis\n",
    "from sklearn.linear_model import LogisticRegression\n",
    "from sklearn.naive_bayes import GaussianNB\n",
    "\n",
    "from sklearn.ensemble import RandomForestClassifier\n",
    "from xgboost import XGBClassifier\n",
    "\n",
    "from sklearn.feature_selection import SelectFromModel,SequentialFeatureSelector\n",
    "\n",
    "from sklearn.metrics import f1_score,accuracy_score,recall_score,precision_score,confusion_matrix,roc_auc_score\n",
    "\n",
    "import warnings\n",
    "warnings.simplefilter('ignore')"
   ]
  },
  {
   "cell_type": "code",
   "execution_count": 56,
   "metadata": {},
   "outputs": [],
   "source": [
    "def model_basic(x_train, y_train, x_test, y_test):\n",
    "    models = [\n",
    "        LogisticRegression(),\n",
    "        LinearDiscriminantAnalysis(),\n",
    "        GaussianNB(),\n",
    "        RandomForestClassifier(),\n",
    "        XGBClassifier(),\n",
    "        \n",
    "    ]\n",
    "\n",
    "    rdict = {'model': [], 'accuracy': [], 'precision': [], 'recall': [], 'f1_score': [], 'auc_score': []}\n",
    "\n",
    "    for clf in models:\n",
    "        clf = clf.fit(x_train, y_train)\n",
    "        pred = clf.predict(x_test)\n",
    "        pred_prob_rf = clf.predict_proba(x_test)[:, 1].reshape(-1, 1)\n",
    "        auc_score = roc_auc_score(y_test, pred_prob_rf)\n",
    "        results = (\n",
    "            round(accuracy_score(y_test, pred), 4),\n",
    "            round(precision_score(y_test, pred), 4),\n",
    "            round(recall_score(y_test, pred), 4),\n",
    "            round(f1_score(y_test, pred), 4),\n",
    "            round(auc_score, 4)\n",
    "        )\n",
    "\n",
    "        rdict['model'].append(clf)\n",
    "        rdict['accuracy'].append(results[0])\n",
    "        rdict['precision'].append(results[1])\n",
    "        rdict['recall'].append(results[2])\n",
    "        rdict['f1_score'].append(results[3])\n",
    "        rdict['auc_score'].append(results[4])\n",
    "\n",
    "        confusion = confusion_matrix(y_test, pred)\n",
    "        print(confusion)\n",
    "\n",
    "    rdf = pd.DataFrame(data=rdict)\n",
    "    return rdf"
   ]
  },
  {
   "cell_type": "code",
   "execution_count": 57,
   "metadata": {},
   "outputs": [
    {
     "data": {
      "text/plain": [
       "RandomState(MT19937) at 0x1BC4E70DA40"
      ]
     },
     "execution_count": 57,
     "metadata": {},
     "output_type": "execute_result"
    }
   ],
   "source": [
    "train = pd.read_csv('./datasets/통계검증완료/코스피_standar_train.csv',index_col=0)\n",
    "test =  pd.read_csv('./datasets/통계검증완료/코스피_standar_test.csv',index_col=0)\n",
    "np.random.RandomState(1)"
   ]
  },
  {
   "cell_type": "code",
   "execution_count": 58,
   "metadata": {},
   "outputs": [],
   "source": [
    "# train = pd.read_csv('./datasets/통계검증완료/코스피_robu_train.csv',index_col=0)\n",
    "# test =  pd.read_csv('./datasets/통계검증완료/코스피_robu_test.csv',index_col=0)\n",
    "# np.random.RandomState(1)"
   ]
  },
  {
   "attachments": {},
   "cell_type": "markdown",
   "metadata": {},
   "source": [
    "---\n",
    "# 산업별 더미변수 - 제조업,건설업,정보통신업,그외\n",
    "---"
   ]
  },
  {
   "cell_type": "code",
   "execution_count": 59,
   "metadata": {},
   "outputs": [],
   "source": [
    "train.loc[~(train['산업군'].str.contains('제조업') | train['산업군'].str.contains('건설업') | train['산업군'].str.contains('정보통신업')), '산업군'] = '그 외'\n",
    "dummy_df = pd.get_dummies(train['산업군'])\n",
    "train = pd.concat([train,dummy_df],axis=1)"
   ]
  },
  {
   "cell_type": "code",
   "execution_count": 60,
   "metadata": {},
   "outputs": [],
   "source": [
    "test.loc[~(test['산업군'].str.contains('제조업') | test['산업군'].str.contains('건설업') | test['산업군'].str.contains('정보통신업')), '산업군'] = '그 외'\n",
    "dummy_df = pd.get_dummies(test['산업군'])\n",
    "test = pd.concat([test,dummy_df],axis=1)"
   ]
  },
  {
   "attachments": {},
   "cell_type": "markdown",
   "metadata": {},
   "source": [
    "----"
   ]
  },
  {
   "cell_type": "code",
   "execution_count": 61,
   "metadata": {},
   "outputs": [
    {
     "data": {
      "text/plain": [
       "Index(['회사명', '거래소코드', '회계년도', '산업군', 'target_1', 'target_2', 'target_3',\n",
       "       '현금흐름/총부채비율', '현금흐름 대 자산', '총자본정상영업이익률', 'EBIT/총자산', '타인자본회전률',\n",
       "       '총자본회전률', '차입금의존도', '순운전자본비율', 'EBITDA마진율', 'TMD', '누적수익성비율', '부채비율',\n",
       "       '금융비용부담률', '자기자본순이익률', '외국인지분율', '총자본증가율', 'ROA변화율', '매출액총이익률',\n",
       "       '당기전기영업손익', '매출액증가율', '자본금회전률', '대주주지분율', '정상영업이익증가율', '건설업', '그 외',\n",
       "       '정보통신업', '제조업'],\n",
       "      dtype='object')"
      ]
     },
     "execution_count": 61,
     "metadata": {},
     "output_type": "execute_result"
    }
   ],
   "source": [
    "train.columns"
   ]
  },
  {
   "cell_type": "code",
   "execution_count": 62,
   "metadata": {},
   "outputs": [],
   "source": [
    "col_int = ['현금흐름/총부채비율', '현금흐름 대 자산', '총자본정상영업이익률', 'EBIT/총자산', '타인자본회전률',\n",
    "       '총자본회전률', '차입금의존도', '순운전자본비율', 'EBITDA마진율', 'TMD', '누적수익성비율', '부채비율',\n",
    "       '금융비용부담률', '자기자본순이익률', '외국인지분율', '총자본증가율', 'ROA변화율', '매출액총이익률',\n",
    "       '당기전기영업손익', '매출액증가율', '자본금회전률', '대주주지분율', '정상영업이익증가율','건설업',\n",
    "       '정보통신업', '제조업']"
   ]
  },
  {
   "attachments": {},
   "cell_type": "markdown",
   "metadata": {},
   "source": [
    "---\n",
    "#target1\n",
    "---"
   ]
  },
  {
   "cell_type": "code",
   "execution_count": 63,
   "metadata": {},
   "outputs": [],
   "source": [
    "x_train = train[col_int]\n",
    "y_train = train[['target_1']]\n",
    "\n",
    "x_test = test[col_int]\n",
    "y_test = test[['target_1']]"
   ]
  },
  {
   "cell_type": "code",
   "execution_count": 64,
   "metadata": {},
   "outputs": [],
   "source": [
    "#  선정된 피쳐를 저장하기 위한 데이터프레임 생성 \n",
    "df_select = pd.DataFrame()\n",
    "# 생성된 데이터프레임의 인덱스 지정\n",
    "df_select.index = x_train.columns"
   ]
  },
  {
   "attachments": {},
   "cell_type": "markdown",
   "metadata": {},
   "source": [
    "---\n",
    "# lasso - 임베디드기법\n",
    "---"
   ]
  },
  {
   "cell_type": "code",
   "execution_count": 65,
   "metadata": {},
   "outputs": [],
   "source": [
    "#  lasso\n",
    "selector = SelectFromModel(estimator=LogisticRegression(penalty='l1',solver='liblinear',C=0.01)).fit(x_train, y_train)\n",
    "df_select[\"lasso_0.01\"] = selector.get_support()\n",
    "\n",
    "selector = SelectFromModel(estimator=LogisticRegression(penalty='l1',solver='liblinear',C=0.05)).fit(x_train, y_train)\n",
    "df_select[\"lasso_0.05\"] = selector.get_support()\n",
    "\n",
    "selector = SelectFromModel(estimator=LogisticRegression(penalty='l1',solver='liblinear',C=0.1)).fit(x_train, y_train)\n",
    "df_select[\"lasso_0.1\"] = selector.get_support()\n"
   ]
  },
  {
   "attachments": {},
   "cell_type": "markdown",
   "metadata": {},
   "source": [
    "---\n",
    "# stepwise - 래퍼기법\n",
    "---"
   ]
  },
  {
   "cell_type": "code",
   "execution_count": 66,
   "metadata": {},
   "outputs": [],
   "source": [
    "# logit foward\n",
    "estimator = LogisticRegression(penalty='l1',solver='liblinear',C=0.1)\n",
    "selector = SequentialFeatureSelector(estimator,direction='forward',cv=5,n_jobs=-1)\n",
    "selector.fit(x_train, y_train)\n",
    "df_select['logit_fwd'] = selector.get_support().tolist()\n",
    "# logit backward\n",
    "selector = SequentialFeatureSelector(estimator,direction='backward',cv=5,n_jobs=-1)\n",
    "selector.fit(x_train, y_train)\n",
    "df_select['logit_bwd'] = selector.get_support().tolist()"
   ]
  },
  {
   "cell_type": "code",
   "execution_count": 67,
   "metadata": {},
   "outputs": [],
   "source": [
    "# lda foward\n",
    "estimator = LinearDiscriminantAnalysis(solver='svd')\n",
    "selector = SequentialFeatureSelector(estimator,direction='forward',cv=5,n_jobs=-1)\n",
    "selector.fit(x_train, y_train)\n",
    "df_select['lda_fwd'] = selector.get_support().tolist()\n",
    "# lda backward\n",
    "selector = SequentialFeatureSelector(estimator,direction='backward',cv=5,n_jobs=-1,)\n",
    "selector.fit(x_train, y_train)\n",
    "df_select['lda_bwd'] = selector.get_support().tolist()"
   ]
  },
  {
   "attachments": {},
   "cell_type": "markdown",
   "metadata": {},
   "source": [
    "---\n",
    "## 비모수적 방법\n",
    "---"
   ]
  },
  {
   "cell_type": "code",
   "execution_count": 68,
   "metadata": {},
   "outputs": [],
   "source": [
    "# # RandomForest_foward\n",
    "# estimator = RandomForestClassifier()\n",
    "# selector = SequentialFeatureSelector(estimator,direction='forward',cv=2,n_jobs=-1)\n",
    "# selector.fit(x_train, y_train)\n",
    "# df_select['RFC_fwd'] = selector.get_support().tolist()\n",
    "# # RandomForest _ backward\n",
    "# selector = SequentialFeatureSelector(estimator,direction='backward',cv=2,n_jobs=-1)\n",
    "# selector.fit(x_train, y_train)\n",
    "# df_select['RFC_bwd'] = selector.get_support().tolist()"
   ]
  },
  {
   "attachments": {},
   "cell_type": "markdown",
   "metadata": {},
   "source": [
    "---\n",
    "## 최종 select\n",
    "---"
   ]
  },
  {
   "cell_type": "code",
   "execution_count": 85,
   "metadata": {},
   "outputs": [
    {
     "data": {
      "text/plain": [
       "Index(['총자본정상영업이익률', 'EBIT/총자산', 'TMD', '누적수익성비율', '금융비용부담률', '자기자본순이익률',\n",
       "       '정상영업이익증가율'],\n",
       "      dtype='object')"
      ]
     },
     "execution_count": 85,
     "metadata": {},
     "output_type": "execute_result"
    }
   ],
   "source": [
    "for col in df_select.columns.to_list():\n",
    "    df_select[col] = df_select[col].apply(lambda x : 1 if x==True else 0)\n",
    "df_select['total'] = df_select.sum(axis=1)\n",
    "df_select[df_select['total']>=4].index"
   ]
  },
  {
   "cell_type": "code",
   "execution_count": 86,
   "metadata": {},
   "outputs": [],
   "source": [
    "최종_col =df_select[df_select['total']>=4].index.to_list()\n",
    "\n",
    "x_train_1 = x_train[최종_col]\n",
    "x_test_1 = x_test[최종_col]"
   ]
  },
  {
   "cell_type": "code",
   "execution_count": 87,
   "metadata": {},
   "outputs": [
    {
     "name": "stdout",
     "output_type": "stream",
     "text": [
      "[[2754    0]\n",
      " [   5   35]]\n",
      "[[2754    0]\n",
      " [   9   31]]\n",
      "[[2712   42]\n",
      " [   5   35]]\n",
      "[[2754    0]\n",
      " [   0   40]]\n",
      "[[2754    0]\n",
      " [   0   40]]\n"
     ]
    },
    {
     "data": {
      "text/html": [
       "<div>\n",
       "<style scoped>\n",
       "    .dataframe tbody tr th:only-of-type {\n",
       "        vertical-align: middle;\n",
       "    }\n",
       "\n",
       "    .dataframe tbody tr th {\n",
       "        vertical-align: top;\n",
       "    }\n",
       "\n",
       "    .dataframe thead th {\n",
       "        text-align: right;\n",
       "    }\n",
       "</style>\n",
       "<table border=\"1\" class=\"dataframe\">\n",
       "  <thead>\n",
       "    <tr style=\"text-align: right;\">\n",
       "      <th></th>\n",
       "      <th>model</th>\n",
       "      <th>accuracy</th>\n",
       "      <th>precision</th>\n",
       "      <th>recall</th>\n",
       "      <th>f1_score</th>\n",
       "      <th>auc_score</th>\n",
       "    </tr>\n",
       "  </thead>\n",
       "  <tbody>\n",
       "    <tr>\n",
       "      <th>0</th>\n",
       "      <td>LogisticRegression()</td>\n",
       "      <td>0.9982</td>\n",
       "      <td>1.0000</td>\n",
       "      <td>0.875</td>\n",
       "      <td>0.9333</td>\n",
       "      <td>0.9977</td>\n",
       "    </tr>\n",
       "    <tr>\n",
       "      <th>1</th>\n",
       "      <td>LinearDiscriminantAnalysis()</td>\n",
       "      <td>0.9968</td>\n",
       "      <td>1.0000</td>\n",
       "      <td>0.775</td>\n",
       "      <td>0.8732</td>\n",
       "      <td>0.9909</td>\n",
       "    </tr>\n",
       "    <tr>\n",
       "      <th>2</th>\n",
       "      <td>GaussianNB()</td>\n",
       "      <td>0.9832</td>\n",
       "      <td>0.4545</td>\n",
       "      <td>0.875</td>\n",
       "      <td>0.5983</td>\n",
       "      <td>0.9945</td>\n",
       "    </tr>\n",
       "    <tr>\n",
       "      <th>3</th>\n",
       "      <td>(DecisionTreeClassifier(max_features='sqrt', r...</td>\n",
       "      <td>1.0000</td>\n",
       "      <td>1.0000</td>\n",
       "      <td>1.000</td>\n",
       "      <td>1.0000</td>\n",
       "      <td>1.0000</td>\n",
       "    </tr>\n",
       "    <tr>\n",
       "      <th>4</th>\n",
       "      <td>XGBClassifier(base_score=None, booster=None, c...</td>\n",
       "      <td>1.0000</td>\n",
       "      <td>1.0000</td>\n",
       "      <td>1.000</td>\n",
       "      <td>1.0000</td>\n",
       "      <td>1.0000</td>\n",
       "    </tr>\n",
       "  </tbody>\n",
       "</table>\n",
       "</div>"
      ],
      "text/plain": [
       "                                               model  accuracy  precision  \\\n",
       "0                               LogisticRegression()    0.9982     1.0000   \n",
       "1                       LinearDiscriminantAnalysis()    0.9968     1.0000   \n",
       "2                                       GaussianNB()    0.9832     0.4545   \n",
       "3  (DecisionTreeClassifier(max_features='sqrt', r...    1.0000     1.0000   \n",
       "4  XGBClassifier(base_score=None, booster=None, c...    1.0000     1.0000   \n",
       "\n",
       "   recall  f1_score  auc_score  \n",
       "0   0.875    0.9333     0.9977  \n",
       "1   0.775    0.8732     0.9909  \n",
       "2   0.875    0.5983     0.9945  \n",
       "3   1.000    1.0000     1.0000  \n",
       "4   1.000    1.0000     1.0000  "
      ]
     },
     "execution_count": 87,
     "metadata": {},
     "output_type": "execute_result"
    }
   ],
   "source": [
    "model_basic(x_train_1,y_train,x_train_1,y_train)"
   ]
  },
  {
   "cell_type": "code",
   "execution_count": 88,
   "metadata": {},
   "outputs": [
    {
     "name": "stdout",
     "output_type": "stream",
     "text": [
      "[[1927   80]\n",
      " [   1    5]]\n",
      "[[1954   53]\n",
      " [   4    2]]\n",
      "[[1751  256]\n",
      " [   0    6]]\n",
      "[[1899  108]\n",
      " [   1    5]]\n",
      "[[1924   83]\n",
      " [   2    4]]\n"
     ]
    },
    {
     "data": {
      "text/html": [
       "<div>\n",
       "<style scoped>\n",
       "    .dataframe tbody tr th:only-of-type {\n",
       "        vertical-align: middle;\n",
       "    }\n",
       "\n",
       "    .dataframe tbody tr th {\n",
       "        vertical-align: top;\n",
       "    }\n",
       "\n",
       "    .dataframe thead th {\n",
       "        text-align: right;\n",
       "    }\n",
       "</style>\n",
       "<table border=\"1\" class=\"dataframe\">\n",
       "  <thead>\n",
       "    <tr style=\"text-align: right;\">\n",
       "      <th></th>\n",
       "      <th>model</th>\n",
       "      <th>accuracy</th>\n",
       "      <th>precision</th>\n",
       "      <th>recall</th>\n",
       "      <th>f1_score</th>\n",
       "      <th>auc_score</th>\n",
       "    </tr>\n",
       "  </thead>\n",
       "  <tbody>\n",
       "    <tr>\n",
       "      <th>0</th>\n",
       "      <td>LogisticRegression()</td>\n",
       "      <td>0.9598</td>\n",
       "      <td>0.0588</td>\n",
       "      <td>0.8333</td>\n",
       "      <td>0.1099</td>\n",
       "      <td>0.9759</td>\n",
       "    </tr>\n",
       "    <tr>\n",
       "      <th>1</th>\n",
       "      <td>LinearDiscriminantAnalysis()</td>\n",
       "      <td>0.9717</td>\n",
       "      <td>0.0364</td>\n",
       "      <td>0.3333</td>\n",
       "      <td>0.0656</td>\n",
       "      <td>0.9611</td>\n",
       "    </tr>\n",
       "    <tr>\n",
       "      <th>2</th>\n",
       "      <td>GaussianNB()</td>\n",
       "      <td>0.8728</td>\n",
       "      <td>0.0229</td>\n",
       "      <td>1.0000</td>\n",
       "      <td>0.0448</td>\n",
       "      <td>0.9378</td>\n",
       "    </tr>\n",
       "    <tr>\n",
       "      <th>3</th>\n",
       "      <td>(DecisionTreeClassifier(max_features='sqrt', r...</td>\n",
       "      <td>0.9459</td>\n",
       "      <td>0.0442</td>\n",
       "      <td>0.8333</td>\n",
       "      <td>0.0840</td>\n",
       "      <td>0.9694</td>\n",
       "    </tr>\n",
       "    <tr>\n",
       "      <th>4</th>\n",
       "      <td>XGBClassifier(base_score=None, booster=None, c...</td>\n",
       "      <td>0.9578</td>\n",
       "      <td>0.0460</td>\n",
       "      <td>0.6667</td>\n",
       "      <td>0.0860</td>\n",
       "      <td>0.9705</td>\n",
       "    </tr>\n",
       "  </tbody>\n",
       "</table>\n",
       "</div>"
      ],
      "text/plain": [
       "                                               model  accuracy  precision  \\\n",
       "0                               LogisticRegression()    0.9598     0.0588   \n",
       "1                       LinearDiscriminantAnalysis()    0.9717     0.0364   \n",
       "2                                       GaussianNB()    0.8728     0.0229   \n",
       "3  (DecisionTreeClassifier(max_features='sqrt', r...    0.9459     0.0442   \n",
       "4  XGBClassifier(base_score=None, booster=None, c...    0.9578     0.0460   \n",
       "\n",
       "   recall  f1_score  auc_score  \n",
       "0  0.8333    0.1099     0.9759  \n",
       "1  0.3333    0.0656     0.9611  \n",
       "2  1.0000    0.0448     0.9378  \n",
       "3  0.8333    0.0840     0.9694  \n",
       "4  0.6667    0.0860     0.9705  "
      ]
     },
     "execution_count": 88,
     "metadata": {},
     "output_type": "execute_result"
    }
   ],
   "source": [
    "model_basic(x_train_1,y_train,x_test_1,y_test)"
   ]
  },
  {
   "attachments": {},
   "cell_type": "markdown",
   "metadata": {},
   "source": [
    "-----\n",
    "# target2"
   ]
  },
  {
   "cell_type": "code",
   "execution_count": 89,
   "metadata": {},
   "outputs": [],
   "source": [
    "x_train = train[col_int]\n",
    "y_train = train[['target_2']]\n",
    "\n",
    "x_test = test[col_int]\n",
    "y_test = test[['target_2']]\n",
    "\n",
    "#  선정된 피쳐를 저장하기 위한 데이터프레임 생성 \n",
    "df_select_2 = pd.DataFrame()\n",
    "# 생성된 데이터프레임의 인덱스 지정\n",
    "df_select_2.index = x_train.columns"
   ]
  },
  {
   "cell_type": "code",
   "execution_count": 90,
   "metadata": {},
   "outputs": [],
   "source": [
    "#  lasso\n",
    "selector = SelectFromModel(estimator=LogisticRegression(penalty='l1',solver='liblinear',C=0.01)).fit(x_train, y_train)\n",
    "df_select_2[\"lasso_0.01\"] = selector.get_support()\n",
    "\n",
    "selector = SelectFromModel(estimator=LogisticRegression(penalty='l1',solver='liblinear',C=0.05)).fit(x_train, y_train)\n",
    "df_select_2[\"lasso_0.05\"] = selector.get_support()\n",
    "\n",
    "selector = SelectFromModel(estimator=LogisticRegression(penalty='l1',solver='liblinear',C=0.1)).fit(x_train, y_train)\n",
    "df_select_2[\"lasso_0.1\"] = selector.get_support()\n",
    "\n",
    "# logit foward\n",
    "estimator = LogisticRegression(penalty='l1',solver='liblinear',C=0.05)\n",
    "selector = SequentialFeatureSelector(estimator,direction='forward',cv=5,n_jobs=-1)\n",
    "selector.fit(x_train, y_train)\n",
    "df_select_2['logit_fwd'] = selector.get_support().tolist()\n",
    "# logit backward\n",
    "selector = SequentialFeatureSelector(estimator,direction='backward',cv=5,n_jobs=-1)\n",
    "selector.fit(x_train, y_train)\n",
    "df_select_2['logit_bwd'] = selector.get_support().tolist()\n",
    "\n",
    "\n",
    "# lda foward\n",
    "estimator = LinearDiscriminantAnalysis(solver='svd')\n",
    "selector = SequentialFeatureSelector(estimator,direction='forward',cv=5,n_jobs=-1)\n",
    "selector.fit(x_train, y_train)\n",
    "df_select_2['lda_fwd'] = selector.get_support().tolist()\n",
    "# lda backward\n",
    "selector = SequentialFeatureSelector(estimator,direction='backward',cv=5,n_jobs=-1,)\n",
    "selector.fit(x_train, y_train)\n",
    "df_select_2['lda_bwd'] = selector.get_support().tolist()\n",
    "\n",
    "# # RandomForest_foward\n",
    "# estimator = RandomForestClassifier()\n",
    "# selector = SequentialFeatureSelector(estimator,direction='forward',cv=2,n_jobs=-1)\n",
    "# selector.fit(x_train, y_train)\n",
    "# df_select_2['RFC_fwd'] = selector.get_support().tolist()\n",
    "# # RandomForest _ backward\n",
    "# selector = SequentialFeatureSelector(estimator,direction='backward',cv=2,n_jobs=-1)\n",
    "# selector.fit(x_train, y_train)\n",
    "# df_select_2['RFC_bwd'] = selector.get_support().tolist()"
   ]
  },
  {
   "cell_type": "code",
   "execution_count": 75,
   "metadata": {},
   "outputs": [
    {
     "data": {
      "text/plain": [
       "Index(['총자본정상영업이익률', 'TMD', '누적수익성비율', '부채비율', '금융비용부담률', '자기자본순이익률'], dtype='object')"
      ]
     },
     "execution_count": 75,
     "metadata": {},
     "output_type": "execute_result"
    }
   ],
   "source": [
    "for col in df_select_2.columns.to_list():\n",
    "    df_select_2[col] = df_select_2[col].apply(lambda x : 1 if x==True else 0)\n",
    "df_select_2['total'] = df_select_2.sum(axis=1)\n",
    "df_select_2[df_select_2['total']>=4].index"
   ]
  },
  {
   "cell_type": "code",
   "execution_count": 76,
   "metadata": {},
   "outputs": [],
   "source": [
    "최종_col =df_select_2[df_select_2['total']>=4].index.to_list()\n",
    "\n",
    "x_train_2 = x_train[최종_col]\n",
    "x_test_2 = x_test[최종_col]"
   ]
  },
  {
   "cell_type": "code",
   "execution_count": 77,
   "metadata": {},
   "outputs": [
    {
     "name": "stdout",
     "output_type": "stream",
     "text": [
      "[[2754    0]\n",
      " [   5   35]]\n",
      "[[2754    0]\n",
      " [  10   30]]\n",
      "[[2712   42]\n",
      " [   3   37]]\n",
      "[[2754    0]\n",
      " [   0   40]]\n",
      "[[2754    0]\n",
      " [   0   40]]\n"
     ]
    },
    {
     "data": {
      "text/html": [
       "<div>\n",
       "<style scoped>\n",
       "    .dataframe tbody tr th:only-of-type {\n",
       "        vertical-align: middle;\n",
       "    }\n",
       "\n",
       "    .dataframe tbody tr th {\n",
       "        vertical-align: top;\n",
       "    }\n",
       "\n",
       "    .dataframe thead th {\n",
       "        text-align: right;\n",
       "    }\n",
       "</style>\n",
       "<table border=\"1\" class=\"dataframe\">\n",
       "  <thead>\n",
       "    <tr style=\"text-align: right;\">\n",
       "      <th></th>\n",
       "      <th>model</th>\n",
       "      <th>accuracy</th>\n",
       "      <th>precision</th>\n",
       "      <th>recall</th>\n",
       "      <th>f1_score</th>\n",
       "      <th>auc_score</th>\n",
       "    </tr>\n",
       "  </thead>\n",
       "  <tbody>\n",
       "    <tr>\n",
       "      <th>0</th>\n",
       "      <td>LogisticRegression()</td>\n",
       "      <td>0.9982</td>\n",
       "      <td>1.0000</td>\n",
       "      <td>0.875</td>\n",
       "      <td>0.9333</td>\n",
       "      <td>0.9977</td>\n",
       "    </tr>\n",
       "    <tr>\n",
       "      <th>1</th>\n",
       "      <td>LinearDiscriminantAnalysis()</td>\n",
       "      <td>0.9964</td>\n",
       "      <td>1.0000</td>\n",
       "      <td>0.750</td>\n",
       "      <td>0.8571</td>\n",
       "      <td>0.9920</td>\n",
       "    </tr>\n",
       "    <tr>\n",
       "      <th>2</th>\n",
       "      <td>GaussianNB()</td>\n",
       "      <td>0.9839</td>\n",
       "      <td>0.4684</td>\n",
       "      <td>0.925</td>\n",
       "      <td>0.6218</td>\n",
       "      <td>0.9954</td>\n",
       "    </tr>\n",
       "    <tr>\n",
       "      <th>3</th>\n",
       "      <td>(DecisionTreeClassifier(max_features='sqrt', r...</td>\n",
       "      <td>1.0000</td>\n",
       "      <td>1.0000</td>\n",
       "      <td>1.000</td>\n",
       "      <td>1.0000</td>\n",
       "      <td>1.0000</td>\n",
       "    </tr>\n",
       "    <tr>\n",
       "      <th>4</th>\n",
       "      <td>XGBClassifier(base_score=None, booster=None, c...</td>\n",
       "      <td>1.0000</td>\n",
       "      <td>1.0000</td>\n",
       "      <td>1.000</td>\n",
       "      <td>1.0000</td>\n",
       "      <td>1.0000</td>\n",
       "    </tr>\n",
       "  </tbody>\n",
       "</table>\n",
       "</div>"
      ],
      "text/plain": [
       "                                               model  accuracy  precision  \\\n",
       "0                               LogisticRegression()    0.9982     1.0000   \n",
       "1                       LinearDiscriminantAnalysis()    0.9964     1.0000   \n",
       "2                                       GaussianNB()    0.9839     0.4684   \n",
       "3  (DecisionTreeClassifier(max_features='sqrt', r...    1.0000     1.0000   \n",
       "4  XGBClassifier(base_score=None, booster=None, c...    1.0000     1.0000   \n",
       "\n",
       "   recall  f1_score  auc_score  \n",
       "0   0.875    0.9333     0.9977  \n",
       "1   0.750    0.8571     0.9920  \n",
       "2   0.925    0.6218     0.9954  \n",
       "3   1.000    1.0000     1.0000  \n",
       "4   1.000    1.0000     1.0000  "
      ]
     },
     "execution_count": 77,
     "metadata": {},
     "output_type": "execute_result"
    }
   ],
   "source": [
    "model_basic(x_train_2,y_train,x_train_2,y_train)"
   ]
  },
  {
   "cell_type": "code",
   "execution_count": 91,
   "metadata": {},
   "outputs": [
    {
     "name": "stdout",
     "output_type": "stream",
     "text": [
      "[[1923   79]\n",
      " [   5    6]]\n",
      "[[1953   49]\n",
      " [   9    2]]\n",
      "[[1803  199]\n",
      " [   4    7]]\n",
      "[[1917   85]\n",
      " [   5    6]]\n",
      "[[1926   76]\n",
      " [   6    5]]\n"
     ]
    },
    {
     "data": {
      "text/html": [
       "<div>\n",
       "<style scoped>\n",
       "    .dataframe tbody tr th:only-of-type {\n",
       "        vertical-align: middle;\n",
       "    }\n",
       "\n",
       "    .dataframe tbody tr th {\n",
       "        vertical-align: top;\n",
       "    }\n",
       "\n",
       "    .dataframe thead th {\n",
       "        text-align: right;\n",
       "    }\n",
       "</style>\n",
       "<table border=\"1\" class=\"dataframe\">\n",
       "  <thead>\n",
       "    <tr style=\"text-align: right;\">\n",
       "      <th></th>\n",
       "      <th>model</th>\n",
       "      <th>accuracy</th>\n",
       "      <th>precision</th>\n",
       "      <th>recall</th>\n",
       "      <th>f1_score</th>\n",
       "      <th>auc_score</th>\n",
       "    </tr>\n",
       "  </thead>\n",
       "  <tbody>\n",
       "    <tr>\n",
       "      <th>0</th>\n",
       "      <td>LogisticRegression()</td>\n",
       "      <td>0.9583</td>\n",
       "      <td>0.0706</td>\n",
       "      <td>0.5455</td>\n",
       "      <td>0.1250</td>\n",
       "      <td>0.8151</td>\n",
       "    </tr>\n",
       "    <tr>\n",
       "      <th>1</th>\n",
       "      <td>LinearDiscriminantAnalysis()</td>\n",
       "      <td>0.9712</td>\n",
       "      <td>0.0392</td>\n",
       "      <td>0.1818</td>\n",
       "      <td>0.0645</td>\n",
       "      <td>0.7613</td>\n",
       "    </tr>\n",
       "    <tr>\n",
       "      <th>2</th>\n",
       "      <td>GaussianNB()</td>\n",
       "      <td>0.8992</td>\n",
       "      <td>0.0340</td>\n",
       "      <td>0.6364</td>\n",
       "      <td>0.0645</td>\n",
       "      <td>0.7730</td>\n",
       "    </tr>\n",
       "    <tr>\n",
       "      <th>3</th>\n",
       "      <td>(DecisionTreeClassifier(max_features='sqrt', r...</td>\n",
       "      <td>0.9553</td>\n",
       "      <td>0.0659</td>\n",
       "      <td>0.5455</td>\n",
       "      <td>0.1176</td>\n",
       "      <td>0.7728</td>\n",
       "    </tr>\n",
       "    <tr>\n",
       "      <th>4</th>\n",
       "      <td>XGBClassifier(base_score=None, booster=None, c...</td>\n",
       "      <td>0.9593</td>\n",
       "      <td>0.0617</td>\n",
       "      <td>0.4545</td>\n",
       "      <td>0.1087</td>\n",
       "      <td>0.7545</td>\n",
       "    </tr>\n",
       "  </tbody>\n",
       "</table>\n",
       "</div>"
      ],
      "text/plain": [
       "                                               model  accuracy  precision  \\\n",
       "0                               LogisticRegression()    0.9583     0.0706   \n",
       "1                       LinearDiscriminantAnalysis()    0.9712     0.0392   \n",
       "2                                       GaussianNB()    0.8992     0.0340   \n",
       "3  (DecisionTreeClassifier(max_features='sqrt', r...    0.9553     0.0659   \n",
       "4  XGBClassifier(base_score=None, booster=None, c...    0.9593     0.0617   \n",
       "\n",
       "   recall  f1_score  auc_score  \n",
       "0  0.5455    0.1250     0.8151  \n",
       "1  0.1818    0.0645     0.7613  \n",
       "2  0.6364    0.0645     0.7730  \n",
       "3  0.5455    0.1176     0.7728  \n",
       "4  0.4545    0.1087     0.7545  "
      ]
     },
     "execution_count": 91,
     "metadata": {},
     "output_type": "execute_result"
    }
   ],
   "source": [
    "model_basic(x_train_2,y_train,x_test_2,y_test)"
   ]
  },
  {
   "attachments": {},
   "cell_type": "markdown",
   "metadata": {},
   "source": [
    "----\n",
    "# target3"
   ]
  },
  {
   "cell_type": "code",
   "execution_count": 79,
   "metadata": {},
   "outputs": [],
   "source": [
    "x_train = train[col_int]\n",
    "y_train = train[['target_3']]\n",
    "\n",
    "x_test = test[col_int]\n",
    "y_test = test[['target_3']]\n",
    "\n",
    "#  선정된 피쳐를 저장하기 위한 데이터프레임 생성 \n",
    "df_select_3 = pd.DataFrame()\n",
    "# 생성된 데이터프레임의 인덱스 지정\n",
    "df_select_3.index = x_train.columns"
   ]
  },
  {
   "cell_type": "code",
   "execution_count": 80,
   "metadata": {},
   "outputs": [],
   "source": [
    "#  lasso\n",
    "selector = SelectFromModel(estimator=LogisticRegression(penalty='l1',solver='liblinear',C=0.01)).fit(x_train, y_train)\n",
    "df_select_3[\"lasso_0.01\"] = selector.get_support()\n",
    "\n",
    "selector = SelectFromModel(estimator=LogisticRegression(penalty='l1',solver='liblinear',C=0.05)).fit(x_train, y_train)\n",
    "df_select_3[\"lasso_0.05\"] = selector.get_support()\n",
    "\n",
    "selector = SelectFromModel(estimator=LogisticRegression(penalty='l1',solver='liblinear',C=0.1)).fit(x_train, y_train)\n",
    "df_select_3[\"lasso_0.1\"] = selector.get_support()\n",
    "\n",
    "# logit foward\n",
    "estimator = LogisticRegression(penalty='l1',solver='liblinear',C=0.05)\n",
    "selector = SequentialFeatureSelector(estimator,direction='forward',cv=5,n_jobs=-1)\n",
    "selector.fit(x_train, y_train)\n",
    "df_select_3['logit_fwd'] = selector.get_support().tolist()\n",
    "# logit backward\n",
    "selector = SequentialFeatureSelector(estimator,direction='backward',cv=5,n_jobs=-1)\n",
    "selector.fit(x_train, y_train)\n",
    "df_select_3['logit_bwd'] = selector.get_support().tolist()\n",
    "\n",
    "\n",
    "# lda foward\n",
    "estimator = LinearDiscriminantAnalysis(solver='svd')\n",
    "selector = SequentialFeatureSelector(estimator,direction='forward',cv=5,n_jobs=-1)\n",
    "selector.fit(x_train, y_train)\n",
    "df_select_3['lda_fwd'] = selector.get_support().tolist()\n",
    "# lda backward\n",
    "selector = SequentialFeatureSelector(estimator,direction='backward',cv=5,n_jobs=-1,)\n",
    "selector.fit(x_train, y_train)\n",
    "df_select_3['lda_bwd'] = selector.get_support().tolist()\n",
    "\n",
    "# # RandomForest_foward\n",
    "# estimator = RandomForestClassifier()\n",
    "# selector = SequentialFeatureSelector(estimator,direction='forward',cv=2,n_jobs=-1)\n",
    "# selector.fit(x_train, y_train)\n",
    "# df_select_3['RFC_fwd'] = selector.get_support().tolist()\n",
    "# # RandomForest _ backward\n",
    "# selector = SequentialFeatureSelector(estimator,direction='backward',cv=2,n_jobs=-1)\n",
    "# selector.fit(x_train, y_train)\n",
    "# df_select_3['RFC_bwd'] = selector.get_support().tolist()"
   ]
  },
  {
   "cell_type": "code",
   "execution_count": 81,
   "metadata": {},
   "outputs": [
    {
     "data": {
      "text/plain": [
       "Index(['총자본정상영업이익률', 'TMD', '누적수익성비율', '부채비율', '금융비용부담률', '자기자본순이익률'], dtype='object')"
      ]
     },
     "execution_count": 81,
     "metadata": {},
     "output_type": "execute_result"
    }
   ],
   "source": [
    "for col in df_select_3.columns.to_list():\n",
    "    df_select_3[col] = df_select_3[col].apply(lambda x : 1 if x==True else 0)\n",
    "df_select_3['total'] = df_select_3.sum(axis=1)\n",
    "df_select_3[df_select_3['total']>=4].index"
   ]
  },
  {
   "cell_type": "code",
   "execution_count": 82,
   "metadata": {},
   "outputs": [],
   "source": [
    "최종_col =df_select_3[df_select_3['total']>=4].index.to_list()\n",
    "\n",
    "x_train_3 = x_train[최종_col]\n",
    "x_test_3 = x_test[최종_col]"
   ]
  },
  {
   "cell_type": "code",
   "execution_count": 83,
   "metadata": {},
   "outputs": [
    {
     "name": "stdout",
     "output_type": "stream",
     "text": [
      "[[2754    0]\n",
      " [   5   35]]\n",
      "[[2754    0]\n",
      " [  10   30]]\n",
      "[[2712   42]\n",
      " [   3   37]]\n",
      "[[2754    0]\n",
      " [   0   40]]\n",
      "[[2754    0]\n",
      " [   0   40]]\n"
     ]
    },
    {
     "data": {
      "text/html": [
       "<div>\n",
       "<style scoped>\n",
       "    .dataframe tbody tr th:only-of-type {\n",
       "        vertical-align: middle;\n",
       "    }\n",
       "\n",
       "    .dataframe tbody tr th {\n",
       "        vertical-align: top;\n",
       "    }\n",
       "\n",
       "    .dataframe thead th {\n",
       "        text-align: right;\n",
       "    }\n",
       "</style>\n",
       "<table border=\"1\" class=\"dataframe\">\n",
       "  <thead>\n",
       "    <tr style=\"text-align: right;\">\n",
       "      <th></th>\n",
       "      <th>model</th>\n",
       "      <th>accuracy</th>\n",
       "      <th>precision</th>\n",
       "      <th>recall</th>\n",
       "      <th>f1_score</th>\n",
       "      <th>auc_score</th>\n",
       "    </tr>\n",
       "  </thead>\n",
       "  <tbody>\n",
       "    <tr>\n",
       "      <th>0</th>\n",
       "      <td>LogisticRegression()</td>\n",
       "      <td>0.9982</td>\n",
       "      <td>1.0000</td>\n",
       "      <td>0.875</td>\n",
       "      <td>0.9333</td>\n",
       "      <td>0.9977</td>\n",
       "    </tr>\n",
       "    <tr>\n",
       "      <th>1</th>\n",
       "      <td>LinearDiscriminantAnalysis()</td>\n",
       "      <td>0.9964</td>\n",
       "      <td>1.0000</td>\n",
       "      <td>0.750</td>\n",
       "      <td>0.8571</td>\n",
       "      <td>0.9920</td>\n",
       "    </tr>\n",
       "    <tr>\n",
       "      <th>2</th>\n",
       "      <td>GaussianNB()</td>\n",
       "      <td>0.9839</td>\n",
       "      <td>0.4684</td>\n",
       "      <td>0.925</td>\n",
       "      <td>0.6218</td>\n",
       "      <td>0.9954</td>\n",
       "    </tr>\n",
       "    <tr>\n",
       "      <th>3</th>\n",
       "      <td>(DecisionTreeClassifier(max_features='sqrt', r...</td>\n",
       "      <td>1.0000</td>\n",
       "      <td>1.0000</td>\n",
       "      <td>1.000</td>\n",
       "      <td>1.0000</td>\n",
       "      <td>1.0000</td>\n",
       "    </tr>\n",
       "    <tr>\n",
       "      <th>4</th>\n",
       "      <td>XGBClassifier(base_score=None, booster=None, c...</td>\n",
       "      <td>1.0000</td>\n",
       "      <td>1.0000</td>\n",
       "      <td>1.000</td>\n",
       "      <td>1.0000</td>\n",
       "      <td>1.0000</td>\n",
       "    </tr>\n",
       "  </tbody>\n",
       "</table>\n",
       "</div>"
      ],
      "text/plain": [
       "                                               model  accuracy  precision  \\\n",
       "0                               LogisticRegression()    0.9982     1.0000   \n",
       "1                       LinearDiscriminantAnalysis()    0.9964     1.0000   \n",
       "2                                       GaussianNB()    0.9839     0.4684   \n",
       "3  (DecisionTreeClassifier(max_features='sqrt', r...    1.0000     1.0000   \n",
       "4  XGBClassifier(base_score=None, booster=None, c...    1.0000     1.0000   \n",
       "\n",
       "   recall  f1_score  auc_score  \n",
       "0   0.875    0.9333     0.9977  \n",
       "1   0.750    0.8571     0.9920  \n",
       "2   0.925    0.6218     0.9954  \n",
       "3   1.000    1.0000     1.0000  \n",
       "4   1.000    1.0000     1.0000  "
      ]
     },
     "execution_count": 83,
     "metadata": {},
     "output_type": "execute_result"
    }
   ],
   "source": [
    "model_basic(x_train_3,y_train,x_train_3,y_train)"
   ]
  },
  {
   "cell_type": "code",
   "execution_count": 84,
   "metadata": {},
   "outputs": [
    {
     "name": "stdout",
     "output_type": "stream",
     "text": [
      "[[1927   80]\n",
      " [   1    5]]\n",
      "[[1958   49]\n",
      " [   4    2]]\n",
      "[[1807  200]\n",
      " [   0    6]]\n",
      "[[1910   97]\n",
      " [   1    5]]\n",
      "[[1930   77]\n",
      " [   2    4]]\n"
     ]
    },
    {
     "data": {
      "text/html": [
       "<div>\n",
       "<style scoped>\n",
       "    .dataframe tbody tr th:only-of-type {\n",
       "        vertical-align: middle;\n",
       "    }\n",
       "\n",
       "    .dataframe tbody tr th {\n",
       "        vertical-align: top;\n",
       "    }\n",
       "\n",
       "    .dataframe thead th {\n",
       "        text-align: right;\n",
       "    }\n",
       "</style>\n",
       "<table border=\"1\" class=\"dataframe\">\n",
       "  <thead>\n",
       "    <tr style=\"text-align: right;\">\n",
       "      <th></th>\n",
       "      <th>model</th>\n",
       "      <th>accuracy</th>\n",
       "      <th>precision</th>\n",
       "      <th>recall</th>\n",
       "      <th>f1_score</th>\n",
       "      <th>auc_score</th>\n",
       "    </tr>\n",
       "  </thead>\n",
       "  <tbody>\n",
       "    <tr>\n",
       "      <th>0</th>\n",
       "      <td>LogisticRegression()</td>\n",
       "      <td>0.9598</td>\n",
       "      <td>0.0588</td>\n",
       "      <td>0.8333</td>\n",
       "      <td>0.1099</td>\n",
       "      <td>0.9760</td>\n",
       "    </tr>\n",
       "    <tr>\n",
       "      <th>1</th>\n",
       "      <td>LinearDiscriminantAnalysis()</td>\n",
       "      <td>0.9737</td>\n",
       "      <td>0.0392</td>\n",
       "      <td>0.3333</td>\n",
       "      <td>0.0702</td>\n",
       "      <td>0.9630</td>\n",
       "    </tr>\n",
       "    <tr>\n",
       "      <th>2</th>\n",
       "      <td>GaussianNB()</td>\n",
       "      <td>0.9006</td>\n",
       "      <td>0.0291</td>\n",
       "      <td>1.0000</td>\n",
       "      <td>0.0566</td>\n",
       "      <td>0.9501</td>\n",
       "    </tr>\n",
       "    <tr>\n",
       "      <th>3</th>\n",
       "      <td>(DecisionTreeClassifier(max_features='sqrt', r...</td>\n",
       "      <td>0.9513</td>\n",
       "      <td>0.0490</td>\n",
       "      <td>0.8333</td>\n",
       "      <td>0.0926</td>\n",
       "      <td>0.9681</td>\n",
       "    </tr>\n",
       "    <tr>\n",
       "      <th>4</th>\n",
       "      <td>XGBClassifier(base_score=None, booster=None, c...</td>\n",
       "      <td>0.9608</td>\n",
       "      <td>0.0494</td>\n",
       "      <td>0.6667</td>\n",
       "      <td>0.0920</td>\n",
       "      <td>0.9718</td>\n",
       "    </tr>\n",
       "  </tbody>\n",
       "</table>\n",
       "</div>"
      ],
      "text/plain": [
       "                                               model  accuracy  precision  \\\n",
       "0                               LogisticRegression()    0.9598     0.0588   \n",
       "1                       LinearDiscriminantAnalysis()    0.9737     0.0392   \n",
       "2                                       GaussianNB()    0.9006     0.0291   \n",
       "3  (DecisionTreeClassifier(max_features='sqrt', r...    0.9513     0.0490   \n",
       "4  XGBClassifier(base_score=None, booster=None, c...    0.9608     0.0494   \n",
       "\n",
       "   recall  f1_score  auc_score  \n",
       "0  0.8333    0.1099     0.9760  \n",
       "1  0.3333    0.0702     0.9630  \n",
       "2  1.0000    0.0566     0.9501  \n",
       "3  0.8333    0.0926     0.9681  \n",
       "4  0.6667    0.0920     0.9718  "
      ]
     },
     "execution_count": 84,
     "metadata": {},
     "output_type": "execute_result"
    }
   ],
   "source": [
    "model_basic(x_train_3,y_train,x_test_3,y_test)"
   ]
  },
  {
   "cell_type": "code",
   "execution_count": null,
   "metadata": {},
   "outputs": [],
   "source": []
  }
 ],
 "metadata": {
  "kernelspec": {
   "display_name": "base",
   "language": "python",
   "name": "python3"
  },
  "language_info": {
   "codemirror_mode": {
    "name": "ipython",
    "version": 3
   },
   "file_extension": ".py",
   "mimetype": "text/x-python",
   "name": "python",
   "nbconvert_exporter": "python",
   "pygments_lexer": "ipython3",
   "version": "3.9.13"
  },
  "orig_nbformat": 4
 },
 "nbformat": 4,
 "nbformat_minor": 2
}
