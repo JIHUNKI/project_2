{
 "cells": [
  {
   "cell_type": "code",
   "execution_count": 1,
   "metadata": {},
   "outputs": [],
   "source": [
    "import pandas as pd\n",
    "import numpy as np"
   ]
  },
  {
   "cell_type": "code",
   "execution_count": 7,
   "metadata": {},
   "outputs": [],
   "source": [
    "수익성 = pd.read_csv('./datasets/코스닥/코스닥 수익성.csv',encoding='cp949')\n",
    "안정성 = pd.read_csv('./datasets/코스닥/코스닥 안정성.csv',encoding='cp949')\n",
    "활동성 = pd.read_csv('./datasets/코스닥/코스닥 활동성.csv',encoding='cp949')\n",
    "성장성 = pd.read_csv('./datasets/코스닥/코스닥 성장성 계산용.csv',encoding='cp949')\n",
    "현금흐름 = pd.read_csv('./datasets/코스닥/코스닥 현금흐름 + 누적수익성비율.csv',encoding='cp949')\n",
    "연구개발 = pd.read_csv('./datasets/코스닥/코스닥 rs.csv',encoding='cp949')\n",
    "EBIT = pd.read_csv('./datasets/코스닥/에비~ 코스닥.csv',encoding='cp949')\n",
    "per_pbr_총부채 = pd.read_csv('./datasets/코스닥/per pbr 총부채 코스닥.csv',encoding='cp949')\n",
    "직원수_업력 = pd.read_csv('./datasets/코스닥/코스닥 직원수 급여 업력 외국인 대주주.csv',encoding='cp949')\n",
    "시가총액 = pd.read_csv('./datasets/코스닥/코스닥시가총액.csv',index_col=0)  #### 시총도 붙여야됨\n",
    "단기차입금 = pd.read_csv('./datasets/코스닥/코스닥 단기차입금 유동성 장기부채.csv',encoding='cp949')\n",
    "거시변수 = pd.read_excel('./datasets/거시경제 변수/거시변수.xlsx')\n",
    "상장일 = pd.read_csv('./datasets/코스닥/코스닥 상장일.csv',encoding='cp949')\n",
    "대분류 = pd.read_csv('./datasets/코스닥/코스닥 대분류.csv',encoding='cp949')"
   ]
  },
  {
   "cell_type": "code",
   "execution_count": 8,
   "metadata": {},
   "outputs": [],
   "source": [
    "대분류.drop(['통계청 한국표준산업분류 코드 10차(대분류)'],axis=1,inplace=True)"
   ]
  },
  {
   "cell_type": "code",
   "execution_count": 9,
   "metadata": {},
   "outputs": [],
   "source": [
    "df = 안정성.merge(수익성,on=['회사명','거래소코드','회계년도'],how='left')\n",
    "df = df.merge(활동성,on=['회사명','거래소코드','회계년도'],how='left')\n",
    "df = df.merge(성장성,on=['회사명','거래소코드','회계년도'],how='left')\n",
    "df = df.merge(현금흐름,on=['회사명','거래소코드','회계년도'],how='left')\n",
    "df = df.merge(연구개발,on=['회사명','거래소코드','회계년도'],how='left')\n",
    "df = df.merge(EBIT,on=['회사명','거래소코드','회계년도'],how='left')\n",
    "df = df.merge(per_pbr_총부채,on=['회사명','거래소코드','회계년도'],how='left')\n",
    "df = df.merge(직원수_업력,on=['회사명','거래소코드','회계년도'],how='left')\n",
    "df = df.merge(단기차입금,on=['회사명','거래소코드','회계년도'],how='left')\n",
    "df = df.merge(상장일,on=['회사명','거래소코드','회계년도'],how='left')\n",
    "df = df.merge(대분류,on=['회사명','거래소코드','회계년도'],how='left')"
   ]
  },
  {
   "cell_type": "code",
   "execution_count": 11,
   "metadata": {},
   "outputs": [
    {
     "data": {
      "text/plain": [
       "95"
      ]
     },
     "execution_count": 11,
     "metadata": {},
     "output_type": "execute_result"
    }
   ],
   "source": [
    "len(df.columns)"
   ]
  },
  {
   "cell_type": "code",
   "execution_count": 12,
   "metadata": {},
   "outputs": [],
   "source": [
    "## 거래소코드 패딩\n",
    "def padding(x):\n",
    "    x = str(x)\n",
    "    return x.rjust(6, \"0\")\n",
    "## 외국계기업 제거\n",
    "def func_isnt_fcompany(x):\n",
    "    if x[:1] == '9':\n",
    "        return False\n",
    "    else:\n",
    "        return True\n",
    "\n",
    "# 회계년도컬럼, 년도만 뽑아서 int화\n",
    "def change_year(x):\n",
    "    return int(x[:4])\n",
    "\n",
    "def func_not(x):\n",
    "    return not x\n",
    "\n",
    "def change_year_2(x):\n",
    "    return (x[:4])"
   ]
  },
  {
   "cell_type": "code",
   "execution_count": 13,
   "metadata": {},
   "outputs": [],
   "source": [
    "## 거래소 코드 패딩\n",
    "df['거래소코드'] = df['거래소코드'].map(padding)\n",
    "# 회계년도 제거\n",
    "df['회계년도'] = df['회계년도'].map(change_year)"
   ]
  },
  {
   "cell_type": "code",
   "execution_count": 14,
   "metadata": {},
   "outputs": [
    {
     "data": {
      "text/plain": [
       "회사명                            0\n",
       "거래소코드                          0\n",
       "회계년도                           0\n",
       "자산(*)(요약)(IFRS)             1844\n",
       "자본(*)(요약)(IFRS)             1844\n",
       "                            ... \n",
       "유동성장기부채(요약)(IFRS)(백만원)      1844\n",
       "단기차입금(요약)(IFRS연결)(백만원)      5530\n",
       "유동성장기부채(요약)(IFRS연결)(백만원)    5530\n",
       "상장일                            0\n",
       "통계청 한국표준산업분류 10차(대분류)          0\n",
       "Length: 95, dtype: int64"
      ]
     },
     "execution_count": 14,
     "metadata": {},
     "output_type": "execute_result"
    }
   ],
   "source": [
    "df.isna().sum()"
   ]
  },
  {
   "cell_type": "code",
   "execution_count": 15,
   "metadata": {},
   "outputs": [],
   "source": [
    "## 중복되는 데이터 제거\n",
    "df.drop_duplicates(['거래소코드',\"회계년도\"], keep='last', inplace=True)\n",
    "df.reset_index(drop=True, inplace=True)\n",
    "\n",
    "## 없음\n"
   ]
  },
  {
   "cell_type": "code",
   "execution_count": 16,
   "metadata": {},
   "outputs": [
    {
     "name": "stdout",
     "output_type": "stream",
     "text": [
      "전체 행: 15617 개\n",
      "전체 기업 수 1744\n"
     ]
    }
   ],
   "source": [
    "print('전체 행:', df.shape[0],'개')\n",
    "print('전체 기업 수',len(df['회사명'].unique()))"
   ]
  },
  {
   "cell_type": "code",
   "execution_count": 17,
   "metadata": {},
   "outputs": [
    {
     "name": "stdout",
     "output_type": "stream",
     "text": [
      "제거할 데이터 수 :  152\n",
      "제거할 외국계 기업 수 23\n",
      "남은 데이터 수 15465\n",
      "남은 기업 수 1721\n"
     ]
    }
   ],
   "source": [
    "## 외국계 기업 제거\n",
    "print(\"제거할 데이터 수 : \", len(df[df[\"거래소코드\"].map(func_isnt_fcompany).map(func_not)]))\n",
    "print('제거할 외국계 기업 수',len(df[~df[\"거래소코드\"].map(func_isnt_fcompany)].회사명.unique()))\n",
    "\n",
    "df = df[df[\"거래소코드\"].map(func_isnt_fcompany)]\n",
    "print('남은 데이터 수',df.shape[0]) # 외국계기업 데이터 24개 제거\n",
    "print('남은 기업 수',len(df['회사명'].unique()))"
   ]
  },
  {
   "cell_type": "code",
   "execution_count": 18,
   "metadata": {},
   "outputs": [
    {
     "name": "stdout",
     "output_type": "stream",
     "text": [
      "회사수 :  1721\n",
      "거래소코드수 :  1743\n"
     ]
    }
   ],
   "source": [
    "## 회사수와 거래소코드수 차이가나는것 확인\n",
    "print(\"회사수 : \", len(df[\"회사명\"].unique()))\n",
    "print(\"거래소코드수 : \", len(df[\"거래소코드\"].unique()))"
   ]
  },
  {
   "cell_type": "code",
   "execution_count": 19,
   "metadata": {},
   "outputs": [
    {
     "name": "stdout",
     "output_type": "stream",
     "text": [
      "거래소코드가 2개인 기업 수 22 개\n"
     ]
    }
   ],
   "source": [
    "## 거래소 코드 중복기업 전처리\n",
    "list_overlap_code = list()\n",
    "for i in list(df[\"회사명\"].unique()):\n",
    "    if len(df[df[\"회사명\"]==i][\"거래소코드\"].unique()) > 1:\n",
    "        list_overlap_code.append(i)\n",
    "print(\"거래소코드가 2개인 기업 수\", len(list_overlap_code), \"개\")"
   ]
  },
  {
   "cell_type": "code",
   "execution_count": 20,
   "metadata": {},
   "outputs": [
    {
     "data": {
      "text/plain": [
       "['(주)본느',\n",
       " '(주)세화피앤씨',\n",
       " '(주)아이엘사이언스',\n",
       " '(주)알로이스',\n",
       " '(주)에스에이티',\n",
       " '(주)엔케이맥스',\n",
       " '(주)원바이오젠',\n",
       " '(주)인산가',\n",
       " '(주)자비스',\n",
       " '(주)정다운',\n",
       " '(주)카이노스메드',\n",
       " '(주)티에스트릴리온',\n",
       " '(주)포인트엔지니어링',\n",
       " '(주)한국비엔씨',\n",
       " '(주)휴럼',\n",
       " '나무기술(주)',\n",
       " '소프트캠프(주)',\n",
       " '씨아이에스(주)',\n",
       " '에스케이오션플랜트(주)',\n",
       " '엠에프엠코리아(주)',\n",
       " '줌인터넷(주)',\n",
       " '패션플랫폼(주)']"
      ]
     },
     "execution_count": 20,
     "metadata": {},
     "output_type": "execute_result"
    }
   ],
   "source": [
    "list_overlap_code"
   ]
  },
  {
   "cell_type": "code",
   "execution_count": 21,
   "metadata": {},
   "outputs": [],
   "source": [
    "# 중복 거래소코드 제거\n",
    "def func_overlap_code(x):\n",
    "    if x == (df[df[\"회사명\"]==company_name][\"거래소코드\"].iloc[-1]) :\n",
    "        return True\n",
    "    else:\n",
    "        return False\n",
    "\n",
    "list_companyname = list(df[\"회사명\"].unique())\n",
    "\n",
    "\n",
    "dfs = list()\n",
    "\n",
    "\n",
    "for i in list_companyname:\n",
    "    company_name = i\n",
    "    #각 기업별로 데이터프레임 생성\n",
    "    df_concat = df[df[\"회사명\"]==i]\n",
    "    df_concat = df_concat[df_concat[\"거래소코드\"].map(func_overlap_code)] # 거래소코드 바뀌기 전의 거래소코드의 데이터는 삭제\n",
    "    dfs.append(df_concat)\n",
    "df = pd.concat(dfs)\n",
    "df.reset_index(drop=True, inplace=True)"
   ]
  },
  {
   "cell_type": "code",
   "execution_count": 22,
   "metadata": {},
   "outputs": [
    {
     "data": {
      "text/plain": [
       "[]"
      ]
     },
     "execution_count": 22,
     "metadata": {},
     "output_type": "execute_result"
    }
   ],
   "source": [
    "# 회사명이 2개인 거래소코드 존재 확인 \n",
    "list_overlap_code = list()\n",
    "for i in list(df[\"거래소코드\"].unique()):\n",
    "    if len(df[df[\"거래소코드\"]==i][\"회사명\"].unique()) > 1:\n",
    "        list_overlap_code.append(i)\n",
    "list_overlap_code"
   ]
  },
  {
   "cell_type": "code",
   "execution_count": 23,
   "metadata": {},
   "outputs": [],
   "source": [
    "## 연결 결측치 개별로 채우기\n",
    "for i in range(df.shape[0]):\n",
    "    if pd.isnull(df.loc[i,'유보율(IFRS연결)(백만원)']):\n",
    "       df.loc[i,'유보율(IFRS연결)(백만원)'] = df.loc[i,'유보율(IFRS)']\n",
    "    if pd.isnull(df.loc[i,'[제조]* (정상)영업손익(보고서기재)(요약)(IFRS연결)(백만원)']):\n",
    "       df.loc[i,'[제조]* (정상)영업손익(보고서기재)(요약)(IFRS연결)(백만원)'] = df.loc[i,'[제조]* (정상)영업손익(보고서기재)(요약)(IFRS)(백만원)']\n",
    "    if pd.isnull(df.loc[i,'[제조]      이익잉여금(결손금)(요약)(IFRS연결)(백만원)']):\n",
    "       df.loc[i,'[제조]      이익잉여금(결손금)(요약)(IFRS연결)(백만원)'] = df.loc[i,'[제조]      이익잉여금(결손금)(요약)(IFRS)(백만원)']\n",
    "    if pd.isnull(df.loc[i,'[제조]영업활동으로 인한 현금흐름(간접법)(*)(요약)(IFRS연결)(백만원)']):\n",
    "       df.loc[i,'[제조]영업활동으로 인한 현금흐름(간접법)(*)(요약)(IFRS연결)(백만원)'] = df.loc[i,'[제조]영업활동으로 인한 현금흐름(간접법)(*)(요약)(IFRS)(백만원)']\n",
    "    if pd.isnull(df.loc[i,'자산(*)(요약)(IFRS연결)(백만원)']):\n",
    "       df.loc[i,'자산(*)(요약)(IFRS연결)(백만원)'] = df.loc[i,'자산(*)(요약)(IFRS)(백만원)']\n",
    "    if pd.isnull(df.loc[i,'부채(*)(요약)(IFRS연결)(백만원)']):\n",
    "       df.loc[i,'부채(*)(요약)(IFRS연결)(백만원)'] = df.loc[i,'부채(*)(요약)(IFRS)(백만원)']\n",
    "    if pd.isnull(df.loc[i,'[제조]자본(*)(요약)(IFRS연결)(백만원)']):\n",
    "       df.loc[i,'[제조]자본(*)(요약)(IFRS연결)(백만원)'] = df.loc[i,'[제조]자본(*)(요약)(IFRS)(백만원)']\n",
    "    if pd.isnull(df.loc[i,'당기순이익(손실)(요약)(IFRS연결)(백만원)']):\n",
    "       df.loc[i,'당기순이익(손실)(요약)(IFRS연결)(백만원)'] = df.loc[i,'당기순이익(손실)(요약)(IFRS)(백만원)']\n",
    "    if pd.isnull(df.loc[i,'법인세비용차감전순이익(손실)(요약)(IFRS연결)(백만원)']):\n",
    "       df.loc[i,'법인세비용차감전순이익(손실)(요약)(IFRS연결)(백만원)'] = df.loc[i,'법인세비용차감전순이익(손실)(요약)(IFRS)(백만원)']\n",
    "    if pd.isnull(df.loc[i,'금융원가(요약)(IFRS연결)(백만원)']):\n",
    "       df.loc[i,'금융원가(요약)(IFRS연결)(백만원)'] = df.loc[i,'금융원가(요약)(IFRS)(백만원)']\n",
    "    if pd.isnull(df.loc[i,'금융수익(요약)(IFRS연결)(백만원)']):\n",
    "       df.loc[i,'금융수익(요약)(IFRS연결)(백만원)'] = df.loc[i,'금융수익(요약)(IFRS)(백만원)']\n",
    "    if pd.isnull(df.loc[i,'매출액(수익)(요약)(IFRS연결)(백만원)']):\n",
    "       df.loc[i,'매출액(수익)(요약)(IFRS연결)(백만원)'] = df.loc[i,'매출액(수익)(요약)(IFRS)(백만원)']\n",
    "    if pd.isnull(df.loc[i,'연구개발비(IFRS연결)(천원)']):\n",
    "       df.loc[i,'연구개발비(IFRS연결)(천원)'] = df.loc[i,'연구개발비(IFRS)(천원)']\n",
    "    if pd.isnull(df.loc[i,'[제조]      유형자산(요약)(IFRS연결)(백만원)']):\n",
    "       df.loc[i,'[제조]      유형자산(요약)(IFRS연결)(백만원)'] = df.loc[i,'[제조]      유형자산(요약)(IFRS)(백만원)']\n",
    "    if pd.isnull(df.loc[i,'자본금회전률(IFRS연결)']):\n",
    "       df.loc[i,'자본금회전률(IFRS연결)'] = df.loc[i,'자본금회전률(IFRS)']\n",
    "    if pd.isnull(df.loc[i,'총자본회전률(IFRS연결)']):\n",
    "       df.loc[i,'총자본회전률(IFRS연결)'] = df.loc[i,'총자본회전률(IFRS)']\n",
    "    if pd.isnull(df.loc[i,'재고자산회전률(IFRS연결)']):\n",
    "       df.loc[i,'재고자산회전률(IFRS연결)'] = df.loc[i,'재고자산회전률(IFRS)']\n",
    "    if pd.isnull(df.loc[i,'유형자산회전율(IFRS연결)']):\n",
    "       df.loc[i,'유형자산회전율(IFRS연결)'] = df.loc[i,'유형자산회전율(IFRS)']\n",
    "    if pd.isnull(df.loc[i,'자기자본회전률(IFRS연결)']):\n",
    "       df.loc[i,'자기자본회전률(IFRS연결)'] = df.loc[i,'자기자본회전률(IFRS)']\n",
    "    if pd.isnull(df.loc[i,'타인자본회전률(IFRS연결)']):\n",
    "       df.loc[i,'타인자본회전률(IFRS연결)'] = df.loc[i,'타인자본회전률(IFRS)']\n",
    "    if pd.isnull(df.loc[i,'경영자본순이익률(IFRS연결)']):\n",
    "       df.loc[i,'경영자본순이익률(IFRS연결)'] = df.loc[i,'경영자본순이익률(IFRS)']\n",
    "    if pd.isnull(df.loc[i,'금융비용부담률(IFRS연결)']):\n",
    "       df.loc[i,'금융비용부담률(IFRS연결)'] = df.loc[i,'금융비용부담률(IFRS)']\n",
    "    if pd.isnull(df.loc[i,'총자본순이익률(IFRS연결)']):\n",
    "       df.loc[i,'총자본순이익률(IFRS연결)'] = df.loc[i,'총자본순이익률(IFRS)']\n",
    "    if pd.isnull(df.loc[i,'매출액총이익률(IFRS연결)']):\n",
    "       df.loc[i,'매출액총이익률(IFRS연결)'] = df.loc[i,'매출액총이익률(IFRS)']\n",
    "    if pd.isnull(df.loc[i,'자기자본순이익률(IFRS연결)']):\n",
    "       df.loc[i,'자기자본순이익률(IFRS연결)'] = df.loc[i,'자기자본순이익률(IFRS)']\n",
    "    if pd.isnull(df.loc[i,'총자본정상영업이익률(IFRS연결)']):\n",
    "       df.loc[i,'총자본정상영업이익률(IFRS연결)'] = df.loc[i,'총자본정상영업이익률(IFRS)']\n",
    "    if pd.isnull(df.loc[i,'자산(*)(요약)(IFRS연결)']):\n",
    "       df.loc[i,'자산(*)(요약)(IFRS연결)'] = df.loc[i,'자산(*)(요약)(IFRS)']\n",
    "    if pd.isnull(df.loc[i,'자본(*)(요약)(IFRS연결)']):\n",
    "       df.loc[i,'자본(*)(요약)(IFRS연결)'] = df.loc[i,'자본(*)(요약)(IFRS)']\n",
    "    if pd.isnull(df.loc[i,'현금비율(IFRS연결)(백만원)']):\n",
    "       df.loc[i,'현금비율(IFRS연결)(백만원)'] = df.loc[i,'현금비율(IFRS)']\n",
    "    if pd.isnull(df.loc[i,'* (정상)영업손익(보고서기재)(요약)(IFRS연결)(백만원)']):\n",
    "       df.loc[i,'* (정상)영업손익(보고서기재)(요약)(IFRS연결)(백만원)'] = df.loc[i,'* (정상)영업손익(보고서기재)(요약)(IFRS)(백만원)']\n",
    "    if pd.isnull(df.loc[i,'차입금의존도(IFRS연결)']):\n",
    "       df.loc[i,'차입금의존도(IFRS연결)'] = df.loc[i,'차입금의존도(IFRS)(백만원)']\n",
    "    if pd.isnull(df.loc[i,'감가상각비(IFRS연결)(천원)']):\n",
    "       df.loc[i,'감가상각비(IFRS연결)(천원)'] = df.loc[i,'감가상각비(IFRS)(천원)']\n",
    "    if pd.isnull(df.loc[i,'부채비율(IFRS연결)']):\n",
    "       df.loc[i,'부채비율(IFRS연결)'] = df.loc[i,'부채비율(IFRS)']\n",
    "    if pd.isnull(df.loc[i,'당좌비율(IFRS연결)']):\n",
    "       df.loc[i,'당좌비율(IFRS연결)'] = df.loc[i,'당좌비율(IFRS)']\n",
    "    if pd.isnull(df.loc[i,'*이자비용(요약)(IFRS연결)(백만원)']):\n",
    "       df.loc[i,'*이자비용(요약)(IFRS연결)(백만원)'] = df.loc[i,'*이자비용(요약)(IFRS)(백만원)']\n",
    "    if pd.isnull(df.loc[i,'순운전자본비율(IFRS연결)']):\n",
    "       df.loc[i,'순운전자본비율(IFRS연결)'] = df.loc[i,'순운전자본비율(IFRS)']\n",
    "    if pd.isnull(df.loc[i,'유동성장기부채(요약)(IFRS연결)(백만원)']):\n",
    "       df.loc[i,'유동성장기부채(요약)(IFRS연결)(백만원)'] = df.loc[i,'유동성장기부채(요약)(IFRS)(백만원)']\n",
    "    if pd.isnull(df.loc[i,'단기차입금(요약)(IFRS연결)(백만원)']):\n",
    "       df.loc[i,'단기차입금(요약)(IFRS연결)(백만원)'] = df.loc[i,'단기차입금(요약)(IFRS)(백만원)']\n"
   ]
  },
  {
   "cell_type": "code",
   "execution_count": 25,
   "metadata": {},
   "outputs": [],
   "source": [
    "drop_col = ['유보율(IFRS)' ,'[제조]* (정상)영업손익(보고서기재)(요약)(IFRS)(백만원)','[제조]      이익잉여금(결손금)(요약)(IFRS)(백만원)',\n",
    "'[제조]영업활동으로 인한 현금흐름(간접법)(*)(요약)(IFRS)(백만원)','자산(*)(요약)(IFRS)(백만원)', \n",
    "'부채(*)(요약)(IFRS)(백만원)','[제조]자본(*)(요약)(IFRS)(백만원)','당기순이익(손실)(요약)(IFRS)(백만원)', \n",
    "'법인세비용차감전순이익(손실)(요약)(IFRS)(백만원)','금융원가(요약)(IFRS)(백만원)','금융수익(요약)(IFRS)(백만원)',\n",
    "'매출액(수익)(요약)(IFRS)(백만원)','연구개발비(IFRS)(천원)',\n",
    "'[제조]      유형자산(요약)(IFRS)(백만원)','자본금회전률(IFRS)',\n",
    "'총자본회전률(IFRS)','재고자산회전률(IFRS)','유형자산회전율(IFRS)','자기자본회전률(IFRS)','타인자본회전률(IFRS)',\n",
    "'경영자본순이익률(IFRS)','금융비용부담률(IFRS)','총자본순이익률(IFRS)','매출액총이익률(IFRS)',\n",
    "'자기자본순이익률(IFRS)','총자본정상영업이익률(IFRS)','자산(*)(요약)(IFRS)','자본(*)(요약)(IFRS)',\n",
    " '현금비율(IFRS)','* (정상)영업손익(보고서기재)(요약)(IFRS)(백만원)',\n",
    " '차입금의존도(IFRS)(백만원)','감가상각비(IFRS)(천원)','부채비율(IFRS)',\n",
    "'당좌비율(IFRS)','*이자비용(요약)(IFRS)(백만원)','순운전자본비율(IFRS)',\n",
    "'[제조]자산(*)(요약)(IFRS)(백만원)_x','[제조]자산(*)(요약)(IFRS연결)(백만원)_x',\n",
    "'[제조]자산(*)(요약)(IFRS)(백만원)_y','[제조]자산(*)(요약)(IFRS연결)(백만원)_y',\n",
    "'[제조]매출액(수익)(요약)(IFRS)(백만원)_y', '[제조]매출액(수익)(요약)(IFRS연결)(백만원)_y',\n",
    "'[제조]매출액(수익)(요약)(IFRS)(백만원)_x', '[제조]매출액(수익)(요약)(IFRS연결)(백만원)_x',\n",
    "'유동성장기부채(요약)(IFRS)(백만원)','단기차입금(요약)(IFRS)(백만원)','자산(*)(요약)(IFRS연결)(백만원)','[제조]자본(*)(요약)(IFRS연결)(백만원)'\n",
    "]"
   ]
  },
  {
   "cell_type": "code",
   "execution_count": 27,
   "metadata": {},
   "outputs": [],
   "source": [
    "df.drop(drop_col,axis=1,inplace=True)"
   ]
  },
  {
   "cell_type": "code",
   "execution_count": 28,
   "metadata": {},
   "outputs": [
    {
     "data": {
      "text/plain": [
       "47"
      ]
     },
     "execution_count": 28,
     "metadata": {},
     "output_type": "execute_result"
    }
   ],
   "source": [
    "len(df.columns)"
   ]
  },
  {
   "cell_type": "code",
   "execution_count": 29,
   "metadata": {},
   "outputs": [],
   "source": [
    "## 성장성 지표인 증가율 컬럼 만들기\n",
    "성장성_col = ['[제조]      유형자산(요약)(IFRS연결)(백만원)','매출액(수익)(요약)(IFRS연결)(백만원)',\n",
    "           '자본(*)(요약)(IFRS연결)','자산(*)(요약)(IFRS연결)',\n",
    "           '[제조]* (정상)영업손익(보고서기재)(요약)(IFRS연결)(백만원)']"
   ]
  },
  {
   "cell_type": "code",
   "execution_count": 30,
   "metadata": {},
   "outputs": [],
   "source": [
    "## 증가율 컬럼 전기에 음수일때 당기에 음수지만 증가할때 증가율 계산\n",
    "## ex (2011년 -20, 2012년 -10) -> -10-(-20) / np.abs(-20)= \n",
    "증가율_df = (df.groupby(['회사명', '거래소코드'])[성장성_col].shift(0) - df.groupby(['회사명', '거래소코드'])[성장성_col].shift(1)) / np.abs(df.groupby(['회사명', '거래소코드'])[성장성_col].shift(1))*100\n",
    "증가율_df.rename(columns={'[제조]      유형자산(요약)(IFRS연결)(백만원)':'유형자산증가율', '매출액(수익)(요약)(IFRS연결)(백만원)':'매출액증가율',\n",
    "       '자본(*)(요약)(IFRS연결)':'자기자본증가율', '자산(*)(요약)(IFRS연결)':'총자본증가율',\n",
    "       '[제조]* (정상)영업손익(보고서기재)(요약)(IFRS연결)(백만원)':'정상영업이익증가율'},inplace=True)\n",
    "\n",
    "df.drop(['[제조]      유형자산(요약)(IFRS연결)(백만원)','[제조]* (정상)영업손익(보고서기재)(요약)(IFRS연결)(백만원)'],axis=1,inplace=True)\n",
    "df = pd.concat([df,증가율_df],axis=1)"
   ]
  },
  {
   "cell_type": "code",
   "execution_count": 32,
   "metadata": {},
   "outputs": [],
   "source": [
    "## 시가총액 merge\n",
    "시가총액['회계년도'] = 시가총액['회계년도'].astype(str).str[:4].astype(int)\n",
    "df = df.merge(시가총액,on=['거래소코드','회계년도'],how='left')\n",
    "df['시가총액(백만원)'] = df['시가총액'] / 1000000\n",
    "df.drop(['시가총액'],axis=1,inplace=True)\n",
    "\n",
    "## 거시변수 merge\n",
    "거시변수.rename(columns={'회계연도':'회계년도'},inplace=True)\n",
    "df = df.merge(거시변수,on=['회계년도'],how='left')"
   ]
  },
  {
   "cell_type": "code",
   "execution_count": 33,
   "metadata": {},
   "outputs": [],
   "source": [
    "## 기업별 업력 설립일 이후 지속된 기간\n",
    "df['업력'] = df['회계년도'] -  pd.to_datetime(df['설립일'],format='%Y/%m/%d').dt.strftime('%Y').astype(int)\n",
    "df.drop('설립일',axis=1,inplace=True)\n",
    "\n",
    "## 누적수익성비율  - 자산0이면 inf - 공시안함\n",
    "df['누적수익성비율'] = df['[제조]      이익잉여금(결손금)(요약)(IFRS연결)(백만원)']/df['자산(*)(요약)(IFRS연결)']\n",
    "\n",
    "## 이자부담율\n",
    "df['이자부담률'] = df['EBITDA(IFRS)(백만원)'] / df['*이자비용(요약)(IFRS연결)(백만원)'] \n",
    "\n",
    "## 부채상환계수\n",
    "df['부채상환계수'] = df['EBITDA(IFRS)(백만원)'] / (df['*이자비용(요약)(IFRS연결)(백만원)']+df['단기차입금(요약)(IFRS연결)(백만원)'] + df['유동성장기부채(요약)(IFRS연결)(백만원)'])\n",
    "\n",
    "## 현금흐름_자산 = 영업현금흐름 / 전기총자산\n",
    "df['현금흐름 대 자산'] = df.groupby(['회사명','거래소코드'])['[제조]영업활동으로 인한 현금흐름(간접법)(*)(요약)(IFRS연결)(백만원)'].shift(0) / df.groupby(['회사명','거래소코드'])['자산(*)(요약)(IFRS연결)'].shift(1)\n",
    "\n",
    "## 현금흐름_매출액\n",
    "df['현금흐름 대 매출액'] = df['[제조]영업활동으로 인한 현금흐름(간접법)(*)(요약)(IFRS연결)(백만원)'] / df['매출액(수익)(요약)(IFRS연결)(백만원)']\n",
    "\n",
    "# 토빈Q\n",
    "df['토빈Q'] = (df['부채(*)(요약)(IFRS연결)(백만원)'] + df['시가총액(백만원)']) / df['자산(*)(요약)(IFRS연결)']\n",
    "\n",
    "## TMD\n",
    "df['TMD'] = df['부채(*)(요약)(IFRS연결)(백만원)'] / df['시가총액(백만원)']\n",
    "\n",
    "## 알트만 변수\n",
    "df['시총/총자산'] = df['시가총액(백만원)'] / df['자산(*)(요약)(IFRS연결)']\n",
    "\n",
    "## RD -단위도 수정\n",
    "df['연구개발비(IFRS연결)(백만원)'] = df['연구개발비(IFRS연결)(천원)']/1000\n",
    "df.drop(['연구개발비(IFRS연결)(천원)'],axis=1,inplace=True)\n",
    "df['RD'] = df['연구개발비(IFRS연결)(백만원)'] / df['매출액(수익)(요약)(IFRS연결)(백만원)']\n",
    "\n",
    "## 직원수변동률 , 직원인건비총액(백만원단위)\n",
    "df['직원수변동률%'] = df.groupby(['회사명','거래소코드'])['합계_기말인원(명)'].pct_change()*100\n",
    "df['직원인건비총액(백만원)'] = (df['합계_년간총급여(천원)']/1000) * df['합계_기말인원(명)']\n",
    "df.drop(['합계_년간총급여(천원)','합계_기말인원(명)'],axis=1,inplace=True)\n",
    "\n",
    "## 알트만 변수  EBIT = 법인세비용차감전순이익+금융원가-금융수익\n",
    "df['EBIT/총자산'] = (df['법인세비용차감전순이익(손실)(요약)(IFRS연결)(백만원)'] + df['금융원가(요약)(IFRS연결)(백만원)']-df['금융수익(요약)(IFRS연결)(백만원)'])/df['자산(*)(요약)(IFRS연결)']\n",
    "\n",
    "## PBR , PER\n",
    "df['PBR'] = df['시가총액(백만원)'] / df['당기순이익(손실)(요약)(IFRS연결)(백만원)']\n",
    "df['PER'] = df['시가총액(백만원)']  / df['자산(*)(요약)(IFRS연결)']"
   ]
  },
  {
   "cell_type": "code",
   "execution_count": 34,
   "metadata": {},
   "outputs": [
    {
     "data": {
      "text/plain": [
       "63"
      ]
     },
     "execution_count": 34,
     "metadata": {},
     "output_type": "execute_result"
    }
   ],
   "source": [
    "len(df.columns)"
   ]
  },
  {
   "cell_type": "code",
   "execution_count": 128,
   "metadata": {},
   "outputs": [],
   "source": [
    "rename_list = {'자산(*)(요약)(IFRS연결)':'자산', '자본(*)(요약)(IFRS연결)':'자본',\n",
    "       '차입금의존도(IFRS연결)':'차입금의존도', '유보율(IFRS연결)(백만원)':'유보율', '현금비율(IFRS연결)(백만원)':'현금비율',\n",
    "       '부채비율(IFRS연결)':'부채비율', '당좌비율(IFRS연결)':'당좌비율', '순운전자본비율(IFRS연결)':'순운전자본비율',\n",
    "       '*이자비용(요약)(IFRS연결)(백만원)':'이자비용', '* (정상)영업손익(보고서기재)(요약)(IFRS연결)(백만원)':'영업손익',\n",
    "       '감가상각비(IFRS연결)(천원)':'감가상각비', 'EBITDA(IFRS)(백만원)':'EBITDA', '총자본정상영업이익률(IFRS연결)':'총자본정상영업이익률',\n",
    "       '자기자본순이익률(IFRS연결)':'자기자본순이익률', '총자본순이익률(IFRS연결)':'총자본순이익률', '매출액총이익률(IFRS연결)':'매출액총이익률',\n",
    "       '금융비용부담률(IFRS연결)':'금융비용부담률', '경영자본순이익률(IFRS연결)':'경영자본순이익률', '자본금회전률(IFRS연결)':'자본금회전률',\n",
    "       '유형자산회전율(IFRS연결)':'유형자산회전율', '재고자산회전률(IFRS연결)':'재고자산회전률', '자기자본회전률(IFRS연결)':'자기자본회전률',\n",
    "       '타인자본회전률(IFRS연결)':'타인자본회전률', '총자본회전률(IFRS연결)':'총자본회전률', \n",
    "       '[제조]      이익잉여금(결손금)(요약)(IFRS연결)(백만원)':'이익잉여금',\n",
    "       '[제조]영업활동으로 인한 현금흐름(간접법)(*)(요약)(IFRS연결)(백만원)':'영업활동으로 인한 현금흐름',\n",
    "       '매출액(수익)(요약)(IFRS연결)(백만원)':'매출액', '금융원가(요약)(IFRS연결)(백만원)':'금융원가',\n",
    "       '금융수익(요약)(IFRS연결)(백만원)':'금융수익', '법인세비용차감전순이익(손실)(요약)(IFRS연결)(백만원)':'법인세비용차감전순이익',\n",
    "       '당기순이익(손실)(요약)(IFRS연결)(백만원)':'당기순이익', \n",
    "       '부채(*)(요약)(IFRS연결)(백만원)':'부채', '외국인_주식분포비율':'외국인지분율', '보통주식비율':'대주주지분율',\n",
    "       '단기차입금(요약)(IFRS연결)(백만원)':'단기차입금', '유동성장기부채(요약)(IFRS연결)(백만원)':'유동성장기부채',\n",
    "       '시가총액(백만원)':'시가총액','연구개발비(IFRS연결)(백만원)':'연구개발비','직원인건비총액(백만원)':'직원인건비총액','통계청 한국표준산업분류 10차(대분류)':'산업군'}\n",
    "\n",
    "df.rename(columns=rename_list,inplace=True)"
   ]
  },
  {
   "cell_type": "code",
   "execution_count": 129,
   "metadata": {},
   "outputs": [],
   "source": [
    "## 회계년도 2011년도 제거\n",
    "df['상장일'] = pd.to_datetime(df['상장일'],format='%Y/%m/%d').dt.strftime('%Y').astype(int)\n",
    "df = df[df['회계년도']>2011].reset_index(drop=True)\n"
   ]
  },
  {
   "cell_type": "code",
   "execution_count": 130,
   "metadata": {},
   "outputs": [
    {
     "data": {
      "text/plain": [
       "회사명            0\n",
       "거래소코드          0\n",
       "회계년도           0\n",
       "자산          1456\n",
       "자본          1456\n",
       "            ... \n",
       "직원수변동률%     2917\n",
       "직원인건비총액     2234\n",
       "EBIT/총자산    1457\n",
       "PBR         2618\n",
       "PER         2618\n",
       "Length: 63, dtype: int64"
      ]
     },
     "execution_count": 130,
     "metadata": {},
     "output_type": "execute_result"
    }
   ],
   "source": [
    "df.isna().sum()"
   ]
  },
  {
   "cell_type": "code",
   "execution_count": 131,
   "metadata": {},
   "outputs": [
    {
     "data": {
      "text/plain": [
       "Index(['회사명', '거래소코드', '회계년도', '자산', '자본', '차입금의존도', '유보율', '현금비율', '부채비율',\n",
       "       '당좌비율', '순운전자본비율', '이자비용', '영업손익', '감가상각비', 'EBITDA', '총자본정상영업이익률',\n",
       "       '자기자본순이익률', '총자본순이익률', '매출액총이익률', '금융비용부담률', '경영자본순이익률', '자본금회전률',\n",
       "       '유형자산회전율', '재고자산회전률', '자기자본회전률', '타인자본회전률', '총자본회전률', '이익잉여금',\n",
       "       '영업활동으로 인한 현금흐름', '매출액', '금융원가', '금융수익', '법인세비용차감전순이익', '당기순이익', '부채',\n",
       "       '외국인지분율', '대주주지분율', '단기차입금', '유동성장기부채', '상장일', '산업군', '유형자산증가율',\n",
       "       '매출액증가율', '자기자본증가율', '총자본증가율', '정상영업이익증가율', '시가총액', '업력', '누적수익성비율',\n",
       "       '이자부담률', '부채상환계수', '현금흐름 대 자산', '현금흐름 대 매출액', '토빈Q', 'TMD', '시총/총자산',\n",
       "       '연구개발비', 'RD', '직원수변동률%', '직원인건비총액', 'EBIT/총자산', 'PBR', 'PER'],\n",
       "      dtype='object')"
      ]
     },
     "execution_count": 131,
     "metadata": {},
     "output_type": "execute_result"
    }
   ],
   "source": [
    "df.columns"
   ]
  },
  {
   "attachments": {},
   "cell_type": "markdown",
   "metadata": {},
   "source": [
    "-----"
   ]
  },
  {
   "attachments": {},
   "cell_type": "markdown",
   "metadata": {},
   "source": [
    "-----"
   ]
  },
  {
   "cell_type": "code",
   "execution_count": 132,
   "metadata": {},
   "outputs": [],
   "source": [
    "부실 = pd.read_csv('./datasets/y/y값최종.csv',index_col=0)\n",
    "부실['회계년도'] = 부실['회계년도'].astype(int)\n",
    "부실['거래소코드'] = 부실['거래소코드'].map(padding)\n",
    "부실.drop(['번호','회사명'],axis=1,inplace=True)"
   ]
  },
  {
   "cell_type": "code",
   "execution_count": 133,
   "metadata": {},
   "outputs": [],
   "source": [
    "df = df.merge(부실,on=['회계년도','거래소코드'],how='left')"
   ]
  },
  {
   "cell_type": "code",
   "execution_count": 134,
   "metadata": {},
   "outputs": [],
   "source": [
    "\n",
    "df[\"공시제목\"].fillna(0,inplace=True)\n",
    "\n",
    "ind_1 = df[df[\"공시제목\"] != 0].index\n",
    "\n",
    "df.loc[ind_1,\"공시제목\"] = 1\n",
    "\n",
    "df[\"공시제목\"].value_counts()\n",
    "\n",
    "for i in df.index:\n",
    "    if (df.loc[i,\"공시제목\"] == 1) and (df.loc[i,\"회사명\"] == df.loc[i-1,\"회사명\"]) :\n",
    "        df.loc[i-1, \"공시제목\"] = 1\n",
    "\n",
    "df.rename(columns={'공시제목':'target'},inplace=True)"
   ]
  },
  {
   "cell_type": "code",
   "execution_count": 135,
   "metadata": {},
   "outputs": [
    {
     "data": {
      "text/plain": [
       "245"
      ]
     },
     "execution_count": 135,
     "metadata": {},
     "output_type": "execute_result"
    }
   ],
   "source": [
    "df.target.sum()"
   ]
  },
  {
   "cell_type": "code",
   "execution_count": 136,
   "metadata": {},
   "outputs": [],
   "source": [
    "def get_index_with_50_or_more_nan_columns(df):\n",
    "    \"\"\"\n",
    "    데이터프레임에서 결측치인 컬럼의 개수가 50개 이상인 인덱스 번호를 출력하는 함수\n",
    "    :param df: 데이터프레임\n",
    "    :return: 결측치 컬럼 개수가 50개 이상인 인덱스 번호 리스트\n",
    "    \"\"\"\n",
    "    # 결측치 컬럼 개수 계산\n",
    "    nan_column_counts = df.isnull().sum(axis=1)\n",
    "    \n",
    "    # 결측치 컬럼 개수가 50개 이상인 인덱스 번호 추출\n",
    "    index_with_50_or_more_nan_columns = nan_column_counts[nan_column_counts >= 50].index.to_list()\n",
    "    print('제거행 수:' , len(index_with_50_or_more_nan_columns))\n",
    "\n",
    "    df.drop(index=index_with_50_or_more_nan_columns,inplace=True)\n",
    "    return df\n"
   ]
  },
  {
   "cell_type": "code",
   "execution_count": 137,
   "metadata": {},
   "outputs": [
    {
     "name": "stdout",
     "output_type": "stream",
     "text": [
      "제거행 수: 1455\n"
     ]
    },
    {
     "data": {
      "text/plain": [
       "12622"
      ]
     },
     "execution_count": 137,
     "metadata": {},
     "output_type": "execute_result"
    }
   ],
   "source": [
    "len(get_index_with_50_or_more_nan_columns(df))"
   ]
  },
  {
   "cell_type": "code",
   "execution_count": 138,
   "metadata": {},
   "outputs": [
    {
     "name": "stdout",
     "output_type": "stream",
     "text": [
      "부실데이터 수: 220\n"
     ]
    }
   ],
   "source": [
    "print('부실데이터 수:',df[df['target']==1].shape[0])"
   ]
  },
  {
   "cell_type": "code",
   "execution_count": 142,
   "metadata": {},
   "outputs": [
    {
     "data": {
      "text/plain": [
       "회사명                  0\n",
       "거래소코드                0\n",
       "회계년도                 0\n",
       "자산                   1\n",
       "자본                   1\n",
       "차입금의존도             186\n",
       "유보율                186\n",
       "현금비율               186\n",
       "부채비율               186\n",
       "당좌비율               186\n",
       "순운전자본비율            186\n",
       "이자비용                 1\n",
       "영업손익                 1\n",
       "감가상각비                1\n",
       "EBITDA             188\n",
       "총자본정상영업이익률         186\n",
       "자기자본순이익률           186\n",
       "총자본순이익률            186\n",
       "매출액총이익률            186\n",
       "금융비용부담률            186\n",
       "경영자본순이익률           186\n",
       "자본금회전률             186\n",
       "유형자산회전율            186\n",
       "재고자산회전률            186\n",
       "자기자본회전률            186\n",
       "타인자본회전률            186\n",
       "총자본회전률             186\n",
       "이익잉여금                1\n",
       "영업활동으로 인한 현금흐름       1\n",
       "매출액                  1\n",
       "금융원가                 1\n",
       "금융수익                 1\n",
       "법인세비용차감전순이익          1\n",
       "당기순이익                1\n",
       "부채                   1\n",
       "외국인지분율            1351\n",
       "대주주지분율            1095\n",
       "단기차입금                1\n",
       "유동성장기부채              1\n",
       "상장일                  0\n",
       "산업군                  0\n",
       "유형자산증가율            632\n",
       "매출액증가율             648\n",
       "자기자본증가율            630\n",
       "총자본증가율             630\n",
       "정상영업이익증가율          630\n",
       "시가총액              1163\n",
       "업력                   0\n",
       "누적수익성비율              2\n",
       "이자부담률              190\n",
       "부채상환계수             190\n",
       "현금흐름 대 자산          630\n",
       "현금흐름 대 매출액           4\n",
       "토빈Q               1163\n",
       "TMD               1163\n",
       "시총/총자산            1163\n",
       "연구개발비                1\n",
       "RD                   5\n",
       "직원수변동률%           1642\n",
       "직원인건비총액           1085\n",
       "EBIT/총자산             2\n",
       "PBR               1163\n",
       "PER               1163\n",
       "target               0\n",
       "dtype: int64"
      ]
     },
     "execution_count": 142,
     "metadata": {},
     "output_type": "execute_result"
    }
   ],
   "source": [
    "pd.set_option('display.max_rows',None)\n",
    "df.isna().sum()"
   ]
  },
  {
   "cell_type": "code",
   "execution_count": null,
   "metadata": {},
   "outputs": [],
   "source": []
  }
 ],
 "metadata": {
  "kernelspec": {
   "display_name": "base",
   "language": "python",
   "name": "python3"
  },
  "language_info": {
   "codemirror_mode": {
    "name": "ipython",
    "version": 3
   },
   "file_extension": ".py",
   "mimetype": "text/x-python",
   "name": "python",
   "nbconvert_exporter": "python",
   "pygments_lexer": "ipython3",
   "version": "3.9.13"
  },
  "orig_nbformat": 4
 },
 "nbformat": 4,
 "nbformat_minor": 2
}
