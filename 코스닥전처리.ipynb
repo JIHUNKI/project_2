{
 "cells": [
  {
   "cell_type": "code",
   "execution_count": 9,
   "metadata": {},
   "outputs": [],
   "source": [
    "import pandas as pd\n",
    "import numpy as np"
   ]
  },
  {
   "cell_type": "code",
   "execution_count": 10,
   "metadata": {},
   "outputs": [],
   "source": [
    "수익성 = pd.read_csv('./datasets/코스닥/코스닥 수익성.csv',encoding='cp949')\n",
    "안정성 = pd.read_csv('./datasets/코스닥/코스닥 안정성.csv',encoding='cp949')\n",
    "활동성 = pd.read_csv('./datasets/코스닥/코스닥 활동성.csv',encoding='cp949')\n",
    "성장성 = pd.read_csv('./datasets/코스닥/코스닥 성장성 계산용.csv',encoding='cp949')\n",
    "현금흐름 = pd.read_csv('./datasets/코스닥/코스닥 현금흐름 + 누적수익성비율.csv',encoding='cp949')\n",
    "연구개발 = pd.read_csv('./datasets/코스닥/코스닥 rs.csv',encoding='cp949')\n",
    "EBIT = pd.read_csv('./datasets/코스닥/에비~ 코스닥.csv',encoding='cp949')\n",
    "per_pbr_총부채 = pd.read_csv('./datasets/코스닥/per pbr 총부채 코스닥.csv',encoding='cp949')\n",
    "직원수_업력 = pd.read_csv('./datasets/코스닥/코스닥 직원수 급여 업력 외국인 대주주.csv',encoding='cp949')\n",
    "시가총액 = pd.read_csv('./datasets/코스닥/코스닥시가총액.csv',index_col=0)  #### 시총도 붙여야됨\n",
    "단기차입금 = pd.read_csv('./datasets/코스닥/코스닥 단기차입금 유동성 장기부채.csv',encoding='cp949')\n",
    "거시변수 = pd.read_excel('./datasets/거시경제 변수/거시변수.xlsx')\n",
    "상장일 = pd.read_csv('./datasets/코스닥/코스닥 상장일.csv',encoding='cp949')"
   ]
  },
  {
   "cell_type": "code",
   "execution_count": 11,
   "metadata": {},
   "outputs": [],
   "source": [
    "df = 안정성.merge(수익성,on=['회사명','거래소코드','회계년도'],how='left')\n",
    "df = df.merge(활동성,on=['회사명','거래소코드','회계년도'],how='left')\n",
    "df = df.merge(성장성,on=['회사명','거래소코드','회계년도'],how='left')\n",
    "df = df.merge(현금흐름,on=['회사명','거래소코드','회계년도'],how='left')\n",
    "df = df.merge(연구개발,on=['회사명','거래소코드','회계년도'],how='left')\n",
    "df = df.merge(EBIT,on=['회사명','거래소코드','회계년도'],how='left')\n",
    "df = df.merge(per_pbr_총부채,on=['회사명','거래소코드','회계년도'],how='left')\n",
    "df = df.merge(직원수_업력,on=['회사명','거래소코드','회계년도'],how='left')\n",
    "df = df.merge(단기차입금,on=['회사명','거래소코드','회계년도'],how='left')\n",
    "df = df.merge(상장일,on=['회사명','거래소코드','회계년도'],how='left')"
   ]
  },
  {
   "cell_type": "code",
   "execution_count": 12,
   "metadata": {},
   "outputs": [],
   "source": [
    "## 거래소코드 패딩\n",
    "def padding(x):\n",
    "    x = str(x)\n",
    "    return x.rjust(6, \"0\")\n",
    "## 외국계기업 제거\n",
    "def func_isnt_fcompany(x):\n",
    "    if x[:1] == '9':\n",
    "        return False\n",
    "    else:\n",
    "        return True\n",
    "\n",
    "# 회계년도컬럼, 년도만 뽑아서 int화\n",
    "def change_year(x):\n",
    "    return int(x[:4])\n",
    "\n",
    "def func_not(x):\n",
    "    return not x\n",
    "\n",
    "def change_year_2(x):\n",
    "    return (x[:4])"
   ]
  },
  {
   "cell_type": "code",
   "execution_count": 13,
   "metadata": {},
   "outputs": [],
   "source": [
    "## 거래소 코드 패딩\n",
    "df['거래소코드'] = df['거래소코드'].map(padding)\n",
    "# 회계년도 제거\n",
    "df['회계년도'] = df['회계년도'].map(change_year)"
   ]
  },
  {
   "cell_type": "code",
   "execution_count": 14,
   "metadata": {},
   "outputs": [],
   "source": [
    "## 시가총액 merge\n",
    "시가총액['회계년도'] = 시가총액['회계년도'].astype(str).str[:4].astype(int)\n",
    "df = df.merge(시가총액,on=['거래소코드','회계년도'],how='left')\n",
    "df['시가총액(백만원)'] = df['시가총액'] / 1000000\n",
    "df.drop(['시가총액'],axis=1,inplace=True)\n",
    "\n",
    "## 거시변수 merge\n",
    "거시변수.rename(columns={'회계연도':'회계년도'},inplace=True)\n",
    "df = df.merge(거시변수,on=['회계년도'],how='left')"
   ]
  },
  {
   "cell_type": "code",
   "execution_count": 15,
   "metadata": {},
   "outputs": [],
   "source": [
    "## 중복되는 데이터 제거\n",
    "df.drop_duplicates(['거래소코드',\"회계년도\"], keep='last', inplace=True)\n",
    "df.reset_index(drop=True, inplace=True)\n",
    "\n",
    "## 없음\n"
   ]
  },
  {
   "cell_type": "code",
   "execution_count": 16,
   "metadata": {},
   "outputs": [
    {
     "name": "stdout",
     "output_type": "stream",
     "text": [
      "전체 행: 15617 개\n",
      "전체 기업 수 1744\n"
     ]
    }
   ],
   "source": [
    "print('전체 행:', df.shape[0],'개')\n",
    "print('전체 기업 수',len(df['회사명'].unique()))"
   ]
  },
  {
   "cell_type": "code",
   "execution_count": 17,
   "metadata": {},
   "outputs": [
    {
     "name": "stdout",
     "output_type": "stream",
     "text": [
      "제거할 데이터 수 :  152\n",
      "제거할 외국계 기업 수 23\n",
      "남은 데이터 수 15465\n",
      "남은 기업 수 1721\n"
     ]
    }
   ],
   "source": [
    "## 외국계 기업 제거\n",
    "print(\"제거할 데이터 수 : \", len(df[df[\"거래소코드\"].map(func_isnt_fcompany).map(func_not)]))\n",
    "print('제거할 외국계 기업 수',len(df[~df[\"거래소코드\"].map(func_isnt_fcompany)].회사명.unique()))\n",
    "\n",
    "df = df[df[\"거래소코드\"].map(func_isnt_fcompany)]\n",
    "print('남은 데이터 수',df.shape[0]) # 외국계기업 데이터 24개 제거\n",
    "print('남은 기업 수',len(df['회사명'].unique()))"
   ]
  },
  {
   "cell_type": "code",
   "execution_count": 18,
   "metadata": {},
   "outputs": [
    {
     "name": "stdout",
     "output_type": "stream",
     "text": [
      "회사수 :  1721\n",
      "거래소코드수 :  1743\n"
     ]
    }
   ],
   "source": [
    "## 회사수와 거래소코드수 차이가나는것 확인\n",
    "print(\"회사수 : \", len(df[\"회사명\"].unique()))\n",
    "print(\"거래소코드수 : \", len(df[\"거래소코드\"].unique()))"
   ]
  },
  {
   "cell_type": "code",
   "execution_count": 19,
   "metadata": {},
   "outputs": [
    {
     "name": "stdout",
     "output_type": "stream",
     "text": [
      "거래소코드가 2개인 기업 수 22 개\n"
     ]
    }
   ],
   "source": [
    "## 거래소 코드 중복기업 전처리\n",
    "list_overlap_code = list()\n",
    "for i in list(df[\"회사명\"].unique()):\n",
    "    if len(df[df[\"회사명\"]==i][\"거래소코드\"].unique()) > 1:\n",
    "        list_overlap_code.append(i)\n",
    "print(\"거래소코드가 2개인 기업 수\", len(list_overlap_code), \"개\")"
   ]
  },
  {
   "cell_type": "code",
   "execution_count": 20,
   "metadata": {},
   "outputs": [
    {
     "data": {
      "text/plain": [
       "['(주)본느',\n",
       " '(주)세화피앤씨',\n",
       " '(주)아이엘사이언스',\n",
       " '(주)알로이스',\n",
       " '(주)에스에이티',\n",
       " '(주)엔케이맥스',\n",
       " '(주)원바이오젠',\n",
       " '(주)인산가',\n",
       " '(주)자비스',\n",
       " '(주)정다운',\n",
       " '(주)카이노스메드',\n",
       " '(주)티에스트릴리온',\n",
       " '(주)포인트엔지니어링',\n",
       " '(주)한국비엔씨',\n",
       " '(주)휴럼',\n",
       " '나무기술(주)',\n",
       " '소프트캠프(주)',\n",
       " '씨아이에스(주)',\n",
       " '에스케이오션플랜트(주)',\n",
       " '엠에프엠코리아(주)',\n",
       " '줌인터넷(주)',\n",
       " '패션플랫폼(주)']"
      ]
     },
     "execution_count": 20,
     "metadata": {},
     "output_type": "execute_result"
    }
   ],
   "source": [
    "list_overlap_code"
   ]
  },
  {
   "cell_type": "code",
   "execution_count": 21,
   "metadata": {},
   "outputs": [],
   "source": [
    "# 중복 거래소코드 제거\n",
    "def func_overlap_code(x):\n",
    "    if x == (df[df[\"회사명\"]==company_name][\"거래소코드\"].iloc[-1]) :\n",
    "        return True\n",
    "    else:\n",
    "        return False\n",
    "\n",
    "list_companyname = list(df[\"회사명\"].unique())\n",
    "\n",
    "\n",
    "dfs = list()\n",
    "\n",
    "\n",
    "for i in list_companyname:\n",
    "    company_name = i\n",
    "    #각 기업별로 데이터프레임 생성\n",
    "    df_concat = df[df[\"회사명\"]==i]\n",
    "    df_concat = df_concat[df_concat[\"거래소코드\"].map(func_overlap_code)] # 거래소코드 바뀌기 전의 거래소코드의 데이터는 삭제\n",
    "    dfs.append(df_concat)\n",
    "df = pd.concat(dfs)\n",
    "df.reset_index(drop=True, inplace=True)"
   ]
  },
  {
   "cell_type": "code",
   "execution_count": 22,
   "metadata": {},
   "outputs": [
    {
     "data": {
      "text/plain": [
       "[]"
      ]
     },
     "execution_count": 22,
     "metadata": {},
     "output_type": "execute_result"
    }
   ],
   "source": [
    "# 회사명이 2개인 거래소코드 존재 확인 \n",
    "list_overlap_code = list()\n",
    "for i in list(df[\"거래소코드\"].unique()):\n",
    "    if len(df[df[\"거래소코드\"]==i][\"회사명\"].unique()) > 1:\n",
    "        list_overlap_code.append(i)\n",
    "list_overlap_code"
   ]
  },
  {
   "cell_type": "code",
   "execution_count": 23,
   "metadata": {},
   "outputs": [],
   "source": [
    "## 연결 결측치 개별로 채우기\n",
    "for i in range(df.shape[0]):\n",
    "    if pd.isnull(df.loc[i,'유보율(IFRS연결)(백만원)']):\n",
    "       df.loc[i,'유보율(IFRS연결)(백만원)'] = df.loc[i,'유보율(IFRS)']\n",
    "    if pd.isnull(df.loc[i,'[제조]* (정상)영업손익(보고서기재)(요약)(IFRS연결)(백만원)']):\n",
    "       df.loc[i,'[제조]* (정상)영업손익(보고서기재)(요약)(IFRS연결)(백만원)'] = df.loc[i,'[제조]* (정상)영업손익(보고서기재)(요약)(IFRS)(백만원)']\n",
    "    if pd.isnull(df.loc[i,'[제조]      이익잉여금(결손금)(요약)(IFRS연결)(백만원)']):\n",
    "       df.loc[i,'[제조]      이익잉여금(결손금)(요약)(IFRS연결)(백만원)'] = df.loc[i,'[제조]      이익잉여금(결손금)(요약)(IFRS)(백만원)']\n",
    "    if pd.isnull(df.loc[i,'[제조]영업활동으로 인한 현금흐름(간접법)(*)(요약)(IFRS연결)(백만원)']):\n",
    "       df.loc[i,'[제조]영업활동으로 인한 현금흐름(간접법)(*)(요약)(IFRS연결)(백만원)'] = df.loc[i,'[제조]영업활동으로 인한 현금흐름(간접법)(*)(요약)(IFRS)(백만원)']\n",
    "    if pd.isnull(df.loc[i,'자산(*)(요약)(IFRS연결)(백만원)']):\n",
    "       df.loc[i,'자산(*)(요약)(IFRS연결)(백만원)'] = df.loc[i,'자산(*)(요약)(IFRS)(백만원)']\n",
    "    if pd.isnull(df.loc[i,'부채(*)(요약)(IFRS연결)(백만원)']):\n",
    "       df.loc[i,'부채(*)(요약)(IFRS연결)(백만원)'] = df.loc[i,'부채(*)(요약)(IFRS)(백만원)']\n",
    "    if pd.isnull(df.loc[i,'[제조]자본(*)(요약)(IFRS연결)(백만원)']):\n",
    "       df.loc[i,'[제조]자본(*)(요약)(IFRS연결)(백만원)'] = df.loc[i,'[제조]자본(*)(요약)(IFRS)(백만원)']\n",
    "    if pd.isnull(df.loc[i,'당기순이익(손실)(요약)(IFRS연결)(백만원)']):\n",
    "       df.loc[i,'당기순이익(손실)(요약)(IFRS연결)(백만원)'] = df.loc[i,'당기순이익(손실)(요약)(IFRS)(백만원)']\n",
    "    if pd.isnull(df.loc[i,'법인세비용차감전순이익(손실)(요약)(IFRS연결)(백만원)']):\n",
    "       df.loc[i,'법인세비용차감전순이익(손실)(요약)(IFRS연결)(백만원)'] = df.loc[i,'법인세비용차감전순이익(손실)(요약)(IFRS)(백만원)']\n",
    "    if pd.isnull(df.loc[i,'금융원가(요약)(IFRS연결)(백만원)']):\n",
    "       df.loc[i,'금융원가(요약)(IFRS연결)(백만원)'] = df.loc[i,'금융원가(요약)(IFRS)(백만원)']\n",
    "    if pd.isnull(df.loc[i,'금융수익(요약)(IFRS연결)(백만원)']):\n",
    "       df.loc[i,'금융수익(요약)(IFRS연결)(백만원)'] = df.loc[i,'금융수익(요약)(IFRS)(백만원)']\n",
    "    if pd.isnull(df.loc[i,'매출액(수익)(요약)(IFRS연결)(백만원)']):\n",
    "       df.loc[i,'매출액(수익)(요약)(IFRS연결)(백만원)'] = df.loc[i,'매출액(수익)(요약)(IFRS)(백만원)']\n",
    "    if pd.isnull(df.loc[i,'연구개발비(IFRS연결)(천원)']):\n",
    "       df.loc[i,'연구개발비(IFRS연결)(천원)'] = df.loc[i,'연구개발비(IFRS)(천원)']\n",
    "    if pd.isnull(df.loc[i,'[제조]      유형자산(요약)(IFRS연결)(백만원)']):\n",
    "       df.loc[i,'[제조]      유형자산(요약)(IFRS연결)(백만원)'] = df.loc[i,'[제조]      유형자산(요약)(IFRS)(백만원)']\n",
    "    if pd.isnull(df.loc[i,'자본금회전률(IFRS연결)']):\n",
    "       df.loc[i,'자본금회전률(IFRS연결)'] = df.loc[i,'자본금회전률(IFRS)']\n",
    "    if pd.isnull(df.loc[i,'총자본회전률(IFRS연결)']):\n",
    "       df.loc[i,'총자본회전률(IFRS연결)'] = df.loc[i,'총자본회전률(IFRS)']\n",
    "    if pd.isnull(df.loc[i,'재고자산회전률(IFRS연결)']):\n",
    "       df.loc[i,'재고자산회전률(IFRS연결)'] = df.loc[i,'재고자산회전률(IFRS)']\n",
    "    if pd.isnull(df.loc[i,'유형자산회전율(IFRS연결)']):\n",
    "       df.loc[i,'유형자산회전율(IFRS연결)'] = df.loc[i,'유형자산회전율(IFRS)']\n",
    "    if pd.isnull(df.loc[i,'자기자본회전률(IFRS연결)']):\n",
    "       df.loc[i,'자기자본회전률(IFRS연결)'] = df.loc[i,'자기자본회전률(IFRS)']\n",
    "    if pd.isnull(df.loc[i,'타인자본회전률(IFRS연결)']):\n",
    "       df.loc[i,'타인자본회전률(IFRS연결)'] = df.loc[i,'타인자본회전률(IFRS)']\n",
    "    if pd.isnull(df.loc[i,'경영자본순이익률(IFRS연결)']):\n",
    "       df.loc[i,'경영자본순이익률(IFRS연결)'] = df.loc[i,'경영자본순이익률(IFRS)']\n",
    "    if pd.isnull(df.loc[i,'금융비용부담률(IFRS연결)']):\n",
    "       df.loc[i,'금융비용부담률(IFRS연결)'] = df.loc[i,'금융비용부담률(IFRS)']\n",
    "    if pd.isnull(df.loc[i,'총자본순이익률(IFRS연결)']):\n",
    "       df.loc[i,'총자본순이익률(IFRS연결)'] = df.loc[i,'총자본순이익률(IFRS)']\n",
    "    if pd.isnull(df.loc[i,'매출액총이익률(IFRS연결)']):\n",
    "       df.loc[i,'매출액총이익률(IFRS연결)'] = df.loc[i,'매출액총이익률(IFRS)']\n",
    "    if pd.isnull(df.loc[i,'자기자본순이익률(IFRS연결)']):\n",
    "       df.loc[i,'자기자본순이익률(IFRS연결)'] = df.loc[i,'자기자본순이익률(IFRS)']\n",
    "    if pd.isnull(df.loc[i,'총자본정상영업이익률(IFRS연결)']):\n",
    "       df.loc[i,'총자본정상영업이익률(IFRS연결)'] = df.loc[i,'총자본정상영업이익률(IFRS)']\n",
    "    if pd.isnull(df.loc[i,'자산(*)(요약)(IFRS연결)']):\n",
    "       df.loc[i,'자산(*)(요약)(IFRS연결)'] = df.loc[i,'자산(*)(요약)(IFRS)']\n",
    "    if pd.isnull(df.loc[i,'자본(*)(요약)(IFRS연결)']):\n",
    "       df.loc[i,'자본(*)(요약)(IFRS연결)'] = df.loc[i,'자본(*)(요약)(IFRS)']\n",
    "    if pd.isnull(df.loc[i,'현금비율(IFRS연결)(백만원)']):\n",
    "       df.loc[i,'현금비율(IFRS연결)(백만원)'] = df.loc[i,'현금비율(IFRS)']\n",
    "    if pd.isnull(df.loc[i,'* (정상)영업손익(보고서기재)(요약)(IFRS연결)(백만원)']):\n",
    "       df.loc[i,'* (정상)영업손익(보고서기재)(요약)(IFRS연결)(백만원)'] = df.loc[i,'* (정상)영업손익(보고서기재)(요약)(IFRS)(백만원)']\n",
    "    if pd.isnull(df.loc[i,'차입금의존도(IFRS연결)']):\n",
    "       df.loc[i,'차입금의존도(IFRS연결)'] = df.loc[i,'차입금의존도(IFRS)(백만원)']\n",
    "    if pd.isnull(df.loc[i,'감가상각비(IFRS연결)(천원)']):\n",
    "       df.loc[i,'감가상각비(IFRS연결)(천원)'] = df.loc[i,'감가상각비(IFRS)(천원)']\n",
    "    if pd.isnull(df.loc[i,'부채비율(IFRS연결)']):\n",
    "       df.loc[i,'부채비율(IFRS연결)'] = df.loc[i,'부채비율(IFRS)']\n",
    "    if pd.isnull(df.loc[i,'당좌비율(IFRS연결)']):\n",
    "       df.loc[i,'당좌비율(IFRS연결)'] = df.loc[i,'당좌비율(IFRS)']\n",
    "    if pd.isnull(df.loc[i,'*이자비용(요약)(IFRS연결)(백만원)']):\n",
    "       df.loc[i,'*이자비용(요약)(IFRS연결)(백만원)'] = df.loc[i,'*이자비용(요약)(IFRS)(백만원)']\n",
    "    if pd.isnull(df.loc[i,'순운전자본비율(IFRS연결)']):\n",
    "       df.loc[i,'순운전자본비율(IFRS연결)'] = df.loc[i,'순운전자본비율(IFRS)']\n",
    "    if pd.isnull(df.loc[i,'유동성장기부채(요약)(IFRS연결)(백만원)']):\n",
    "       df.loc[i,'유동성장기부채(요약)(IFRS연결)(백만원)'] = df.loc[i,'유동성장기부채(요약)(IFRS)(백만원)']\n",
    "    if pd.isnull(df.loc[i,'단기차입금(요약)(IFRS연결)(백만원)']):\n",
    "       df.loc[i,'단기차입금(요약)(IFRS연결)(백만원)'] = df.loc[i,'단기차입금(요약)(IFRS연결)(백만원)']\n"
   ]
  },
  {
   "cell_type": "code",
   "execution_count": 25,
   "metadata": {},
   "outputs": [],
   "source": [
    "drop_col = ['유보율(IFRS)' ,'[제조]* (정상)영업손익(보고서기재)(요약)(IFRS)(백만원)','[제조]      이익잉여금(결손금)(요약)(IFRS)(백만원)',\n",
    "'[제조]영업활동으로 인한 현금흐름(간접법)(*)(요약)(IFRS)(백만원)','자산(*)(요약)(IFRS)(백만원)', \n",
    "'부채(*)(요약)(IFRS)(백만원)','[제조]자본(*)(요약)(IFRS)(백만원)','당기순이익(손실)(요약)(IFRS)(백만원)', \n",
    "'법인세비용차감전순이익(손실)(요약)(IFRS)(백만원)','금융원가(요약)(IFRS)(백만원)','금융수익(요약)(IFRS)(백만원)',\n",
    "'매출액(수익)(요약)(IFRS)(백만원)','연구개발비(IFRS)(천원)',\n",
    "'[제조]      유형자산(요약)(IFRS)(백만원)','자본금회전률(IFRS)',\n",
    "'총자본회전률(IFRS)','재고자산회전률(IFRS)','유형자산회전율(IFRS)','자기자본회전률(IFRS)','타인자본회전률(IFRS)',\n",
    "'경영자본순이익률(IFRS)','금융비용부담률(IFRS)','총자본순이익률(IFRS)','매출액총이익률(IFRS)',\n",
    "'자기자본순이익률(IFRS)','총자본정상영업이익률(IFRS)','자산(*)(요약)(IFRS)','자본(*)(요약)(IFRS)',\n",
    " '현금비율(IFRS)','* (정상)영업손익(보고서기재)(요약)(IFRS)(백만원)',\n",
    " '차입금의존도(IFRS)(백만원)','감가상각비(IFRS)(천원)','부채비율(IFRS)',\n",
    "'당좌비율(IFRS)','*이자비용(요약)(IFRS)(백만원)','순운전자본비율(IFRS)',\n",
    "'[제조]자산(*)(요약)(IFRS)(백만원)_x','[제조]자산(*)(요약)(IFRS연결)(백만원)_x',\n",
    "'[제조]자산(*)(요약)(IFRS)(백만원)_y','[제조]자산(*)(요약)(IFRS연결)(백만원)_y',\n",
    "'[제조]매출액(수익)(요약)(IFRS)(백만원)_y', '[제조]매출액(수익)(요약)(IFRS연결)(백만원)_y',\n",
    "'[제조]매출액(수익)(요약)(IFRS)(백만원)_x', '[제조]매출액(수익)(요약)(IFRS연결)(백만원)_x',\n",
    "'유동성장기부채(요약)(IFRS)(백만원)','단기차입금(요약)(IFRS)(백만원)']"
   ]
  },
  {
   "cell_type": "code",
   "execution_count": 26,
   "metadata": {},
   "outputs": [],
   "source": [
    "df.drop(drop_col,axis=1,inplace=True)"
   ]
  },
  {
   "cell_type": "code",
   "execution_count": 27,
   "metadata": {},
   "outputs": [
    {
     "data": {
      "text/plain": [
       "Index(['회사명', '거래소코드', '회계년도', '자산(*)(요약)(IFRS연결)', '자본(*)(요약)(IFRS연결)',\n",
       "       '차입금의존도(IFRS연결)', '유보율(IFRS연결)(백만원)', '현금비율(IFRS연결)(백만원)',\n",
       "       '부채비율(IFRS연결)', '당좌비율(IFRS연결)', '순운전자본비율(IFRS연결)',\n",
       "       '*이자비용(요약)(IFRS연결)(백만원)', '* (정상)영업손익(보고서기재)(요약)(IFRS연결)(백만원)',\n",
       "       '감가상각비(IFRS연결)(천원)', 'EBITDA(IFRS)(백만원)', '총자본정상영업이익률(IFRS연결)',\n",
       "       '자기자본순이익률(IFRS연결)', '총자본순이익률(IFRS연결)', '매출액총이익률(IFRS연결)',\n",
       "       '금융비용부담률(IFRS연결)', '경영자본순이익률(IFRS연결)', '자본금회전률(IFRS연결)',\n",
       "       '유형자산회전율(IFRS연결)', '재고자산회전률(IFRS연결)', '자기자본회전률(IFRS연결)',\n",
       "       '타인자본회전률(IFRS연결)', '총자본회전률(IFRS연결)', '[제조]      유형자산(요약)(IFRS연결)(백만원)',\n",
       "       '[제조]자본(*)(요약)(IFRS연결)(백만원)', '[제조]* (정상)영업손익(보고서기재)(요약)(IFRS연결)(백만원)',\n",
       "       '[제조]      이익잉여금(결손금)(요약)(IFRS연결)(백만원)',\n",
       "       '[제조]영업활동으로 인한 현금흐름(간접법)(*)(요약)(IFRS연결)(백만원)',\n",
       "       '매출액(수익)(요약)(IFRS연결)(백만원)', '연구개발비(IFRS연결)(천원)',\n",
       "       '금융원가(요약)(IFRS연결)(백만원)', '금융수익(요약)(IFRS연결)(백만원)',\n",
       "       '법인세비용차감전순이익(손실)(요약)(IFRS연결)(백만원)', '당기순이익(손실)(요약)(IFRS연결)(백만원)',\n",
       "       '자산(*)(요약)(IFRS연결)(백만원)', '부채(*)(요약)(IFRS연결)(백만원)', '합계_기말인원(명)',\n",
       "       '합계_년간총급여(천원)', '설립일', '외국인_주식분포비율', '보통주식비율', '단기차입금(요약)(IFRS연결)(백만원)',\n",
       "       '유동성장기부채(요약)(IFRS연결)(백만원)', '상장일', '시가총액(백만원)', '장단기금리차', 'cpi'],\n",
       "      dtype='object')"
      ]
     },
     "execution_count": 27,
     "metadata": {},
     "output_type": "execute_result"
    }
   ],
   "source": [
    "df.columns"
   ]
  },
  {
   "cell_type": "code",
   "execution_count": 28,
   "metadata": {},
   "outputs": [],
   "source": [
    "## 성장성 지표인 증가율 컬럼 만들기\n",
    "성장성_col = ['[제조]      유형자산(요약)(IFRS연결)(백만원)','매출액(수익)(요약)(IFRS연결)(백만원)',\n",
    "           '[제조]자본(*)(요약)(IFRS연결)(백만원)','자산(*)(요약)(IFRS연결)',\n",
    "           '[제조]* (정상)영업손익(보고서기재)(요약)(IFRS연결)(백만원)']"
   ]
  },
  {
   "cell_type": "code",
   "execution_count": 29,
   "metadata": {},
   "outputs": [],
   "source": [
    "## 증가율 컬럼 전기에 음수일때 당기에 음수지만 증가할때 증가율 계산\n",
    "## ex (2011년 -20, 2012년 -10) -> -10-(-20) / np.abs(-20)= \n",
    "증가율_df = (df.groupby(['회사명', '거래소코드'])[성장성_col].shift(0) - df.groupby(['회사명', '거래소코드'])[성장성_col].shift(1)) / np.abs(df.groupby(['회사명', '거래소코드'])[성장성_col].shift(1))\n",
    "증가율_df.rename(columns={'[제조]      유형자산(요약)(IFRS연결)(백만원)':'유형자산증가율', '매출액(수익)(요약)(IFRS연결)(백만원)':'매출액증가율',\n",
    "       '[제조]자본(*)(요약)(IFRS연결)(백만원)':'자기자본증가율', '자산(*)(요약)(IFRS연결)':'총자본증가율',\n",
    "       '[제조]* (정상)영업손익(보고서기재)(요약)(IFRS연결)(백만원)':'정상영업이익증가율'},inplace=True)\n",
    "\n",
    "df.drop(['[제조]      유형자산(요약)(IFRS연결)(백만원)','[제조]* (정상)영업손익(보고서기재)(요약)(IFRS연결)(백만원)'],axis=1,inplace=True)\n",
    "df = pd.concat([df,증가율_df],axis=1)"
   ]
  },
  {
   "cell_type": "code",
   "execution_count": 30,
   "metadata": {},
   "outputs": [],
   "source": [
    "## 기업별 업력 설립일 이후 지속된 기간\n",
    "df['업력'] = df['회계년도'] -  pd.to_datetime(df['설립일'],format='%Y/%m/%d').dt.strftime('%Y').astype(int)\n",
    "df.drop('설립일',axis=1,inplace=True)"
   ]
  },
  {
   "cell_type": "code",
   "execution_count": 31,
   "metadata": {},
   "outputs": [],
   "source": [
    "## 누적수익성비율\n",
    "df['누적수익성비율'] = df['[제조]      이익잉여금(결손금)(요약)(IFRS연결)(백만원)']/df['자산(*)(요약)(IFRS연결)']\n",
    "\n",
    "## 이자부담율\n",
    "df['이자부담률'] = df['EBITDA(IFRS)(백만원)'] / df['*이자비용(요약)(IFRS연결)(백만원)'] \n",
    "\n",
    "## 부채상환계수\n",
    "df['부채상환계수'] = df['EBITDA(IFRS)(백만원)'] / (df['*이자비용(요약)(IFRS연결)(백만원)']+df['단기차입금(요약)(IFRS연결)(백만원)'] + df['유동성장기부채(요약)(IFRS연결)(백만원)'])\n",
    "\n",
    "## 현금흐름_자산 = 영업현금흐름 / 전기총자산\n",
    "df['현금흐름 대 자산'] = df.groupby(['회사명','거래소코드'])['[제조]영업활동으로 인한 현금흐름(간접법)(*)(요약)(IFRS연결)(백만원)'].shift(0) / df.groupby(['회사명','거래소코드'])['자산(*)(요약)(IFRS연결)'].shift(1)\n",
    "\n",
    "## 현금흐름_매출액\n",
    "df['현금흐름 대 매출액'] = df['[제조]영업활동으로 인한 현금흐름(간접법)(*)(요약)(IFRS연결)(백만원)'] / df['매출액(수익)(요약)(IFRS연결)(백만원)']\n",
    "\n",
    "# 토빈Q\n",
    "df['토빈Q'] = (df['부채(*)(요약)(IFRS연결)(백만원)'] + df['시가총액(백만원)']) / df['자산(*)(요약)(IFRS연결)']\n",
    "\n",
    "## TMD\n",
    "df['TMD'] = df['부채(*)(요약)(IFRS연결)(백만원)'] / df['시가총액(백만원)']\n",
    "\n",
    "## 알트만 변수\n",
    "df['시총/총자산'] = df['시가총액(백만원)'] / df['자산(*)(요약)(IFRS연결)']\n",
    "\n",
    "## RD -단위도 수정\n",
    "df['연구개발비(IFRS연결)(백만원)'] = df['연구개발비(IFRS연결)(천원)']/1000\n",
    "df.drop(['연구개발비(IFRS연결)(천원)'],axis=1,inplace=True)\n",
    "df['RD'] = df['연구개발비(IFRS연결)(백만원)'] / df['매출액(수익)(요약)(IFRS연결)(백만원)']\n",
    "\n",
    "## 직원수변동률 , 직원인건비총액(백만원단위)\n",
    "df['직원수변동률%'] = df.groupby(['회사명','거래소코드'])['합계_기말인원(명)'].pct_change()*100\n",
    "df['직원인건비총액(백만원)'] = (df['합계_년간총급여(천원)']/1000) * df['합계_기말인원(명)']\n",
    "df.drop(['합계_년간총급여(천원)','합계_기말인원(명)'],axis=1,inplace=True)\n",
    "\n",
    "## 알트만 변수  EBIT = 법인세비용차감전순이익+금융원가-금융수익\n",
    "df['EBIT/총자산'] = (df['법인세비용차감전순이익(손실)(요약)(IFRS연결)(백만원)'] + df['금융원가(요약)(IFRS연결)(백만원)']-df['금융수익(요약)(IFRS연결)(백만원)'])/df['자산(*)(요약)(IFRS연결)']\n",
    "\n",
    "## PBR , PER\n",
    "df['PBR'] = df['시가총액(백만원)'] / df['당기순이익(손실)(요약)(IFRS연결)(백만원)']\n",
    "df['PER'] = df['시가총액(백만원)']  / df['자산(*)(요약)(IFRS연결)']"
   ]
  },
  {
   "cell_type": "code",
   "execution_count": 32,
   "metadata": {},
   "outputs": [],
   "source": [
    "rename_list = {'자산(*)(요약)(IFRS연결)':'자산', '자본(*)(요약)(IFRS연결)':'자본',\n",
    "       '차입금의존도(IFRS연결)':'차입금의존도', '유보율(IFRS연결)(백만원)':'유보율', '현금비율(IFRS연결)(백만원)':'현금비율',\n",
    "       '부채비율(IFRS연결)':'부채비율', '당좌비율(IFRS연결)':'당좌비율', '순운전자본비율(IFRS연결)':'순운전자본비율',\n",
    "       '*이자비용(요약)(IFRS연결)(백만원)':'이자비용', '* (정상)영업손익(보고서기재)(요약)(IFRS연결)(백만원)':'영업손익',\n",
    "       '감가상각비(IFRS연결)(천원)':'감가상각비', 'EBITDA(IFRS)(백만원)':'EBITDA', '총자본정상영업이익률(IFRS연결)':'총자본정상영업이익률',\n",
    "       '자기자본순이익률(IFRS연결)':'자기자본순이익률', '총자본순이익률(IFRS연결)':'총자본순이익률', '매출액총이익률(IFRS연결)':'매출액총이익률',\n",
    "       '금융손익비율(IFRS연결)':'금융손익비율', '경영자본순이익률(IFRS연결)':'경영자본순이익률', '자본금회전률(IFRS연결)':'자본금회전률',\n",
    "       '유형자산회전율(IFRS연결)':'유형자산회전율', '재고자산회전률(IFRS연결)':'재고자산회전률', '자기자본회전률(IFRS연결)':'자기자본회전률',\n",
    "       '타인자본회전률(IFRS연결)':'타인자본회전률', '총자본회전률(IFRS연결)':'총자본회전률', '[제조]자본(*)(요약)(IFRS연결)(백만원)':'자본',\n",
    "       '[제조]      이익잉여금(결손금)(요약)(IFRS연결)(백만원)':'이익잉여금',\n",
    "       '[제조]영업활동으로 인한 현금흐름(간접법)(*)(요약)(IFRS연결)(백만원)':'영업활동으로 인한 현금흐름',\n",
    "       '매출액(수익)(요약)(IFRS연결)(백만원)':'매출액', '금융원가(요약)(IFRS연결)(백만원)':'금융원가',\n",
    "       '금융수익(요약)(IFRS연결)(백만원)':'금융수익', '법인세비용차감전순이익(손실)(요약)(IFRS연결)(백만원)':'법인세비용차감전순이익',\n",
    "       '당기순이익(손실)(요약)(IFRS연결)(백만원)':'당기순이익', '자산(*)(요약)(IFRS연결)(백만원)':'자산',\n",
    "       '부채(*)(요약)(IFRS연결)(백만원)':'부채', '외국인_주식분포비율':'외국인지분율', '보통주식비율':'대주주지분율',\n",
    "       '단기차입금(요약)(IFRS연결)(백만원)':'단기차입금', '[제조]      유동성장기부채(요약)(IFRS연결)':'유동성장기부채',\n",
    "       '시가총액(백만원)':'시가총액','연구개발비(IFRS연결)(백만원)':'연구개발비','직원인건비총액(백만원)':'직원인건비총액'}\n",
    "\n",
    "df.rename(columns=rename_list,inplace=True)"
   ]
  },
  {
   "cell_type": "code",
   "execution_count": 36,
   "metadata": {},
   "outputs": [],
   "source": [
    "df['상장일'] = pd.to_datetime(df['상장일'],format='%Y/%m/%d').dt.strftime('%Y').astype(int)\n",
    "df = df[df['회계년도']>2011].reset_index(drop=True)"
   ]
  },
  {
   "cell_type": "code",
   "execution_count": 37,
   "metadata": {},
   "outputs": [
    {
     "data": {
      "text/plain": [
       "회사명                            0\n",
       "거래소코드                          0\n",
       "회계년도                           0\n",
       "자산                          1456\n",
       "자본                          1456\n",
       "차입금의존도                      1641\n",
       "유보율                         1641\n",
       "현금비율                        1641\n",
       "부채비율                        1641\n",
       "당좌비율                        1641\n",
       "순운전자본비율                     1641\n",
       "이자비용                        1456\n",
       "영업손익                        1456\n",
       "감가상각비                       1456\n",
       "EBITDA                      1643\n",
       "총자본정상영업이익률                  1641\n",
       "자기자본순이익률                    1641\n",
       "총자본순이익률                     1641\n",
       "매출액총이익률                     1641\n",
       "금융비용부담률(IFRS연결)             1641\n",
       "경영자본순이익률                    1641\n",
       "자본금회전률                      1641\n",
       "유형자산회전율                     1641\n",
       "재고자산회전률                     1641\n",
       "자기자본회전률                     1641\n",
       "타인자본회전률                     1641\n",
       "총자본회전률                      1641\n",
       "자본                          1456\n",
       "이익잉여금                       1456\n",
       "영업활동으로 인한 현금흐름              1456\n",
       "매출액                         1456\n",
       "금융원가                        1456\n",
       "금융수익                        1456\n",
       "법인세비용차감전순이익                 1456\n",
       "당기순이익                       1456\n",
       "자산                          1456\n",
       "부채                          1456\n",
       "외국인지분율                      2583\n",
       "대주주지분율                      2147\n",
       "단기차입금                       4826\n",
       "유동성장기부채(요약)(IFRS연결)(백만원)    1456\n",
       "상장일                            0\n",
       "시가총액                        3049\n",
       "장단기금리차                         0\n",
       "cpi                            0\n",
       "유형자산증가율                     2087\n",
       "매출액증가율                      2103\n",
       "자기자본증가율                     2085\n",
       "총자본증가율                      2085\n",
       "정상영업이익증가율                   2085\n",
       "업력                             0\n",
       "누적수익성비율                     1457\n",
       "이자부담률                       1645\n",
       "부채상환계수                      4896\n",
       "현금흐름 대 자산                   2085\n",
       "현금흐름 대 매출액                  1459\n",
       "토빈Q                         3341\n",
       "TMD                         3341\n",
       "시총/총자산                      3341\n",
       "연구개발비                       1456\n",
       "RD                          1460\n",
       "직원수변동률%                     2917\n",
       "직원인건비총액                     2234\n",
       "EBIT/총자산                    1457\n",
       "PBR                         3341\n",
       "PER                         3341\n",
       "dtype: int64"
      ]
     },
     "execution_count": 37,
     "metadata": {},
     "output_type": "execute_result"
    }
   ],
   "source": [
    "pd.set_option('display.max_rows',None)\n",
    "df.isna().sum()"
   ]
  },
  {
   "cell_type": "code",
   "execution_count": 38,
   "metadata": {},
   "outputs": [
    {
     "name": "stdout",
     "output_type": "stream",
     "text": [
      "<class 'pandas.core.frame.DataFrame'>\n",
      "RangeIndex: 14077 entries, 0 to 14076\n",
      "Data columns (total 66 columns):\n",
      " #   Column                    Non-Null Count  Dtype  \n",
      "---  ------                    --------------  -----  \n",
      " 0   회사명                       14077 non-null  object \n",
      " 1   거래소코드                     14077 non-null  object \n",
      " 2   회계년도                      14077 non-null  int64  \n",
      " 3   자산                        12621 non-null  float64\n",
      " 4   자본                        12621 non-null  float64\n",
      " 5   차입금의존도                    12436 non-null  float64\n",
      " 6   유보율                       12436 non-null  float64\n",
      " 7   현금비율                      12436 non-null  float64\n",
      " 8   부채비율                      12436 non-null  float64\n",
      " 9   당좌비율                      12436 non-null  float64\n",
      " 10  순운전자본비율                   12436 non-null  float64\n",
      " 11  이자비용                      12621 non-null  float64\n",
      " 12  영업손익                      12621 non-null  float64\n",
      " 13  감가상각비                     12621 non-null  float64\n",
      " 14  EBITDA                    12434 non-null  float64\n",
      " 15  총자본정상영업이익률                12436 non-null  float64\n",
      " 16  자기자본순이익률                  12436 non-null  float64\n",
      " 17  총자본순이익률                   12436 non-null  float64\n",
      " 18  매출액총이익률                   12436 non-null  float64\n",
      " 19  금융비용부담률(IFRS연결)           12436 non-null  float64\n",
      " 20  경영자본순이익률                  12436 non-null  float64\n",
      " 21  자본금회전률                    12436 non-null  float64\n",
      " 22  유형자산회전율                   12436 non-null  float64\n",
      " 23  재고자산회전률                   12436 non-null  float64\n",
      " 24  자기자본회전률                   12436 non-null  float64\n",
      " 25  타인자본회전률                   12436 non-null  float64\n",
      " 26  총자본회전률                    12436 non-null  float64\n",
      " 27  자본                        12621 non-null  float64\n",
      " 28  이익잉여금                     12621 non-null  float64\n",
      " 29  영업활동으로 인한 현금흐름            12621 non-null  float64\n",
      " 30  매출액                       12621 non-null  float64\n",
      " 31  금융원가                      12621 non-null  float64\n",
      " 32  금융수익                      12621 non-null  float64\n",
      " 33  법인세비용차감전순이익               12621 non-null  float64\n",
      " 34  당기순이익                     12621 non-null  float64\n",
      " 35  자산                        12621 non-null  float64\n",
      " 36  부채                        12621 non-null  float64\n",
      " 37  외국인지분율                    11494 non-null  float64\n",
      " 38  대주주지분율                    11930 non-null  float64\n",
      " 39  단기차입금                     9251 non-null   float64\n",
      " 40  유동성장기부채(요약)(IFRS연결)(백만원)  12621 non-null  float64\n",
      " 41  상장일                       14077 non-null  int32  \n",
      " 42  시가총액                      11028 non-null  float64\n",
      " 43  장단기금리차                    14077 non-null  float64\n",
      " 44  cpi                       14077 non-null  float64\n",
      " 45  유형자산증가율                   11990 non-null  float64\n",
      " 46  매출액증가율                    11974 non-null  float64\n",
      " 47  자기자본증가율                   11992 non-null  float64\n",
      " 48  총자본증가율                    11992 non-null  float64\n",
      " 49  정상영업이익증가율                 11992 non-null  float64\n",
      " 50  업력                        14077 non-null  int64  \n",
      " 51  누적수익성비율                   12620 non-null  float64\n",
      " 52  이자부담률                     12432 non-null  float64\n",
      " 53  부채상환계수                    9181 non-null   float64\n",
      " 54  현금흐름 대 자산                 11992 non-null  float64\n",
      " 55  현금흐름 대 매출액                12618 non-null  float64\n",
      " 56  토빈Q                       10736 non-null  float64\n",
      " 57  TMD                       10736 non-null  float64\n",
      " 58  시총/총자산                    10736 non-null  float64\n",
      " 59  연구개발비                     12621 non-null  float64\n",
      " 60  RD                        12617 non-null  float64\n",
      " 61  직원수변동률%                   11160 non-null  float64\n",
      " 62  직원인건비총액                   11843 non-null  float64\n",
      " 63  EBIT/총자산                  12620 non-null  float64\n",
      " 64  PBR                       10736 non-null  float64\n",
      " 65  PER                       10736 non-null  float64\n",
      "dtypes: float64(61), int32(1), int64(2), object(2)\n",
      "memory usage: 7.0+ MB\n"
     ]
    }
   ],
   "source": [
    "df.info()"
   ]
  },
  {
   "attachments": {},
   "cell_type": "markdown",
   "metadata": {},
   "source": [
    "-----"
   ]
  },
  {
   "attachments": {},
   "cell_type": "markdown",
   "metadata": {},
   "source": [
    "-----"
   ]
  },
  {
   "cell_type": "code",
   "execution_count": 40,
   "metadata": {},
   "outputs": [
    {
     "data": {
      "text/html": [
       "<div>\n",
       "<style scoped>\n",
       "    .dataframe tbody tr th:only-of-type {\n",
       "        vertical-align: middle;\n",
       "    }\n",
       "\n",
       "    .dataframe tbody tr th {\n",
       "        vertical-align: top;\n",
       "    }\n",
       "\n",
       "    .dataframe thead th {\n",
       "        text-align: right;\n",
       "    }\n",
       "</style>\n",
       "<table border=\"1\" class=\"dataframe\">\n",
       "  <thead>\n",
       "    <tr style=\"text-align: right;\">\n",
       "      <th></th>\n",
       "      <th>회사명</th>\n",
       "      <th>거래소코드</th>\n",
       "      <th>회계년도</th>\n",
       "      <th>자산</th>\n",
       "      <th>자본</th>\n",
       "      <th>차입금의존도</th>\n",
       "      <th>유보율</th>\n",
       "      <th>현금비율</th>\n",
       "      <th>부채비율</th>\n",
       "      <th>당좌비율</th>\n",
       "      <th>...</th>\n",
       "      <th>토빈Q</th>\n",
       "      <th>TMD</th>\n",
       "      <th>시총/총자산</th>\n",
       "      <th>연구개발비</th>\n",
       "      <th>RD</th>\n",
       "      <th>직원수변동률%</th>\n",
       "      <th>직원인건비총액</th>\n",
       "      <th>EBIT/총자산</th>\n",
       "      <th>PBR</th>\n",
       "      <th>PER</th>\n",
       "    </tr>\n",
       "  </thead>\n",
       "  <tbody>\n",
       "    <tr>\n",
       "      <th>1408</th>\n",
       "      <td>(주)디피앤케이</td>\n",
       "      <td>189700</td>\n",
       "      <td>2012</td>\n",
       "      <td>NaN</td>\n",
       "      <td>NaN</td>\n",
       "      <td>NaN</td>\n",
       "      <td>NaN</td>\n",
       "      <td>NaN</td>\n",
       "      <td>NaN</td>\n",
       "      <td>NaN</td>\n",
       "      <td>...</td>\n",
       "      <td>NaN</td>\n",
       "      <td>NaN</td>\n",
       "      <td>NaN</td>\n",
       "      <td>NaN</td>\n",
       "      <td>NaN</td>\n",
       "      <td>NaN</td>\n",
       "      <td>NaN</td>\n",
       "      <td>NaN</td>\n",
       "      <td>NaN</td>\n",
       "      <td>NaN</td>\n",
       "    </tr>\n",
       "    <tr>\n",
       "      <th>1409</th>\n",
       "      <td>(주)디피앤케이</td>\n",
       "      <td>189700</td>\n",
       "      <td>2013</td>\n",
       "      <td>NaN</td>\n",
       "      <td>NaN</td>\n",
       "      <td>NaN</td>\n",
       "      <td>NaN</td>\n",
       "      <td>NaN</td>\n",
       "      <td>NaN</td>\n",
       "      <td>NaN</td>\n",
       "      <td>...</td>\n",
       "      <td>NaN</td>\n",
       "      <td>NaN</td>\n",
       "      <td>NaN</td>\n",
       "      <td>NaN</td>\n",
       "      <td>NaN</td>\n",
       "      <td>NaN</td>\n",
       "      <td>NaN</td>\n",
       "      <td>NaN</td>\n",
       "      <td>NaN</td>\n",
       "      <td>NaN</td>\n",
       "    </tr>\n",
       "    <tr>\n",
       "      <th>1410</th>\n",
       "      <td>(주)디피앤케이</td>\n",
       "      <td>189700</td>\n",
       "      <td>2014</td>\n",
       "      <td>9950.0</td>\n",
       "      <td>5006.0</td>\n",
       "      <td>34.48</td>\n",
       "      <td>111.24</td>\n",
       "      <td>0.71</td>\n",
       "      <td>98.78</td>\n",
       "      <td>115.79</td>\n",
       "      <td>...</td>\n",
       "      <td>NaN</td>\n",
       "      <td>NaN</td>\n",
       "      <td>NaN</td>\n",
       "      <td>190.433</td>\n",
       "      <td>0.015276</td>\n",
       "      <td>NaN</td>\n",
       "      <td>6895.098</td>\n",
       "      <td>0.176583</td>\n",
       "      <td>NaN</td>\n",
       "      <td>NaN</td>\n",
       "    </tr>\n",
       "    <tr>\n",
       "      <th>1411</th>\n",
       "      <td>(주)디피앤케이</td>\n",
       "      <td>189700</td>\n",
       "      <td>2015</td>\n",
       "      <td>17343.0</td>\n",
       "      <td>5305.0</td>\n",
       "      <td>56.88</td>\n",
       "      <td>45.63</td>\n",
       "      <td>3.32</td>\n",
       "      <td>226.93</td>\n",
       "      <td>73.24</td>\n",
       "      <td>...</td>\n",
       "      <td>NaN</td>\n",
       "      <td>NaN</td>\n",
       "      <td>NaN</td>\n",
       "      <td>218.307</td>\n",
       "      <td>0.016674</td>\n",
       "      <td>4.761905</td>\n",
       "      <td>9466.490</td>\n",
       "      <td>-0.060889</td>\n",
       "      <td>NaN</td>\n",
       "      <td>NaN</td>\n",
       "    </tr>\n",
       "    <tr>\n",
       "      <th>1412</th>\n",
       "      <td>(주)디피앤케이</td>\n",
       "      <td>189700</td>\n",
       "      <td>2016</td>\n",
       "      <td>13443.0</td>\n",
       "      <td>908.0</td>\n",
       "      <td>63.70</td>\n",
       "      <td>-75.06</td>\n",
       "      <td>0.37</td>\n",
       "      <td>1379.80</td>\n",
       "      <td>79.16</td>\n",
       "      <td>...</td>\n",
       "      <td>NaN</td>\n",
       "      <td>NaN</td>\n",
       "      <td>NaN</td>\n",
       "      <td>207.013</td>\n",
       "      <td>0.012446</td>\n",
       "      <td>-9.090909</td>\n",
       "      <td>8609.240</td>\n",
       "      <td>-0.263111</td>\n",
       "      <td>NaN</td>\n",
       "      <td>NaN</td>\n",
       "    </tr>\n",
       "  </tbody>\n",
       "</table>\n",
       "<p>5 rows × 66 columns</p>\n",
       "</div>"
      ],
      "text/plain": [
       "           회사명   거래소코드  회계년도       자산      자본  차입금의존도     유보율  현금비율     부채비율  \\\n",
       "1408  (주)디피앤케이  189700  2012      NaN     NaN     NaN     NaN   NaN      NaN   \n",
       "1409  (주)디피앤케이  189700  2013      NaN     NaN     NaN     NaN   NaN      NaN   \n",
       "1410  (주)디피앤케이  189700  2014   9950.0  5006.0   34.48  111.24  0.71    98.78   \n",
       "1411  (주)디피앤케이  189700  2015  17343.0  5305.0   56.88   45.63  3.32   226.93   \n",
       "1412  (주)디피앤케이  189700  2016  13443.0   908.0   63.70  -75.06  0.37  1379.80   \n",
       "\n",
       "        당좌비율  ...  토빈Q  TMD  시총/총자산    연구개발비        RD   직원수변동률%   직원인건비총액  \\\n",
       "1408     NaN  ...  NaN  NaN     NaN      NaN       NaN       NaN       NaN   \n",
       "1409     NaN  ...  NaN  NaN     NaN      NaN       NaN       NaN       NaN   \n",
       "1410  115.79  ...  NaN  NaN     NaN  190.433  0.015276       NaN  6895.098   \n",
       "1411   73.24  ...  NaN  NaN     NaN  218.307  0.016674  4.761905  9466.490   \n",
       "1412   79.16  ...  NaN  NaN     NaN  207.013  0.012446 -9.090909  8609.240   \n",
       "\n",
       "      EBIT/총자산  PBR  PER  \n",
       "1408       NaN  NaN  NaN  \n",
       "1409       NaN  NaN  NaN  \n",
       "1410  0.176583  NaN  NaN  \n",
       "1411 -0.060889  NaN  NaN  \n",
       "1412 -0.263111  NaN  NaN  \n",
       "\n",
       "[5 rows x 66 columns]"
      ]
     },
     "execution_count": 40,
     "metadata": {},
     "output_type": "execute_result"
    }
   ],
   "source": [
    "df[df['거래소코드']=='189700']"
   ]
  },
  {
   "cell_type": "code",
   "execution_count": null,
   "metadata": {},
   "outputs": [],
   "source": []
  }
 ],
 "metadata": {
  "kernelspec": {
   "display_name": "base",
   "language": "python",
   "name": "python3"
  },
  "language_info": {
   "codemirror_mode": {
    "name": "ipython",
    "version": 3
   },
   "file_extension": ".py",
   "mimetype": "text/x-python",
   "name": "python",
   "nbconvert_exporter": "python",
   "pygments_lexer": "ipython3",
   "version": "3.9.13"
  },
  "orig_nbformat": 4
 },
 "nbformat": 4,
 "nbformat_minor": 2
}
