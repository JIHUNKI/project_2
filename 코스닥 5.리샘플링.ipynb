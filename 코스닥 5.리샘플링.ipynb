{
 "cells": [
  {
   "cell_type": "code",
   "execution_count": 63,
   "metadata": {},
   "outputs": [
    {
     "data": {
      "text/plain": [
       "RandomState(MT19937) at 0x28C61AF5540"
      ]
     },
     "execution_count": 63,
     "metadata": {},
     "output_type": "execute_result"
    }
   ],
   "source": [
    "import pandas as pd\n",
    "from sklearn.datasets import make_classification\n",
    "from imblearn.over_sampling import RandomOverSampler, SMOTE, ADASYN, BorderlineSMOTE, SMOTENC\n",
    "from imblearn.under_sampling import RandomUnderSampler, TomekLinks, NearMiss, ClusterCentroids, EditedNearestNeighbours\n",
    "\n",
    "import pandas as pd \n",
    "import numpy as np\n",
    "\n",
    "\n",
    "from sklearn.discriminant_analysis import LinearDiscriminantAnalysis\n",
    "from sklearn.linear_model import LogisticRegression, LinearRegression\n",
    "\n",
    "from sklearn.ensemble import RandomForestClassifier\n",
    "from xgboost import XGBClassifier\n",
    "\n",
    "from sklearn.feature_selection import SelectFromModel, SequentialFeatureSelector\n",
    "from sklearn.naive_bayes import GaussianNB\n",
    "\n",
    "from sklearn.metrics import f1_score,accuracy_score,recall_score,precision_score,confusion_matrix,roc_auc_score\n",
    "\n",
    "import warnings\n",
    "warnings.simplefilter('ignore')\n",
    "\n",
    "\n",
    "np.random.RandomState(1)"
   ]
  },
  {
   "cell_type": "code",
   "execution_count": 64,
   "metadata": {},
   "outputs": [],
   "source": [
    "def model_basic(x_train, y_train, x_test, y_test):\n",
    "    models = [\n",
    "        LogisticRegression(),\n",
    "        LinearDiscriminantAnalysis(),\n",
    "        GaussianNB(),\n",
    "        RandomForestClassifier(class_weight={0:1,1:10}),\n",
    "        XGBClassifier(),\n",
    "        \n",
    "    ]\n",
    "\n",
    "    rdict = {'model': [], 'accuracy': [], 'precision': [], 'recall': [], 'f1_score': [], 'auc_score': []}\n",
    "\n",
    "    for clf in models:\n",
    "        clf = clf.fit(x_train, y_train)\n",
    "        pred = clf.predict(x_test)\n",
    "        pred_prob_rf = clf.predict_proba(x_test)[:, 1].reshape(-1, 1)\n",
    "        auc_score = roc_auc_score(y_test, pred_prob_rf)\n",
    "        results = (\n",
    "            round(accuracy_score(y_test, pred), 4),\n",
    "            round(precision_score(y_test, pred), 4),\n",
    "            round(recall_score(y_test, pred), 4),\n",
    "            round(f1_score(y_test, pred), 4),\n",
    "            round(auc_score, 4)\n",
    "        )\n",
    "\n",
    "        rdict['model'].append(clf)\n",
    "        rdict['accuracy'].append(results[0])\n",
    "        rdict['precision'].append(results[1])\n",
    "        rdict['recall'].append(results[2])\n",
    "        rdict['f1_score'].append(results[3])\n",
    "        rdict['auc_score'].append(results[4])\n",
    "\n",
    "        confusion = confusion_matrix(y_test, pred)\n",
    "        print(confusion)\n",
    "\n",
    "    rdf = pd.DataFrame(data=rdict)\n",
    "    return rdf"
   ]
  },
  {
   "cell_type": "code",
   "execution_count": 65,
   "metadata": {},
   "outputs": [],
   "source": [
    "def over(df, target, method='random', sampling_strategy=1.0):\n",
    "    \n",
    "    # 타겟 변수와 특성 변수를 분리\n",
    "    X = df\n",
    "    y = target\n",
    "    \n",
    "    if method == 'random':\n",
    "        # RandomOverSampler 객체 생성, sampling_strategy 값 설정\n",
    "        oversampler = RandomOverSampler(sampling_strategy=sampling_strategy)\n",
    "\n",
    "    elif method == 'smote':\n",
    "        # SMOTE 객체 생성, sampling_strategy 값 설정\n",
    "        oversampler = SMOTE(sampling_strategy=sampling_strategy)\n",
    "\n",
    "    elif method == 'adasyn':\n",
    "        # adasyn 객체 생성, sampling_strategy 값 설정\n",
    "        oversampler = ADASYN(sampling_strategy=sampling_strategy)\n",
    "\n",
    "    elif method == 'Borderline-SMOTE':\n",
    "        # Borderline-SMOTE 객체 생성, sampling_strategy 값 설정\n",
    "        oversampler = BorderlineSMOTE(sampling_strategy=sampling_strategy)\n",
    "\n",
    "    elif method == 'SMOTENC':\n",
    "        # SMOTENC 객체 생성, sampling_strategy 값 설정\n",
    "        oversampler = SMOTENC(sampling_strategy=sampling_strategy)\n",
    "\n",
    "    \n",
    "    # 오버샘플링 수행\n",
    "    X_resampled, y_resampled = oversampler.fit_resample(X, y)\n",
    "\n",
    "    # 오버샘플링된 데이터 프레임 생성\n",
    "    df_over = pd.concat([X_resampled, y_resampled], axis=1)\n",
    "\n",
    "    return df_over\n"
   ]
  },
  {
   "cell_type": "code",
   "execution_count": 66,
   "metadata": {},
   "outputs": [],
   "source": [
    "def under(df, target, method='random', sampling_strategy=1.0):\n",
    "    \n",
    "    # 타겟 변수와 특성 변수를 분리\n",
    "    X = df\n",
    "    y = target\n",
    "\n",
    "    if method == 'random':\n",
    "        # RandomUnderSampler 객체 생성, sampling_strategy 값 설정\n",
    "        undersampler = RandomUnderSampler(sampling_strategy=sampling_strategy)\n",
    "\n",
    "    elif method == 'tomek':\n",
    "        # TomekLinks 객체 생성, sampling_strategy 값 설정\n",
    "        undersampler = TomekLinks(sampling_strategy=sampling_strategy)\n",
    "\n",
    "    elif method == 'NearMiss':\n",
    "        # NearMiss 객체 생성, sampling_strategy 값 설정\n",
    "        undersampler = NearMiss(sampling_strategy=sampling_strategy)\n",
    "\n",
    "    elif method == 'cluster_centroids':\n",
    "        # ClusterCentroids 객체 생성, sampling_strategy 값 설정\n",
    "        undersampler = ClusterCentroids(sampling_strategy=sampling_strategy)\n",
    "\n",
    "    elif method == 'edited_nn':\n",
    "        # EditedNearestNeighbours 객체 생성, sampling_strategy 값 설정\n",
    "        undersampler = EditedNearestNeighbours(sampling_strategy=sampling_strategy)\n",
    "\n",
    "    # 언더샘플링 수행\n",
    "    X_resampled, y_resampled = undersampler.fit_resample(X, y)\n",
    "\n",
    "    # 언더샘플링된 데이터 프레임 생성\n",
    "    df_under = pd.concat([X_resampled, y_resampled], axis=1)\n",
    "\n",
    "    return df_under"
   ]
  },
  {
   "attachments": {},
   "cell_type": "markdown",
   "metadata": {},
   "source": [
    "---\n",
    "# target1"
   ]
  },
  {
   "cell_type": "code",
   "execution_count": 67,
   "metadata": {},
   "outputs": [],
   "source": [
    "train = pd.read_csv(\"./datasets/통계검증완료/코스닥_standard_train.csv\", index_col=0)\n",
    "test = pd.read_csv(\"./datasets/통계검증완료/코스닥_standard_test.csv\", index_col=0)\n",
    "\n",
    "최종_col_1= ['EBIT/총자산', '현금흐름 대 자산', '누적수익성비율', 'abs(영업현금흐름-당기순이익)/매출액', '총자본회전률',\n",
    "       '금융비용부담률', 'TMD', '자기자본순이익률']\n",
    "\n",
    "\n",
    "x_train = train[최종_col_1]\n",
    "y_train = train[\"target_1\"]\n",
    "\n",
    "x_test = test[최종_col_1]\n",
    "y_test = test[\"target_1\"]\n",
    "\n"
   ]
  },
  {
   "cell_type": "code",
   "execution_count": 68,
   "metadata": {},
   "outputs": [
    {
     "data": {
      "text/plain": [
       "0    5086\n",
       "1     174\n",
       "Name: target_1, dtype: int64"
      ]
     },
     "execution_count": 68,
     "metadata": {},
     "output_type": "execute_result"
    }
   ],
   "source": [
    "y_train.value_counts()"
   ]
  },
  {
   "cell_type": "code",
   "execution_count": 69,
   "metadata": {},
   "outputs": [
    {
     "data": {
      "text/plain": [
       "0    3503\n",
       "1      89\n",
       "Name: target_1, dtype: int64"
      ]
     },
     "execution_count": 69,
     "metadata": {},
     "output_type": "execute_result"
    }
   ],
   "source": [
    "y_test.value_counts()"
   ]
  },
  {
   "cell_type": "code",
   "execution_count": 70,
   "metadata": {},
   "outputs": [
    {
     "name": "stdout",
     "output_type": "stream",
     "text": [
      "[[161  17]\n",
      " [ 17  72]]\n",
      "[[160  18]\n",
      " [ 17  72]]\n",
      "[[151  27]\n",
      " [ 13  76]]\n",
      "[[174   4]\n",
      " [ 35  54]]\n",
      "[[173   5]\n",
      " [ 32  57]]\n"
     ]
    },
    {
     "data": {
      "text/html": [
       "<div>\n",
       "<style scoped>\n",
       "    .dataframe tbody tr th:only-of-type {\n",
       "        vertical-align: middle;\n",
       "    }\n",
       "\n",
       "    .dataframe tbody tr th {\n",
       "        vertical-align: top;\n",
       "    }\n",
       "\n",
       "    .dataframe thead th {\n",
       "        text-align: right;\n",
       "    }\n",
       "</style>\n",
       "<table border=\"1\" class=\"dataframe\">\n",
       "  <thead>\n",
       "    <tr style=\"text-align: right;\">\n",
       "      <th></th>\n",
       "      <th>model</th>\n",
       "      <th>accuracy</th>\n",
       "      <th>precision</th>\n",
       "      <th>recall</th>\n",
       "      <th>f1_score</th>\n",
       "      <th>auc_score</th>\n",
       "    </tr>\n",
       "  </thead>\n",
       "  <tbody>\n",
       "    <tr>\n",
       "      <th>0</th>\n",
       "      <td>LogisticRegression()</td>\n",
       "      <td>0.8727</td>\n",
       "      <td>0.8090</td>\n",
       "      <td>0.8090</td>\n",
       "      <td>0.8090</td>\n",
       "      <td>0.9284</td>\n",
       "    </tr>\n",
       "    <tr>\n",
       "      <th>1</th>\n",
       "      <td>LinearDiscriminantAnalysis()</td>\n",
       "      <td>0.8689</td>\n",
       "      <td>0.8000</td>\n",
       "      <td>0.8090</td>\n",
       "      <td>0.8045</td>\n",
       "      <td>0.9288</td>\n",
       "    </tr>\n",
       "    <tr>\n",
       "      <th>2</th>\n",
       "      <td>GaussianNB()</td>\n",
       "      <td>0.8502</td>\n",
       "      <td>0.7379</td>\n",
       "      <td>0.8539</td>\n",
       "      <td>0.7917</td>\n",
       "      <td>0.9252</td>\n",
       "    </tr>\n",
       "    <tr>\n",
       "      <th>3</th>\n",
       "      <td>(DecisionTreeClassifier(max_features='sqrt', r...</td>\n",
       "      <td>0.8539</td>\n",
       "      <td>0.9310</td>\n",
       "      <td>0.6067</td>\n",
       "      <td>0.7347</td>\n",
       "      <td>0.9465</td>\n",
       "    </tr>\n",
       "    <tr>\n",
       "      <th>4</th>\n",
       "      <td>XGBClassifier(base_score=None, booster=None, c...</td>\n",
       "      <td>0.8614</td>\n",
       "      <td>0.9194</td>\n",
       "      <td>0.6404</td>\n",
       "      <td>0.7550</td>\n",
       "      <td>0.9357</td>\n",
       "    </tr>\n",
       "  </tbody>\n",
       "</table>\n",
       "</div>"
      ],
      "text/plain": [
       "                                               model  accuracy  precision  \\\n",
       "0                               LogisticRegression()    0.8727     0.8090   \n",
       "1                       LinearDiscriminantAnalysis()    0.8689     0.8000   \n",
       "2                                       GaussianNB()    0.8502     0.7379   \n",
       "3  (DecisionTreeClassifier(max_features='sqrt', r...    0.8539     0.9310   \n",
       "4  XGBClassifier(base_score=None, booster=None, c...    0.8614     0.9194   \n",
       "\n",
       "   recall  f1_score  auc_score  \n",
       "0  0.8090    0.8090     0.9284  \n",
       "1  0.8090    0.8045     0.9288  \n",
       "2  0.8539    0.7917     0.9252  \n",
       "3  0.6067    0.7347     0.9465  \n",
       "4  0.6404    0.7550     0.9357  "
      ]
     },
     "execution_count": 70,
     "metadata": {},
     "output_type": "execute_result"
    }
   ],
   "source": [
    "train_1 =over(train[최종_col_1],train[\"target_1\"], method='Borderline-SMOTE', sampling_strategy=0.5)\n",
    "\n",
    "test_1 =under(test[최종_col_1],test[\"target_1\"], method='random', sampling_strategy=0.5)\n",
    "\n",
    "model_basic(train_1[최종_col_1], train_1[\"target_1\"], test_1[최종_col_1], test_1[\"target_1\"])\n"
   ]
  },
  {
   "attachments": {},
   "cell_type": "markdown",
   "metadata": {},
   "source": [
    "--- \n",
    "# targer2"
   ]
  },
  {
   "cell_type": "code",
   "execution_count": 71,
   "metadata": {},
   "outputs": [],
   "source": [
    "train = pd.read_csv(\"./datasets/통계검증완료/코스닥_standard_train.csv\", index_col=0)\n",
    "test = pd.read_csv(\"./datasets/통계검증완료/코스닥_standard_test.csv\", index_col=0)\n",
    "\n",
    "train.loc[~(train['산업군'].str.contains('제조업') | train['산업군'].str.contains('건설업') | train['산업군'].str.contains('정보통신업')), '산업군'] = '그 외'\n",
    "dummy_df = pd.get_dummies(train['산업군'])\n",
    "train = pd.concat([train,dummy_df],axis=1)\n",
    "test.loc[~(test['산업군'].str.contains('제조업') | test['산업군'].str.contains('건설업') | test['산업군'].str.contains('정보통신업')), '산업군'] = '그 외'\n",
    "dummy_df = pd.get_dummies(test['산업군'])\n",
    "test = pd.concat([test,dummy_df],axis=1)\n",
    "\n",
    "\n",
    "최종_col_2= ['총자본정상영업이익률', '순운전자본비율', '누적수익성비율', 'abs(영업현금흐름-당기순이익)/매출액', '금융비용부담률', 'TMD', '매출액총이익률']\n",
    "\n",
    "\n",
    "x_train = train[최종_col_2]\n",
    "y_train = train[\"target_2\"]\n",
    "\n",
    "x_test = test[최종_col_2]\n",
    "y_test = test[\"target_2\"]\n",
    "\n"
   ]
  },
  {
   "cell_type": "code",
   "execution_count": 72,
   "metadata": {},
   "outputs": [
    {
     "name": "stdout",
     "output_type": "stream",
     "text": [
      "[[147  27]\n",
      " [ 18  69]]\n",
      "[[147  27]\n",
      " [ 20  67]]\n",
      "[[143  31]\n",
      " [ 19  68]]\n",
      "[[163  11]\n",
      " [ 38  49]]\n",
      "[[160  14]\n",
      " [ 33  54]]\n"
     ]
    },
    {
     "data": {
      "text/html": [
       "<div>\n",
       "<style scoped>\n",
       "    .dataframe tbody tr th:only-of-type {\n",
       "        vertical-align: middle;\n",
       "    }\n",
       "\n",
       "    .dataframe tbody tr th {\n",
       "        vertical-align: top;\n",
       "    }\n",
       "\n",
       "    .dataframe thead th {\n",
       "        text-align: right;\n",
       "    }\n",
       "</style>\n",
       "<table border=\"1\" class=\"dataframe\">\n",
       "  <thead>\n",
       "    <tr style=\"text-align: right;\">\n",
       "      <th></th>\n",
       "      <th>model</th>\n",
       "      <th>accuracy</th>\n",
       "      <th>precision</th>\n",
       "      <th>recall</th>\n",
       "      <th>f1_score</th>\n",
       "      <th>auc_score</th>\n",
       "    </tr>\n",
       "  </thead>\n",
       "  <tbody>\n",
       "    <tr>\n",
       "      <th>0</th>\n",
       "      <td>LogisticRegression()</td>\n",
       "      <td>0.8276</td>\n",
       "      <td>0.7188</td>\n",
       "      <td>0.7931</td>\n",
       "      <td>0.7541</td>\n",
       "      <td>0.8432</td>\n",
       "    </tr>\n",
       "    <tr>\n",
       "      <th>1</th>\n",
       "      <td>LinearDiscriminantAnalysis()</td>\n",
       "      <td>0.8199</td>\n",
       "      <td>0.7128</td>\n",
       "      <td>0.7701</td>\n",
       "      <td>0.7403</td>\n",
       "      <td>0.8433</td>\n",
       "    </tr>\n",
       "    <tr>\n",
       "      <th>2</th>\n",
       "      <td>GaussianNB()</td>\n",
       "      <td>0.8084</td>\n",
       "      <td>0.6869</td>\n",
       "      <td>0.7816</td>\n",
       "      <td>0.7312</td>\n",
       "      <td>0.8356</td>\n",
       "    </tr>\n",
       "    <tr>\n",
       "      <th>3</th>\n",
       "      <td>(DecisionTreeClassifier(max_features='sqrt', r...</td>\n",
       "      <td>0.8123</td>\n",
       "      <td>0.8167</td>\n",
       "      <td>0.5632</td>\n",
       "      <td>0.6667</td>\n",
       "      <td>0.8521</td>\n",
       "    </tr>\n",
       "    <tr>\n",
       "      <th>4</th>\n",
       "      <td>XGBClassifier(base_score=None, booster=None, c...</td>\n",
       "      <td>0.8199</td>\n",
       "      <td>0.7941</td>\n",
       "      <td>0.6207</td>\n",
       "      <td>0.6968</td>\n",
       "      <td>0.8447</td>\n",
       "    </tr>\n",
       "  </tbody>\n",
       "</table>\n",
       "</div>"
      ],
      "text/plain": [
       "                                               model  accuracy  precision  \\\n",
       "0                               LogisticRegression()    0.8276     0.7188   \n",
       "1                       LinearDiscriminantAnalysis()    0.8199     0.7128   \n",
       "2                                       GaussianNB()    0.8084     0.6869   \n",
       "3  (DecisionTreeClassifier(max_features='sqrt', r...    0.8123     0.8167   \n",
       "4  XGBClassifier(base_score=None, booster=None, c...    0.8199     0.7941   \n",
       "\n",
       "   recall  f1_score  auc_score  \n",
       "0  0.7931    0.7541     0.8432  \n",
       "1  0.7701    0.7403     0.8433  \n",
       "2  0.7816    0.7312     0.8356  \n",
       "3  0.5632    0.6667     0.8521  \n",
       "4  0.6207    0.6968     0.8447  "
      ]
     },
     "execution_count": 72,
     "metadata": {},
     "output_type": "execute_result"
    }
   ],
   "source": [
    "train_1 =over(train[최종_col_2],train[\"target_2\"], method='Borderline-SMOTE', sampling_strategy=0.5)\n",
    "\n",
    "test_1 =under(test[최종_col_2],test[\"target_2\"], method='random', sampling_strategy=0.5)\n",
    "\n",
    "model_basic(train_1[최종_col_2], train_1[\"target_2\"], test_1[최종_col_2], test_1[\"target_2\"])\n",
    "\n"
   ]
  },
  {
   "attachments": {},
   "cell_type": "markdown",
   "metadata": {},
   "source": [
    "----\n",
    "# target3"
   ]
  },
  {
   "cell_type": "code",
   "execution_count": 73,
   "metadata": {},
   "outputs": [],
   "source": [
    "train = pd.read_csv(\"./datasets/통계검증완료/코스닥_standard_train.csv\", index_col=0)\n",
    "test = pd.read_csv(\"./datasets/통계검증완료/코스닥_standard_test.csv\", index_col=0)\n",
    "\n",
    "최종_col_3= ['EBIT/총자산', '현금흐름 대 자산', '순운전자본비율', '누적수익성비율', 'abs(영업현금흐름-당기순이익)/매출액',\n",
    "       '총자본회전률', '금융비용부담률', '당기전기영업손익', '총자본증가율', 'TMD']\n",
    "\n",
    "\n",
    "x_train = train[최종_col_3]\n",
    "y_train = train[\"target_3\"]\n",
    "\n",
    "x_test = test[최종_col_3]\n",
    "y_test = test[\"target_3\"]\n",
    "\n"
   ]
  },
  {
   "cell_type": "code",
   "execution_count": 104,
   "metadata": {},
   "outputs": [
    {
     "name": "stdout",
     "output_type": "stream",
     "text": [
      "[[129  15]\n",
      " [ 11  61]]\n",
      "[[130  14]\n",
      " [ 10  62]]\n",
      "[[118  26]\n",
      " [  8  64]]\n",
      "[[140   4]\n",
      " [ 33  39]]\n",
      "[[138   6]\n",
      " [ 21  51]]\n"
     ]
    },
    {
     "data": {
      "text/html": [
       "<div>\n",
       "<style scoped>\n",
       "    .dataframe tbody tr th:only-of-type {\n",
       "        vertical-align: middle;\n",
       "    }\n",
       "\n",
       "    .dataframe tbody tr th {\n",
       "        vertical-align: top;\n",
       "    }\n",
       "\n",
       "    .dataframe thead th {\n",
       "        text-align: right;\n",
       "    }\n",
       "</style>\n",
       "<table border=\"1\" class=\"dataframe\">\n",
       "  <thead>\n",
       "    <tr style=\"text-align: right;\">\n",
       "      <th></th>\n",
       "      <th>model</th>\n",
       "      <th>accuracy</th>\n",
       "      <th>precision</th>\n",
       "      <th>recall</th>\n",
       "      <th>f1_score</th>\n",
       "      <th>auc_score</th>\n",
       "    </tr>\n",
       "  </thead>\n",
       "  <tbody>\n",
       "    <tr>\n",
       "      <th>0</th>\n",
       "      <td>LogisticRegression()</td>\n",
       "      <td>0.8796</td>\n",
       "      <td>0.8026</td>\n",
       "      <td>0.8472</td>\n",
       "      <td>0.8243</td>\n",
       "      <td>0.9402</td>\n",
       "    </tr>\n",
       "    <tr>\n",
       "      <th>1</th>\n",
       "      <td>LinearDiscriminantAnalysis()</td>\n",
       "      <td>0.8889</td>\n",
       "      <td>0.8158</td>\n",
       "      <td>0.8611</td>\n",
       "      <td>0.8378</td>\n",
       "      <td>0.9564</td>\n",
       "    </tr>\n",
       "    <tr>\n",
       "      <th>2</th>\n",
       "      <td>GaussianNB()</td>\n",
       "      <td>0.8426</td>\n",
       "      <td>0.7111</td>\n",
       "      <td>0.8889</td>\n",
       "      <td>0.7901</td>\n",
       "      <td>0.9361</td>\n",
       "    </tr>\n",
       "    <tr>\n",
       "      <th>3</th>\n",
       "      <td>(DecisionTreeClassifier(max_features='sqrt', r...</td>\n",
       "      <td>0.8287</td>\n",
       "      <td>0.9070</td>\n",
       "      <td>0.5417</td>\n",
       "      <td>0.6783</td>\n",
       "      <td>0.9504</td>\n",
       "    </tr>\n",
       "    <tr>\n",
       "      <th>4</th>\n",
       "      <td>XGBClassifier(base_score=None, booster=None, c...</td>\n",
       "      <td>0.8750</td>\n",
       "      <td>0.8947</td>\n",
       "      <td>0.7083</td>\n",
       "      <td>0.7907</td>\n",
       "      <td>0.9495</td>\n",
       "    </tr>\n",
       "  </tbody>\n",
       "</table>\n",
       "</div>"
      ],
      "text/plain": [
       "                                               model  accuracy  precision  \\\n",
       "0                               LogisticRegression()    0.8796     0.8026   \n",
       "1                       LinearDiscriminantAnalysis()    0.8889     0.8158   \n",
       "2                                       GaussianNB()    0.8426     0.7111   \n",
       "3  (DecisionTreeClassifier(max_features='sqrt', r...    0.8287     0.9070   \n",
       "4  XGBClassifier(base_score=None, booster=None, c...    0.8750     0.8947   \n",
       "\n",
       "   recall  f1_score  auc_score  \n",
       "0  0.8472    0.8243     0.9402  \n",
       "1  0.8611    0.8378     0.9564  \n",
       "2  0.8889    0.7901     0.9361  \n",
       "3  0.5417    0.6783     0.9504  \n",
       "4  0.7083    0.7907     0.9495  "
      ]
     },
     "execution_count": 104,
     "metadata": {},
     "output_type": "execute_result"
    }
   ],
   "source": [
    "train_1 =over(train[최종_col_3],train[\"target_3\"], method='Borderline-SMOTE', sampling_strategy=0.5)\n",
    "\n",
    "test_1 =under(test[최종_col_3],test[\"target_3\"], method='random', sampling_strategy=0.5)\n",
    "\n",
    "model_basic(train_1[최종_col_3], train_1[\"target_3\"], test_1[최종_col_3], test_1[\"target_3\"])"
   ]
  },
  {
   "cell_type": "code",
   "execution_count": 78,
   "metadata": {},
   "outputs": [
    {
     "data": {
      "text/html": [
       "<div>\n",
       "<style scoped>\n",
       "    .dataframe tbody tr th:only-of-type {\n",
       "        vertical-align: middle;\n",
       "    }\n",
       "\n",
       "    .dataframe tbody tr th {\n",
       "        vertical-align: top;\n",
       "    }\n",
       "\n",
       "    .dataframe thead th {\n",
       "        text-align: right;\n",
       "    }\n",
       "</style>\n",
       "<table border=\"1\" class=\"dataframe\">\n",
       "  <thead>\n",
       "    <tr style=\"text-align: right;\">\n",
       "      <th></th>\n",
       "      <th>EBIT/총자산</th>\n",
       "      <th>현금흐름 대 자산</th>\n",
       "      <th>순운전자본비율</th>\n",
       "      <th>누적수익성비율</th>\n",
       "      <th>abs(영업현금흐름-당기순이익)/매출액</th>\n",
       "      <th>총자본회전률</th>\n",
       "      <th>금융비용부담률</th>\n",
       "      <th>당기전기영업손익</th>\n",
       "      <th>총자본증가율</th>\n",
       "      <th>TMD</th>\n",
       "    </tr>\n",
       "  </thead>\n",
       "  <tbody>\n",
       "    <tr>\n",
       "      <th>0</th>\n",
       "      <td>-0.546261</td>\n",
       "      <td>-0.944629</td>\n",
       "      <td>-0.13122</td>\n",
       "      <td>-0.817811</td>\n",
       "      <td>0.310797</td>\n",
       "      <td>-0.567727</td>\n",
       "      <td>0.314356</td>\n",
       "      <td>-0.451339</td>\n",
       "      <td>-0.373292</td>\n",
       "      <td>0.595246</td>\n",
       "    </tr>\n",
       "  </tbody>\n",
       "</table>\n",
       "</div>"
      ],
      "text/plain": [
       "   EBIT/총자산  현금흐름 대 자산  순운전자본비율   누적수익성비율  abs(영업현금흐름-당기순이익)/매출액    총자본회전률  \\\n",
       "0 -0.546261  -0.944629 -0.13122 -0.817811               0.310797 -0.567727   \n",
       "\n",
       "    금융비용부담률  당기전기영업손익    총자본증가율       TMD  \n",
       "0  0.314356 -0.451339 -0.373292  0.595246  "
      ]
     },
     "execution_count": 78,
     "metadata": {},
     "output_type": "execute_result"
    }
   ],
   "source": [
    "# 확인 \n",
    "estimator= LinearDiscriminantAnalysis()\n",
    "estimator.fit(train_1[최종_col_3], train_1[\"target_3\"])\n",
    "pd.DataFrame(estimator.coef_,columns=최종_col_3)"
   ]
  },
  {
   "cell_type": "code",
   "execution_count": 101,
   "metadata": {},
   "outputs": [],
   "source": [
    "estimator= LinearDiscriminantAnalysis()\n",
    "estimator.fit(train_1[최종_col_3], train_1[\"target_3\"])\n",
    "scores = estimator.transform(train_1[최종_col_3])\n",
    "\n",
    "\n",
    "group1_score = scores[train_1[\"target_3\"] == 0].mean()\n",
    "group2_score = scores[train_1[\"target_3\"] == 1].mean()"
   ]
  },
  {
   "cell_type": "code",
   "execution_count": 102,
   "metadata": {},
   "outputs": [
    {
     "data": {
      "text/plain": [
       "-0.8373358644800822"
      ]
     },
     "execution_count": 102,
     "metadata": {},
     "output_type": "execute_result"
    }
   ],
   "source": [
    "group1_score"
   ]
  },
  {
   "cell_type": "code",
   "execution_count": 103,
   "metadata": {},
   "outputs": [
    {
     "data": {
      "text/plain": [
       "1.675000482734989"
      ]
     },
     "execution_count": 103,
     "metadata": {},
     "output_type": "execute_result"
    }
   ],
   "source": [
    "group2_score"
   ]
  },
  {
   "cell_type": "code",
   "execution_count": null,
   "metadata": {},
   "outputs": [],
   "source": []
  }
 ],
 "metadata": {
  "kernelspec": {
   "display_name": "Python 3",
   "language": "python",
   "name": "python3"
  },
  "language_info": {
   "codemirror_mode": {
    "name": "ipython",
    "version": 3
   },
   "file_extension": ".py",
   "mimetype": "text/x-python",
   "name": "python",
   "nbconvert_exporter": "python",
   "pygments_lexer": "ipython3",
   "version": "3.9.13"
  },
  "orig_nbformat": 4
 },
 "nbformat": 4,
 "nbformat_minor": 2
}
